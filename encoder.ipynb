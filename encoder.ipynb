{
 "metadata": {
  "language_info": {
   "codemirror_mode": {
    "name": "ipython",
    "version": 3
   },
   "file_extension": ".py",
   "mimetype": "text/x-python",
   "name": "python",
   "nbconvert_exporter": "python",
   "pygments_lexer": "ipython3",
   "version": "3.9.5"
  },
  "orig_nbformat": 2,
  "kernelspec": {
   "name": "python395jvsc74a57bd003dd13d48678367c8c9c8d2bc4e4058efaffff37d2a70d9886c86b6aa2328a71",
   "display_name": "Python 3.9.5 64-bit ('myenv': conda)"
  },
  "metadata": {
   "interpreter": {
    "hash": "03dd13d48678367c8c9c8d2bc4e4058efaffff37d2a70d9886c86b6aa2328a71"
   }
  }
 },
 "nbformat": 4,
 "nbformat_minor": 2,
 "cells": [
  {
   "cell_type": "code",
   "execution_count": 3,
   "metadata": {},
   "outputs": [],
   "source": [
    "import torch\n",
    "import torch.nn as nn\n",
    "import torch.nn.functional as F\n",
    "import torch.optim as optim\n",
    "import matplotlib.pyplot as plt\n",
    "import os\n",
    "from gait import preprocess,fetch_labels\n",
    "from utils import *\n",
    "from tqdm import tqdm\n",
    "import cv2\n",
    "# from torchvision import transforms"
   ]
  },
  {
   "cell_type": "code",
   "execution_count": 4,
   "metadata": {},
   "outputs": [],
   "source": [
    "# paths = get_keyposepath()"
   ]
  },
  {
   "cell_type": "code",
   "execution_count": 5,
   "metadata": {},
   "outputs": [
    {
     "output_type": "stream",
     "name": "stderr",
     "text": [
      "100%|██████████| 124/124 [00:00<00:00, 429.46it/s]\n"
     ]
    }
   ],
   "source": [
    "os.chdir('/home/ishikaa/Downloads/')\n",
    "labels = fetch_labels(label_angle='000',save=False,override=True)\n",
    "files = [filename for filename, _ in labels.items()]"
   ]
  },
  {
   "cell_type": "code",
   "execution_count": 13,
   "metadata": {},
   "outputs": [],
   "source": [
    "\n",
    "class Autoencoder(nn.Module):\n",
    "    def __init__(self):\n",
    "        super(Autoencoder, self).__init__()\n",
    "        self.encoder = nn.Sequential( # like the Composition layer you built\n",
    "            nn.Conv2d(1, 16, 3, stride=2, padding=1),\n",
    "            nn.ReLU(),\n",
    "            nn.Conv2d(16, 32, 3, stride=2, padding=1),\n",
    "            nn.ReLU(),\n",
    "            nn.Conv2d(32, 64, 7)\n",
    "        )\n",
    "        self.decoder = nn.Sequential(\n",
    "            nn.ConvTranspose2d(64, 32, 7),\n",
    "            nn.ReLU(),\n",
    "            nn.ConvTranspose2d(32, 16, 3, stride=2, padding=1, output_padding=1),\n",
    "            nn.ReLU(),\n",
    "            nn.ConvTranspose2d(16, 1, 3, stride=2, padding=1, output_padding=1),\n",
    "            nn.Sigmoid()\n",
    "        )\n",
    "\n",
    "    def forward(self, x):\n",
    "        x = self.encoder(x)\n",
    "        x = self.decoder(x)\n",
    "        return x"
   ]
  },
  {
   "cell_type": "code",
   "execution_count": 14,
   "metadata": {},
   "outputs": [
    {
     "output_type": "stream",
     "name": "stdout",
     "text": [
      "cuda:0\n"
     ]
    },
    {
     "output_type": "execute_result",
     "data": {
      "text/plain": [
       "Autoencoder(\n",
       "  (encoder): Sequential(\n",
       "    (0): Conv2d(1, 16, kernel_size=(3, 3), stride=(2, 2), padding=(1, 1))\n",
       "    (1): ReLU()\n",
       "    (2): Conv2d(16, 32, kernel_size=(3, 3), stride=(2, 2), padding=(1, 1))\n",
       "    (3): ReLU()\n",
       "    (4): Conv2d(32, 64, kernel_size=(7, 7), stride=(1, 1))\n",
       "  )\n",
       "  (decoder): Sequential(\n",
       "    (0): ConvTranspose2d(64, 32, kernel_size=(7, 7), stride=(1, 1))\n",
       "    (1): ReLU()\n",
       "    (2): ConvTranspose2d(32, 16, kernel_size=(3, 3), stride=(2, 2), padding=(1, 1), output_padding=(1, 1))\n",
       "    (3): ReLU()\n",
       "    (4): ConvTranspose2d(16, 1, kernel_size=(3, 3), stride=(2, 2), padding=(1, 1), output_padding=(1, 1))\n",
       "    (5): Sigmoid()\n",
       "  )\n",
       ")"
      ]
     },
     "metadata": {},
     "execution_count": 14
    }
   ],
   "source": [
    "ae = Autoencoder()\n",
    "device = get_device()\n",
    "print(device)\n",
    "ae.to(device)"
   ]
  },
  {
   "cell_type": "code",
   "execution_count": 15,
   "metadata": {},
   "outputs": [],
   "source": [
    "class MyDataset():\n",
    "\n",
    "    def __init__(self, files,transform=None):\n",
    "        \"\"\"\n",
    "        Custom dataset for images of a certain keypose at a given angle.\n",
    "\n",
    "        Args:\n",
    "            angle (int)     : Angle\n",
    "            keypose (int)   : Key-pose/Cluster\n",
    "            data_path (str) : Path where dataset is downloaded\n",
    "        \"\"\"\n",
    "        self.images = [preprocess(cv2.imread(file))/255 for file in files]\n",
    "\n",
    "    def __len__(self):\n",
    "        return len(self.images)\n",
    "\n",
    "    def __getitem__(self, idx):\n",
    "        image = self.images[idx]\n",
    "        image = image.reshape(1,image.shape[0],image.shape[1])\n",
    "        return image\n"
   ]
  },
  {
   "cell_type": "code",
   "execution_count": 16,
   "metadata": {},
   "outputs": [],
   "source": [
    "train = files[:8000]\n",
    "test = files[8000:10000]\n",
    "data = MyDataset(train)\n",
    "dl = torch.utils.data.DataLoader(data, 32, True)\n",
    "\n",
    "#Loss function\n",
    "criterion = nn.BCELoss()\n",
    "#Optimizer\n",
    "optimizer = torch.optim.Adam(ae.parameters(), lr=0.001)"
   ]
  },
  {
   "cell_type": "code",
   "execution_count": 19,
   "metadata": {},
   "outputs": [
    {
     "output_type": "stream",
     "name": "stdout",
     "text": [
      "Epoch: 1 \tTraining Loss: 0.687416\n",
      "Epoch: 2 \tTraining Loss: 0.684032\n",
      "Epoch: 3 \tTraining Loss: 0.679944\n",
      "Epoch: 4 \tTraining Loss: 0.676353\n",
      "Epoch: 5 \tTraining Loss: 0.672975\n"
     ]
    }
   ],
   "source": [
    "#Epochs\n",
    "n_epochs = 15\n",
    "\n",
    "for epoch in range(1, n_epochs+1):\n",
    "    # monitor training loss\n",
    "    train_loss = 0.0\n",
    "\n",
    "    #Training\n",
    "    for data in dl:\n",
    "        images = data\n",
    "        images = images.to(device,dtype=torch.float)\n",
    "        optimizer.zero_grad()\n",
    "        outputs = ae(images)\n",
    "        # print('Outputs.shape: ',outputs.shape,' Targets shape: ',images.shape)\n",
    "        loss = criterion(outputs, images)\n",
    "        loss.backward()\n",
    "        optimizer.step()\n",
    "        train_loss += loss.item()*images.size(0)\n",
    "          \n",
    "    train_loss = train_loss/len(dl)\n",
    "    print('Epoch: {} \\tTraining Loss: {:.6f}'.format(epoch, train_loss))"
   ]
  },
  {
   "cell_type": "code",
   "execution_count": 20,
   "metadata": {},
   "outputs": [],
   "source": [
    "images = preprocess(cv2.imread(files[0]))/255"
   ]
  },
  {
   "cell_type": "code",
   "execution_count": 24,
   "metadata": {},
   "outputs": [],
   "source": [
    "test_ds = MyDataset(test)\n",
    "test_dl = torch.utils.data.DataLoader(test_ds,batch_size=32)"
   ]
  },
  {
   "cell_type": "code",
   "execution_count": 21,
   "metadata": {},
   "outputs": [],
   "source": [
    "x = images.reshape(1,1,images.shape[0],images.shape[1])"
   ]
  },
  {
   "cell_type": "code",
   "execution_count": 22,
   "metadata": {},
   "outputs": [
    {
     "output_type": "error",
     "ename": "TypeError",
     "evalue": "can't convert cuda:0 device type tensor to numpy. Use Tensor.cpu() to copy the tensor to host memory first.",
     "traceback": [
      "\u001b[0;31m---------------------------------------------------------------------------\u001b[0m",
      "\u001b[0;31mTypeError\u001b[0m                                 Traceback (most recent call last)",
      "\u001b[0;32m<ipython-input-22-7bd6e041684f>\u001b[0m in \u001b[0;36m<module>\u001b[0;34m\u001b[0m\n\u001b[0;32m----> 1\u001b[0;31m \u001b[0mout\u001b[0m \u001b[0;34m=\u001b[0m \u001b[0mae\u001b[0m\u001b[0;34m(\u001b[0m\u001b[0mtorch\u001b[0m\u001b[0;34m.\u001b[0m\u001b[0mfrom_numpy\u001b[0m\u001b[0;34m(\u001b[0m\u001b[0mx\u001b[0m\u001b[0;34m)\u001b[0m\u001b[0;34m.\u001b[0m\u001b[0mto\u001b[0m\u001b[0;34m(\u001b[0m\u001b[0mdevice\u001b[0m\u001b[0;34m,\u001b[0m\u001b[0mdtype\u001b[0m\u001b[0;34m=\u001b[0m\u001b[0mtorch\u001b[0m\u001b[0;34m.\u001b[0m\u001b[0mfloat\u001b[0m\u001b[0;34m)\u001b[0m\u001b[0;34m)\u001b[0m\u001b[0;34m.\u001b[0m\u001b[0mdetach\u001b[0m\u001b[0;34m(\u001b[0m\u001b[0;34m)\u001b[0m\u001b[0;34m.\u001b[0m\u001b[0mnumpy\u001b[0m\u001b[0;34m(\u001b[0m\u001b[0;34m)\u001b[0m\u001b[0;34m.\u001b[0m\u001b[0mreshape\u001b[0m\u001b[0;34m(\u001b[0m\u001b[0;34m-\u001b[0m\u001b[0;36m1\u001b[0m\u001b[0;34m,\u001b[0m\u001b[0mout\u001b[0m\u001b[0;34m.\u001b[0m\u001b[0mshape\u001b[0m\u001b[0;34m[\u001b[0m\u001b[0;36m2\u001b[0m\u001b[0;34m]\u001b[0m\u001b[0;34m,\u001b[0m\u001b[0mout\u001b[0m\u001b[0;34m.\u001b[0m\u001b[0mshape\u001b[0m\u001b[0;34m[\u001b[0m\u001b[0;36m3\u001b[0m\u001b[0;34m]\u001b[0m\u001b[0;34m)\u001b[0m\u001b[0;34m\u001b[0m\u001b[0;34m\u001b[0m\u001b[0m\n\u001b[0m",
      "\u001b[0;31mTypeError\u001b[0m: can't convert cuda:0 device type tensor to numpy. Use Tensor.cpu() to copy the tensor to host memory first."
     ]
    }
   ],
   "source": [
    "out = ae(torch.from_numpy(x).to(device,dtype=torch.float)).detach().numpy().reshape(-1,out.shape[2],out.shape[3])"
   ]
  },
  {
   "cell_type": "code",
   "execution_count": 130,
   "metadata": {},
   "outputs": [],
   "source": [
    "cv2.imshow('',out.cpu().detach().numpy())\n",
    "# cv2.imshow('',)\n",
    "cv2.waitKey(0)\n",
    "cv2.destroyAllWindows()"
   ]
  },
  {
   "cell_type": "code",
   "execution_count": 34,
   "metadata": {},
   "outputs": [
    {
     "output_type": "display_data",
     "data": {
      "text/plain": "<Figure size 576x576 with 9 Axes>",
      "image/svg+xml": "<?xml version=\"1.0\" encoding=\"utf-8\" standalone=\"no\"?>\n<!DOCTYPE svg PUBLIC \"-//W3C//DTD SVG 1.1//EN\"\n  \"http://www.w3.org/Graphics/SVG/1.1/DTD/svg11.dtd\">\n<!-- Created with matplotlib (https://matplotlib.org/) -->\n<svg height=\"452.78pt\" version=\"1.1\" viewBox=\"0 0 428.935294 452.78\" width=\"428.935294pt\" xmlns=\"http://www.w3.org/2000/svg\" xmlns:xlink=\"http://www.w3.org/1999/xlink\">\n <metadata>\n  <rdf:RDF xmlns:cc=\"http://creativecommons.org/ns#\" xmlns:dc=\"http://purl.org/dc/elements/1.1/\" xmlns:rdf=\"http://www.w3.org/1999/02/22-rdf-syntax-ns#\">\n   <cc:Work>\n    <dc:type rdf:resource=\"http://purl.org/dc/dcmitype/StillImage\"/>\n    <dc:date>2021-06-01T16:32:17.909376</dc:date>\n    <dc:format>image/svg+xml</dc:format>\n    <dc:creator>\n     <cc:Agent>\n      <dc:title>Matplotlib v3.3.4, https://matplotlib.org/</dc:title>\n     </cc:Agent>\n    </dc:creator>\n   </cc:Work>\n  </rdf:RDF>\n </metadata>\n <defs>\n  <style type=\"text/css\">*{stroke-linecap:butt;stroke-linejoin:round;}</style>\n </defs>\n <g id=\"figure_1\">\n  <g id=\"patch_1\">\n   <path d=\"M 0 452.78 \nL 428.935294 452.78 \nL 428.935294 0 \nL 0 0 \nz\n\" style=\"fill:none;\"/>\n  </g>\n  <g id=\"axes_1\">\n   <g id=\"patch_2\">\n    <path d=\"M 10.7 135.105882 \nL 106.629412 135.105882 \nL 106.629412 7.2 \nL 10.7 7.2 \nz\n\" style=\"fill:#ffffff;\"/>\n   </g>\n   <g clip-path=\"url(#pe3fd1e4ccc)\">\n    <image height=\"128\" id=\"image7a88c30d2e\" transform=\"scale(1 -1)translate(0 -128)\" width=\"96\" x=\"10.7\" xlink:href=\"data:image/png;base64,\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\" y=\"-7.105882\"/>\n   </g>\n   <g id=\"matplotlib.axis_1\"/>\n   <g id=\"matplotlib.axis_2\"/>\n   <g id=\"patch_3\">\n    <path d=\"M 10.7 135.105882 \nL 10.7 7.2 \n\" style=\"fill:none;stroke:#000000;stroke-linecap:square;stroke-linejoin:miter;stroke-width:0.8;\"/>\n   </g>\n   <g id=\"patch_4\">\n    <path d=\"M 106.629412 135.105882 \nL 106.629412 7.2 \n\" style=\"fill:none;stroke:#000000;stroke-linecap:square;stroke-linejoin:miter;stroke-width:0.8;\"/>\n   </g>\n   <g id=\"patch_5\">\n    <path d=\"M 10.7 135.105882 \nL 106.629412 135.105882 \n\" style=\"fill:none;stroke:#000000;stroke-linecap:square;stroke-linejoin:miter;stroke-width:0.8;\"/>\n   </g>\n   <g id=\"patch_6\">\n    <path d=\"M 10.7 7.2 \nL 106.629412 7.2 \n\" style=\"fill:none;stroke:#000000;stroke-linecap:square;stroke-linejoin:miter;stroke-width:0.8;\"/>\n   </g>\n  </g>\n  <g id=\"axes_2\">\n   <g id=\"patch_7\">\n    <path d=\"M 168.252941 135.105882 \nL 264.182353 135.105882 \nL 264.182353 7.2 \nL 168.252941 7.2 \nz\n\" style=\"fill:#ffffff;\"/>\n   </g>\n   <g clip-path=\"url(#p4a6ce7f74d)\">\n    <image height=\"128\" id=\"imagea579bd9fc7\" transform=\"scale(1 -1)translate(0 -128)\" width=\"96\" x=\"168.252941\" xlink:href=\"data:image/png;base64,\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\" y=\"-7.105882\"/>\n   </g>\n   <g id=\"matplotlib.axis_3\"/>\n   <g id=\"matplotlib.axis_4\"/>\n   <g id=\"patch_8\">\n    <path d=\"M 168.252941 135.105882 \nL 168.252941 7.2 \n\" style=\"fill:none;stroke:#000000;stroke-linecap:square;stroke-linejoin:miter;stroke-width:0.8;\"/>\n   </g>\n   <g id=\"patch_9\">\n    <path d=\"M 264.182353 135.105882 \nL 264.182353 7.2 \n\" style=\"fill:none;stroke:#000000;stroke-linecap:square;stroke-linejoin:miter;stroke-width:0.8;\"/>\n   </g>\n   <g id=\"patch_10\">\n    <path d=\"M 168.252941 135.105882 \nL 264.182353 135.105882 \n\" style=\"fill:none;stroke:#000000;stroke-linecap:square;stroke-linejoin:miter;stroke-width:0.8;\"/>\n   </g>\n   <g id=\"patch_11\">\n    <path d=\"M 168.252941 7.2 \nL 264.182353 7.2 \n\" style=\"fill:none;stroke:#000000;stroke-linecap:square;stroke-linejoin:miter;stroke-width:0.8;\"/>\n   </g>\n  </g>\n  <g id=\"axes_3\">\n   <g id=\"patch_12\">\n    <path d=\"M 325.805882 135.105882 \nL 421.735294 135.105882 \nL 421.735294 7.2 \nL 325.805882 7.2 \nz\n\" style=\"fill:#ffffff;\"/>\n   </g>\n   <g clip-path=\"url(#pf2f11819b9)\">\n    <image height=\"128\" id=\"image821a1ec3d0\" transform=\"scale(1 -1)translate(0 -128)\" width=\"96\" x=\"325.805882\" xlink:href=\"data:image/png;base64,\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\" y=\"-7.105882\"/>\n   </g>\n   <g id=\"matplotlib.axis_5\"/>\n   <g id=\"matplotlib.axis_6\"/>\n   <g id=\"patch_13\">\n    <path d=\"M 325.805882 135.105882 \nL 325.805882 7.2 \n\" style=\"fill:none;stroke:#000000;stroke-linecap:square;stroke-linejoin:miter;stroke-width:0.8;\"/>\n   </g>\n   <g id=\"patch_14\">\n    <path d=\"M 421.735294 135.105882 \nL 421.735294 7.2 \n\" style=\"fill:none;stroke:#000000;stroke-linecap:square;stroke-linejoin:miter;stroke-width:0.8;\"/>\n   </g>\n   <g id=\"patch_15\">\n    <path d=\"M 325.805882 135.105882 \nL 421.735294 135.105882 \n\" style=\"fill:none;stroke:#000000;stroke-linecap:square;stroke-linejoin:miter;stroke-width:0.8;\"/>\n   </g>\n   <g id=\"patch_16\">\n    <path d=\"M 325.805882 7.2 \nL 421.735294 7.2 \n\" style=\"fill:none;stroke:#000000;stroke-linecap:square;stroke-linejoin:miter;stroke-width:0.8;\"/>\n   </g>\n  </g>\n  <g id=\"axes_4\">\n   <g id=\"patch_17\">\n    <path d=\"M 10.7 288.592941 \nL 106.629412 288.592941 \nL 106.629412 160.687059 \nL 10.7 160.687059 \nz\n\" style=\"fill:#ffffff;\"/>\n   </g>\n   <g clip-path=\"url(#pe5387541d4)\">\n    <image height=\"128\" id=\"imageacd43e7d02\" transform=\"scale(1 -1)translate(0 -128)\" width=\"96\" x=\"10.7\" xlink:href=\"data:image/png;base64,\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\" y=\"-160.592941\"/>\n   </g>\n   <g id=\"matplotlib.axis_7\"/>\n   <g id=\"matplotlib.axis_8\"/>\n   <g id=\"patch_18\">\n    <path d=\"M 10.7 288.592941 \nL 10.7 160.687059 \n\" style=\"fill:none;stroke:#000000;stroke-linecap:square;stroke-linejoin:miter;stroke-width:0.8;\"/>\n   </g>\n   <g id=\"patch_19\">\n    <path d=\"M 106.629412 288.592941 \nL 106.629412 160.687059 \n\" style=\"fill:none;stroke:#000000;stroke-linecap:square;stroke-linejoin:miter;stroke-width:0.8;\"/>\n   </g>\n   <g id=\"patch_20\">\n    <path d=\"M 10.7 288.592941 \nL 106.629412 288.592941 \n\" style=\"fill:none;stroke:#000000;stroke-linecap:square;stroke-linejoin:miter;stroke-width:0.8;\"/>\n   </g>\n   <g id=\"patch_21\">\n    <path d=\"M 10.7 160.687059 \nL 106.629412 160.687059 \n\" style=\"fill:none;stroke:#000000;stroke-linecap:square;stroke-linejoin:miter;stroke-width:0.8;\"/>\n   </g>\n  </g>\n  <g id=\"axes_5\">\n   <g id=\"patch_22\">\n    <path d=\"M 168.252941 288.592941 \nL 264.182353 288.592941 \nL 264.182353 160.687059 \nL 168.252941 160.687059 \nz\n\" style=\"fill:#ffffff;\"/>\n   </g>\n   <g clip-path=\"url(#pa84cd2ef08)\">\n    <image height=\"128\" id=\"image46b9126805\" transform=\"scale(1 -1)translate(0 -128)\" width=\"96\" x=\"168.252941\" xlink:href=\"data:image/png;base64,\niVBORw0KGgoAAAANSUhEUgAAAGAAAACACAYAAAD03Gy6AAAI/0lEQVR4nO2dXUhUTx/Hv3PWfX9rdTezdN3NJURKUaIkQhM1DPRChKAgKgiiVKQXhLDoLnoPgi66EArphUoqBInsIgoM6aJINElXe3VX3UrdKGx3zzwX/8cee/6lq+6emaPnA78bWXe+c747M7+ZOXMOAFC5hclkoi6Xi164cIGKokgnqampoUajkbm+WQZzAVGH3W6nhYWFtKGhgb5+/Zp++fKFTsXn89Hq6mpqt9uZa11QBtjtdlpSUkIbGhromzdv6NDQ0G+//Kl0dXXRzZs3M9ccbSRABmRlZeHUqVPIyMiA1Wqd9rMOhwNGo1EiZfNHYC0gGjQaDex2+4wXX47IwoCFzIIzQK/Xo6SkBOnp6aylRMWCM8BkMqG0tBRut5u1lKhYcAYA/4wZKpWKtYyo4N4AQRBgNpshCNxLnRNc14oQApfLhT179iApKYm1nLjA9TwgNTUVN27cQG5uLtRqNWs5cYHrFqDX65GXlzfri69SqWCz2WQxDnBtwMTEBHp6ehAOh2f1fw6HA7W1tUhJSYmTstjCfD3kb6HVamllZSUNBAJ/XPeZDp/PRz0eD/M6zBTct4Curi6EQiHWUuIG1wYsBmRhACGEtYS4IQsDKKWsJcQNWRgw1xYgh9kz/wrniNFoxI4dO7BkyRLWUmaEeSo2XaxatYr6/f5Zp6GUUhoKhbhPRRdsC5ALsjBAGYQZo6ShjFFaACMSEhKwbNmyOa9qEkKQnJzM/VI280zgb+FyuajX66XhcHhOWRCllLa3t9OsrCzmdflbcNsCNBoNnE4n0tPT57Wuv2LFCuh0uhgqiy1cGmA0GlFWVobz58/LYlNlPnBpQFpaGvbu3YucnBzWUuIOlwZotVokJycjIYHrLeuYwKUBhJAFnftPhTsDDAYD1q1bh8TERNZSJIE7A2w2G7Zv3w6n08laiiRwZwAhBFqtVhZr+bFgcdSSYxQDGMOdASqVKuYZEO/dGfP1kMlQqVT06tWrdHR0dM5rP//Pjx8/aFNTE125ciXz+v0puPppEEKQk5MT07NgOp0OmZmZMJlMMfvOWMKVAcDC3nz5E9wZsNhQDGAMNwaoVCq4XC5otVrWUiSFGwPMZjMaGxvh8XhYS5EUbgwghMBqtcZlAyYpKQnr16+HXq+P+XfPF24MiCdOpxNbt27l8jZFrgyI1+0nKpUKRqORyxkxN4oW0ybMVLgwwGKxYNu2bbI5VBdLuDDAZDKhrKwMDocjbmUQQpQu6G8QQqBWq+PaBXk8Hhw8eJA7E/hSE0fsdjuKioq4G2cWjQG8ohjAGMUAxiwqAwwGA9asWcPV/aaLyoC0tDQcO3aMq8daLioDdDod3G43V/ec8qNEIiwWC4qLi/Ht27ff/t7b24v+/n6Ioii5JqZ3BWg0Grplyxb68uXLmN0JMReam5tpdna25PVn0gIEQUBBQQGys7NhNBpRUVGB1atXs5Dyi/LycrS3t6Ozs1PSQ4GSG6BWq1FYWIijR48iNzcXgiBAp9Mxz0w0Gg00Go3k5UpqACEEBQUFOH78ODZu3Chl0dwiaRZECEF+fr5y8aewqNJQHlEMYIxiAGMUA6bgcDgkf0SyYsAUKisrUVpaKmmZkhpgsVi4vDdnEqfTieXLl0tapqQG7N69G3V1dVIWyT2SGqBSqZjPeKfD6/Xi/fv3kpapjAFTuHv3Lh4+fChpmYoBUxgdHcX4+LikZUpqQCQSYbLezjOSGvDixQs8e/ZMyiK5R1IDnjx5InkfyzuSjwFSbnbIAWUQZoxiAGMUAxijGMAYSQ2glCIYDEo+2eEZyQ24f/8+7ty5I2WxXCN5F+T3+9HR0YHBwUElJQUDA37+/Inm5ma0tbVxtSzx8eNH+Hw+yctlMhELBoMIBoNctYCmpibcvn1bck3MsiDeDsuxWihkdhV46n5YwtfPcBHCzIBQKIRIJMKq+F+Ioojnz5/j6dOnTF4aysSAcDiM1tZWvHr1ikXxvyGKIjo6OvD48eNZv7c4FjAxQBRFPHr0CN3d3VxkQiw1KGMAYxQDGMPUAL/fj2AwyFICxsfHMTIywrQbYnZALzMzk7a1tTE6lkepKIq0paWFZmRkUEIIk2vA9Jhqb28vRkZGWErAyMgIvF4vs/KZdkGUUgQCgX+d2V1MMG0Boiji3LlzCIVC2LVrl+TvjRkaGkJPT4+kZf4Jpge1BUGgHo+Hnj17NqaPrY+Ge/fu0aVLlzKtP3MDJk1IT0+nnZ2dkl38d+/e0cOHDzMbfH/VHRwgiiICgQBaWloQCATiukYUDofx4cMHXLx4EZcvX2Y+Eyf4bzPgAUEQUF9fj5ycHBQXF8f8KYqBQAA3b95Ed3c3rl+/jrGxsZh+/1zgygDgn0McKSkpKC8v/3VcyO12o6KiYk5v1hgbG8OtW7fg9/vh8/nQ2NiISCTCxUoswKEBwP8eYzm5a5aamoqioiJs2LABO3fujOrJh+Pj47h06RIGBgbw4MGDX7PdiYmJeMufNcwH4WiCEEKrqqpoJBKZcYD9/PkzPXHiBLXZbMwH2ZlCNg9sopRGtY1JKcXg4CBaW1vx9etXCZTNDy6yoFgyPDyMa9eucTHBigbZtIBoEEURJ0+exJUrVzA6OspaTlTIpgXo9foZD3lTSvH27VvZXHxARgbk5+dj//793N1PNF9kU5vExES4XK5pP0MIQUZGhqxeBi0bA6JBEARUV1ejqqoKZrOZtZyokIUBVqsVLpcLarV6xs+63W4cOXIEa9eulUDZ/JGFAXl5edi3b1/USxGCIMhmrOBepdVqRUlJCWw2W9T/YzabsWnTJlgsljgqix3Mp+PThcfjof39/VQUxajX+kVRpF6vl9t3CE8N7luAIAgwGAyzevUIIQQGg0EW3RD/Chc4igGMkYUBc9k8kcsBEO4N+PTpE86cOYOBgYGo9m8ppRgYGMDp06eZHLqbC8wzgZnC4XDQQ4cO0b6+vhkzoL6+PnrgwAFqt9uZ644ymAuIKux2O62traU+n++Paefw8DDt6+ujNTU1crr48jEAADWZTLSuru5fBnz//p3W19dTj8dDjUYjc52zif8AlCrjm1g754AAAAAASUVORK5CYII=\" y=\"-160.592941\"/>\n   </g>\n   <g id=\"matplotlib.axis_9\"/>\n   <g id=\"matplotlib.axis_10\"/>\n   <g id=\"patch_23\">\n    <path d=\"M 168.252941 288.592941 \nL 168.252941 160.687059 \n\" style=\"fill:none;stroke:#000000;stroke-linecap:square;stroke-linejoin:miter;stroke-width:0.8;\"/>\n   </g>\n   <g id=\"patch_24\">\n    <path d=\"M 264.182353 288.592941 \nL 264.182353 160.687059 \n\" style=\"fill:none;stroke:#000000;stroke-linecap:square;stroke-linejoin:miter;stroke-width:0.8;\"/>\n   </g>\n   <g id=\"patch_25\">\n    <path d=\"M 168.252941 288.592941 \nL 264.182353 288.592941 \n\" style=\"fill:none;stroke:#000000;stroke-linecap:square;stroke-linejoin:miter;stroke-width:0.8;\"/>\n   </g>\n   <g id=\"patch_26\">\n    <path d=\"M 168.252941 160.687059 \nL 264.182353 160.687059 \n\" style=\"fill:none;stroke:#000000;stroke-linecap:square;stroke-linejoin:miter;stroke-width:0.8;\"/>\n   </g>\n  </g>\n  <g id=\"axes_6\">\n   <g id=\"patch_27\">\n    <path d=\"M 325.805882 288.592941 \nL 421.735294 288.592941 \nL 421.735294 160.687059 \nL 325.805882 160.687059 \nz\n\" style=\"fill:#ffffff;\"/>\n   </g>\n   <g clip-path=\"url(#p5a2e258553)\">\n    <image height=\"128\" id=\"imaged6028f13eb\" transform=\"scale(1 -1)translate(0 -128)\" width=\"96\" x=\"325.805882\" xlink:href=\"data:image/png;base64,\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\" y=\"-160.592941\"/>\n   </g>\n   <g id=\"matplotlib.axis_11\"/>\n   <g id=\"matplotlib.axis_12\"/>\n   <g id=\"patch_28\">\n    <path d=\"M 325.805882 288.592941 \nL 325.805882 160.687059 \n\" style=\"fill:none;stroke:#000000;stroke-linecap:square;stroke-linejoin:miter;stroke-width:0.8;\"/>\n   </g>\n   <g id=\"patch_29\">\n    <path d=\"M 421.735294 288.592941 \nL 421.735294 160.687059 \n\" style=\"fill:none;stroke:#000000;stroke-linecap:square;stroke-linejoin:miter;stroke-width:0.8;\"/>\n   </g>\n   <g id=\"patch_30\">\n    <path d=\"M 325.805882 288.592941 \nL 421.735294 288.592941 \n\" style=\"fill:none;stroke:#000000;stroke-linecap:square;stroke-linejoin:miter;stroke-width:0.8;\"/>\n   </g>\n   <g id=\"patch_31\">\n    <path d=\"M 325.805882 160.687059 \nL 421.735294 160.687059 \n\" style=\"fill:none;stroke:#000000;stroke-linecap:square;stroke-linejoin:miter;stroke-width:0.8;\"/>\n   </g>\n  </g>\n  <g id=\"axes_7\">\n   <g id=\"patch_32\">\n    <path d=\"M 10.7 442.08 \nL 106.629412 442.08 \nL 106.629412 314.174118 \nL 10.7 314.174118 \nz\n\" style=\"fill:#ffffff;\"/>\n   </g>\n   <g clip-path=\"url(#pf281276981)\">\n    <image height=\"128\" id=\"image689b460f13\" transform=\"scale(1 -1)translate(0 -128)\" width=\"96\" x=\"10.7\" xlink:href=\"data:image/png;base64,\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\" y=\"-314.08\"/>\n   </g>\n   <g id=\"matplotlib.axis_13\"/>\n   <g id=\"matplotlib.axis_14\"/>\n   <g id=\"patch_33\">\n    <path d=\"M 10.7 442.08 \nL 10.7 314.174118 \n\" style=\"fill:none;stroke:#000000;stroke-linecap:square;stroke-linejoin:miter;stroke-width:0.8;\"/>\n   </g>\n   <g id=\"patch_34\">\n    <path d=\"M 106.629412 442.08 \nL 106.629412 314.174118 \n\" style=\"fill:none;stroke:#000000;stroke-linecap:square;stroke-linejoin:miter;stroke-width:0.8;\"/>\n   </g>\n   <g id=\"patch_35\">\n    <path d=\"M 10.7 442.08 \nL 106.629412 442.08 \n\" style=\"fill:none;stroke:#000000;stroke-linecap:square;stroke-linejoin:miter;stroke-width:0.8;\"/>\n   </g>\n   <g id=\"patch_36\">\n    <path d=\"M 10.7 314.174118 \nL 106.629412 314.174118 \n\" style=\"fill:none;stroke:#000000;stroke-linecap:square;stroke-linejoin:miter;stroke-width:0.8;\"/>\n   </g>\n  </g>\n  <g id=\"axes_8\">\n   <g id=\"patch_37\">\n    <path d=\"M 168.252941 442.08 \nL 264.182353 442.08 \nL 264.182353 314.174118 \nL 168.252941 314.174118 \nz\n\" style=\"fill:#ffffff;\"/>\n   </g>\n   <g clip-path=\"url(#p76bec72072)\">\n    <image height=\"128\" id=\"image27621577a6\" transform=\"scale(1 -1)translate(0 -128)\" width=\"96\" x=\"168.252941\" xlink:href=\"data:image/png;base64,\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\" y=\"-314.08\"/>\n   </g>\n   <g id=\"matplotlib.axis_15\"/>\n   <g id=\"matplotlib.axis_16\"/>\n   <g id=\"patch_38\">\n    <path d=\"M 168.252941 442.08 \nL 168.252941 314.174118 \n\" style=\"fill:none;stroke:#000000;stroke-linecap:square;stroke-linejoin:miter;stroke-width:0.8;\"/>\n   </g>\n   <g id=\"patch_39\">\n    <path d=\"M 264.182353 442.08 \nL 264.182353 314.174118 \n\" style=\"fill:none;stroke:#000000;stroke-linecap:square;stroke-linejoin:miter;stroke-width:0.8;\"/>\n   </g>\n   <g id=\"patch_40\">\n    <path d=\"M 168.252941 442.08 \nL 264.182353 442.08 \n\" style=\"fill:none;stroke:#000000;stroke-linecap:square;stroke-linejoin:miter;stroke-width:0.8;\"/>\n   </g>\n   <g id=\"patch_41\">\n    <path d=\"M 168.252941 314.174118 \nL 264.182353 314.174118 \n\" style=\"fill:none;stroke:#000000;stroke-linecap:square;stroke-linejoin:miter;stroke-width:0.8;\"/>\n   </g>\n  </g>\n  <g id=\"axes_9\">\n   <g id=\"patch_42\">\n    <path d=\"M 325.805882 442.08 \nL 421.735294 442.08 \nL 421.735294 314.174118 \nL 325.805882 314.174118 \nz\n\" style=\"fill:#ffffff;\"/>\n   </g>\n   <g clip-path=\"url(#p41859ffbc4)\">\n    <image height=\"128\" id=\"imageed226c49a2\" transform=\"scale(1 -1)translate(0 -128)\" width=\"96\" x=\"325.805882\" xlink:href=\"data:image/png;base64,\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\" y=\"-314.08\"/>\n   </g>\n   <g id=\"matplotlib.axis_17\"/>\n   <g id=\"matplotlib.axis_18\"/>\n   <g id=\"patch_43\">\n    <path d=\"M 325.805882 442.08 \nL 325.805882 314.174118 \n\" style=\"fill:none;stroke:#000000;stroke-linecap:square;stroke-linejoin:miter;stroke-width:0.8;\"/>\n   </g>\n   <g id=\"patch_44\">\n    <path d=\"M 421.735294 442.08 \nL 421.735294 314.174118 \n\" style=\"fill:none;stroke:#000000;stroke-linecap:square;stroke-linejoin:miter;stroke-width:0.8;\"/>\n   </g>\n   <g id=\"patch_45\">\n    <path d=\"M 325.805882 442.08 \nL 421.735294 442.08 \n\" style=\"fill:none;stroke:#000000;stroke-linecap:square;stroke-linejoin:miter;stroke-width:0.8;\"/>\n   </g>\n   <g id=\"patch_46\">\n    <path d=\"M 325.805882 314.174118 \nL 421.735294 314.174118 \n\" style=\"fill:none;stroke:#000000;stroke-linecap:square;stroke-linejoin:miter;stroke-width:0.8;\"/>\n   </g>\n  </g>\n </g>\n <defs>\n  <clipPath id=\"pe3fd1e4ccc\">\n   <rect height=\"127.905882\" width=\"95.929412\" x=\"10.7\" y=\"7.2\"/>\n  </clipPath>\n  <clipPath id=\"p4a6ce7f74d\">\n   <rect height=\"127.905882\" width=\"95.929412\" x=\"168.252941\" y=\"7.2\"/>\n  </clipPath>\n  <clipPath id=\"pf2f11819b9\">\n   <rect height=\"127.905882\" width=\"95.929412\" x=\"325.805882\" y=\"7.2\"/>\n  </clipPath>\n  <clipPath id=\"pe5387541d4\">\n   <rect height=\"127.905882\" width=\"95.929412\" x=\"10.7\" y=\"160.687059\"/>\n  </clipPath>\n  <clipPath id=\"pa84cd2ef08\">\n   <rect height=\"127.905882\" width=\"95.929412\" x=\"168.252941\" y=\"160.687059\"/>\n  </clipPath>\n  <clipPath id=\"p5a2e258553\">\n   <rect height=\"127.905882\" width=\"95.929412\" x=\"325.805882\" y=\"160.687059\"/>\n  </clipPath>\n  <clipPath id=\"pf281276981\">\n   <rect height=\"127.905882\" width=\"95.929412\" x=\"10.7\" y=\"314.174118\"/>\n  </clipPath>\n  <clipPath id=\"p76bec72072\">\n   <rect height=\"127.905882\" width=\"95.929412\" x=\"168.252941\" y=\"314.174118\"/>\n  </clipPath>\n  <clipPath id=\"p41859ffbc4\">\n   <rect height=\"127.905882\" width=\"95.929412\" x=\"325.805882\" y=\"314.174118\"/>\n  </clipPath>\n </defs>\n</svg>\n",
      "image/png": "[encoded data removed]"
     },
     "metadata": {}
    }
   ],
   "source": [
    "def imshow(img):\n",
    "    img = img \n",
    "    plt.imshow(np.transpose(img, (1, 2, 0)),cmap='gray',vmax=1) \n",
    "\n",
    "\n",
    "#Obtain one batch of training images\n",
    "dataiter = iter(dl)\n",
    "images = dataiter.next()\n",
    "images = images.numpy() # convert images to numpy for display\n",
    "\n",
    "#Plot the images\n",
    "fig = plt.figure(figsize=(8, 8))\n",
    "# display 20 images\n",
    "for idx in np.arange(9):\n",
    "    ax = fig.add_subplot(3, 3, idx+1, xticks=[], yticks=[])\n",
    "    imshow(images[idx])\n",
    "    # ax.set_title(classes[labels[idx]])"
   ]
  },
  {
   "cell_type": "code",
   "execution_count": 81,
   "metadata": {},
   "outputs": [],
   "source": [
    "dataiter = iter(test_dl)\n",
    "images = dataiter.next()\n",
    "\n",
    "model = model.float()\n",
    "\n",
    "#Sample outputs\n",
    "output = model(images)\n",
    "images = images.numpy()\n",
    "batch_size = 32\n",
    "output = output.view(batch_size, 1, 160, 120)\n",
    "output = output.detach().numpy()\n",
    "\n",
    "#Original Images\n",
    "print(\"Original Images\")\n",
    "fig, axes = plt.subplots(nrows=1, ncols=5, sharex=True, sharey=True, figsize=(12,4))\n",
    "for idx in np.arange(5):\n",
    "    ax = fig.add_subplot(1, 5, idx+1, xticks=[], yticks=[])\n",
    "    imshow(images[idx])\n",
    "plt.show()\n",
    "\n",
    "#Reconstructed Images\n",
    "print('Reconstructed Images')\n",
    "fig, axes = plt.subplots(nrows=1, ncols=5, sharex=True, sharey=True, figsize=(12,4))\n",
    "for idx in np.arange(5):\n",
    "    ax = fig.add_subplot(1, 5, idx+1, xticks=[], yticks=[])\n",
    "    imshow(output[idx])\n",
    "plt.show() "
   ]
  },
  {
   "cell_type": "code",
   "execution_count": 69,
   "metadata": {},
   "outputs": [],
   "source": [
    "ae = ae.float()\n",
    "torch.save(ae.state_dict(), '/home/ishikaa/Desktop/Repos/Gait-Occlusion-GAN/encoder_dict')"
   ]
  },
  {
   "cell_type": "code",
   "execution_count": 71,
   "metadata": {},
   "outputs": [
    {
     "output_type": "execute_result",
     "data": {
      "text/plain": [
       "<All keys matched successfully>"
      ]
     },
     "metadata": {},
     "execution_count": 71
    }
   ],
   "source": [
    "device = torch.device('cpu')\n",
    "model = Autoencoder()\n",
    "model.load_state_dict(torch.load('/home/ishikaa/Desktop/Repos/Gait-Occlusion-GAN/encoder_dict', map_location=device))"
   ]
  },
  {
   "cell_type": "code",
   "execution_count": 61,
   "metadata": {},
   "outputs": [],
   "source": [
    "images = images.double()"
   ]
  },
  {
   "cell_type": "code",
   "execution_count": 62,
   "metadata": {},
   "outputs": [
    {
     "output_type": "execute_result",
     "data": {
      "text/plain": [
       "torch.float64"
      ]
     },
     "metadata": {},
     "execution_count": 62
    }
   ],
   "source": [
    "images.dtype"
   ]
  },
  {
   "cell_type": "code",
   "execution_count": 65,
   "metadata": {},
   "outputs": [],
   "source": [
    "images = images.to(torch.double)"
   ]
  },
  {
   "cell_type": "code",
   "execution_count": 67,
   "metadata": {},
   "outputs": [
    {
     "output_type": "execute_result",
     "data": {
      "text/plain": [
       "torch.float64"
      ]
     },
     "metadata": {},
     "execution_count": 67
    }
   ],
   "source": [
    "images.dtype"
   ]
  },
  {
   "cell_type": "code",
   "execution_count": null,
   "metadata": {},
   "outputs": [],
   "source": []
  }
 ]
}