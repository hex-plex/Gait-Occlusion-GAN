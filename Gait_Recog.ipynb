{
 "cells": [
  {
   "cell_type": "code",
   "execution_count": 1,
   "metadata": {},
   "outputs": [],
   "source": [
    "import os\n",
    "import keras\n",
    "import tensorflow as tf\n",
    "import numpy as np\n",
    "import copy"
   ]
  },
  {
   "cell_type": "code",
   "execution_count": 2,
   "metadata": {},
   "outputs": [],
   "source": [
    "physical_devices = tf.config.list_physical_devices('GPU')\n",
    "tf.config.experimental.set_memory_growth(physical_devices[0], True)\n"
   ]
  },
  {
   "cell_type": "code",
   "execution_count": 3,
   "metadata": {},
   "outputs": [],
   "source": [
    "import gait\n",
    "from PIL import Image\n",
    "from tensorflow.keras.utils import plot_model\n",
    "from train import CVAE_FULL\n",
    "from tqdm import tqdm\n",
    "import cv2\n",
    "from train_birnn import model_BiRNN, ImageNoise\n",
    "from sklearn.ensemble import RandomForestClassifier\n",
    "from sklearn.metrics import accuracy_score\n",
    "import gc\n",
    "import pickle"
   ]
  },
  {
   "cell_type": "markdown",
   "metadata": {},
   "source": [
    "PCA"
   ]
  },
  {
   "cell_type": "code",
   "execution_count": 4,
   "metadata": {},
   "outputs": [],
   "source": [
    "EXP_NO = '044'\n",
    "ANGLE_NO = '090'\n",
    "gait_key_poses = 16\n",
    "image_vec_shape = 12\n",
    "conditional_vec_shape = 4\n",
    "full_vec_shape = image_vec_shape+conditional_vec_shape\n",
    "labels = ['nm-01', 'nm-02', 'nm-03', 'nm-04', 'nm-05', 'nm-06']"
   ]
  },
  {
   "cell_type": "code",
   "execution_count": 3,
   "metadata": {},
   "outputs": [],
   "source": [
    "labels = ['nm-01', 'nm-02', 'nm-03', 'nm-04', 'nm-05', 'nm-06']\n",
    "batch_imgs = [None for _ in labels]\n",
    "pro_imgs = [None for _ in labels]\n",
    "names = [None for _ in labels]\n",
    "for i, label in enumerate(labels):\n",
    "    batch_imgs[i] = []\n",
    "    names[i] = []\n",
    "    for file in os.listdir('/'.join([\n",
    "                                os.getcwd(),\n",
    "                                'GaitDatasetB-silh',\n",
    "                                EXP_NO,\n",
    "                                label,\n",
    "                                ANGLE_NO\n",
    "                                ])):\n",
    "        if file[-3:]!='png':\n",
    "            continue\n",
    "        \n",
    "        batch_imgs[i].append(\n",
    "                    gait.preprocess(\n",
    "                        cv2.imread('/'.join([\n",
    "                                            os.getcwd(),\n",
    "                                            'GaitDatasetB-silh',\n",
    "                                            EXP_NO,\n",
    "                                            label,\n",
    "                                            ANGLE_NO,\n",
    "                                            file\n",
    "                                        ])\n",
    "                                   )\n",
    "                                )\n",
    "                            )\n",
    "        names[i].append(\n",
    "            '/'.join([\n",
    "                     os.getcwd(),\n",
    "                     'GaitDatasetB-silh',\n",
    "                     EXP_NO,\n",
    "                     label,\n",
    "                     ANGLE_NO,\n",
    "                     file\n",
    "                     ])\n",
    "        )\n",
    "    batch_imgs[i] = np.array(batch_imgs[i])\n",
    "    names[i] = np.array(names[i])\n",
    "        "
   ]
  },
  {
   "cell_type": "code",
   "execution_count": null,
   "metadata": {},
   "outputs": [],
   "source": []
  },
  {
   "cell_type": "code",
   "execution_count": 4,
   "metadata": {},
   "outputs": [],
   "source": [
    "y = []\n",
    "for i in range(len(labels)):\n",
    "    y.append(i*np.ones((batch_imgs[i].shape[0])))\n",
    "mainImgs = np.concatenate(batch_imgs,axis=0)\n",
    "y = np.concatenate(y, axis=0)"
   ]
  },
  {
   "cell_type": "code",
   "execution_count": 5,
   "metadata": {},
   "outputs": [
    {
     "data": {
      "text/plain": [
       "(377, 160, 120)"
      ]
     },
     "execution_count": 5,
     "metadata": {},
     "output_type": "execute_result"
    }
   ],
   "source": [
    "mainImgs.shape"
   ]
  },
  {
   "cell_type": "code",
   "execution_count": 6,
   "metadata": {},
   "outputs": [],
   "source": [
    "X, _, _, _, _, info = gait.get_feature_vectors(mainImgs,preproc=lambda x:x)"
   ]
  },
  {
   "cell_type": "code",
   "execution_count": 7,
   "metadata": {},
   "outputs": [],
   "source": [
    "np.savez_compressed('eig90',**info)"
   ]
  },
  {
   "cell_type": "markdown",
   "metadata": {},
   "source": [
    "# DataSet Generation"
   ]
  },
  {
   "cell_type": "code",
   "execution_count": 8,
   "metadata": {},
   "outputs": [],
   "source": [
    "eig = np.load('eig90.npz',allow_pickle=True)"
   ]
  },
  {
   "cell_type": "code",
   "execution_count": 9,
   "metadata": {},
   "outputs": [
    {
     "name": "stderr",
     "output_type": "stream",
     "text": [
      "100%|██████████| 124/124 [00:29<00:00,  4.22it/s]\n"
     ]
    }
   ],
   "source": [
    "pr_imgs = [None for _ in labels]\n",
    "names = [None for _ in labels]\n",
    "pro_imgs = [None for _ in labels]\n",
    "\n",
    "\n",
    "for i, label in enumerate(labels[:2]):\n",
    "    _, pr_imgs[i], names[i] = gait.fetch_data(label,90,True, True, True)\n",
    "    \n",
    "    \n",
    "key_pose_info = gait.fetch_labels(save=False, override=True)\n",
    "\n",
    "y = []\n",
    "for i in range(len(labels[:2])):\n",
    "    pro_imgs[i] = np.moveaxis(np.concatenate(pr_imgs[i], axis=-1), -1, 0) \n",
    "    names[i] = np.concatenate(names[i], axis=-1)\n",
    "    y.append(i*np.ones((len(pr_imgs[i],))))"
   ]
  },
  {
   "cell_type": "code",
   "execution_count": 12,
   "metadata": {},
   "outputs": [],
   "source": [
    "datasetImgs = np.concatenate(pro_imgs[:2], axis=0)\n",
    "names = np.concatenate(names[:2], axis=0)"
   ]
  },
  {
   "cell_type": "code",
   "execution_count": 14,
   "metadata": {},
   "outputs": [],
   "source": [
    "z = np.array([key_pose_info[ele] for ele in names])"
   ]
  },
  {
   "cell_type": "code",
   "execution_count": null,
   "metadata": {},
   "outputs": [],
   "source": [
    "X, _, _, _, _, _ = gait.get_feature_vectors(datasetImgs,\n",
    "                                            preproc=lambda x:x, \n",
    "                                            eigvec=eig['eigvec'], \n",
    "                                            eigvalue=eig['eigvalue'])"
   ]
  },
  {
   "cell_type": "markdown",
   "metadata": {},
   "source": [
    "# Dataset Prep\n",
    "# Convert to PEI with kmeans"
   ]
  },
  {
   "cell_type": "code",
   "execution_count": null,
   "metadata": {},
   "outputs": [],
   "source": [
    "for subject in pr_imgs:\n",
    "    for gaitCycle in subject:\n",
    "        gait.get_feature_vectors(gaitCycle)"
   ]
  },
  {
   "cell_type": "code",
   "execution_count": null,
   "metadata": {},
   "outputs": [],
   "source": [
    "#Occlusion induction"
   ]
  },
  {
   "cell_type": "code",
   "execution_count": null,
   "metadata": {},
   "outputs": [],
   "source": []
  },
  {
   "cell_type": "code",
   "execution_count": null,
   "metadata": {},
   "outputs": [],
   "source": [
    "clf = RandomForestClassifier(n_estimators=100,\n",
    "                             max_depth=5,\n",
    "                             min_samples_split=3\n",
    "                             )"
   ]
  },
  {
   "cell_type": "code",
   "execution_count": 18,
   "metadata": {},
   "outputs": [
    {
     "data": {
      "text/plain": [
       "(14695, 160, 120)"
      ]
     },
     "execution_count": 18,
     "metadata": {},
     "output_type": "execute_result"
    }
   ],
   "source": []
  },
  {
   "cell_type": "code",
   "execution_count": null,
   "metadata": {},
   "outputs": [],
   "source": [
    "pickle.dump(clf, open('randomForest.sav','wb'))"
   ]
  },
  {
   "cell_type": "code",
   "execution_count": null,
   "metadata": {},
   "outputs": [],
   "source": []
  },
  {
   "cell_type": "code",
   "execution_count": null,
   "metadata": {},
   "outputs": [],
   "source": []
  },
  {
   "cell_type": "markdown",
   "metadata": {},
   "source": [
    "# AutoEncoder"
   ]
  },
  {
   "cell_type": "code",
   "execution_count": 5,
   "metadata": {},
   "outputs": [
    {
     "name": "stderr",
     "output_type": "stream",
     "text": [
      "100%|██████████| 124/124 [05:11<00:00,  2.51s/it]\n",
      "100%|██████████| 124/124 [00:23<00:00,  5.30it/s]\n"
     ]
    }
   ],
   "source": [
    "from train import CVAE_FULL\n",
    "\n",
    "CVAE_FULL.load_weights('weights/CVAE_FULL.h5')\n",
    "\n",
    "encoder = keras.models.Model(CVAE_FULL.input, CVAE_FULL.get_layer(\"concat_zcond\").output)\n",
    "encoded_vec = gait.encode_data(encoder,label_angle='090',override=True)\n",
    "key_pose_info = gait.fetch_labels(save=False, override=True)"
   ]
  },
  {
   "cell_type": "code",
   "execution_count": 6,
   "metadata": {
    "scrolled": true
   },
   "outputs": [],
   "source": [
    "model_BiRNN.load_weights('weights/BiRNN.h5')"
   ]
  },
  {
   "cell_type": "code",
   "execution_count": 7,
   "metadata": {},
   "outputs": [],
   "source": [
    "labels = ['nm-01', 'nm-02', 'nm-03', 'nm-04', 'nm-05', 'nm-06']\n",
    "enc_inp = [None for _ in labels]\n",
    "names = [None for _ in labels]\n",
    "z = [None for _ in labels]\n",
    "for i, label in enumerate(labels):\n",
    "    enc_inp[i] = []\n",
    "    names[i] = []\n",
    "    z[i] = []\n",
    "    for exp in os.listdir('/'.join([\n",
    "                                os.getcwd(),\n",
    "                                'GaitDatasetB-silh'\n",
    "                                ])):\n",
    "        name_sub = []\n",
    "        z_sub = []\n",
    "        files = sorted(os.listdir(\n",
    "                    '/'.join([\n",
    "                            os.getcwd(),\n",
    "                            'GaitDatasetB-silh',\n",
    "                            exp,\n",
    "                            label,\n",
    "                            ANGLE_NO\n",
    "                            ])\n",
    "                        )\n",
    "                    )\n",
    "        if len(files) < 10:\n",
    "            continue\n",
    "            \n",
    "        for file in files:\n",
    "            \n",
    "            if file[-3:]!='png':\n",
    "                continue\n",
    "            \n",
    "            \n",
    "        \n",
    "            name_sub.append(\n",
    "                '/'.join([\n",
    "                     os.getcwd(),\n",
    "                     'GaitDatasetB-silh',\n",
    "                     exp,\n",
    "                     label,\n",
    "                     ANGLE_NO,\n",
    "                     file\n",
    "                    ])\n",
    "                )\n",
    "            z_sub.append(key_pose_info[name_sub[-1]])\n",
    "            \n",
    "        names[i].append(name_sub)\n",
    "        z[i].append(z_sub)\n",
    "        enc_inp[i].append(encoded_vec[\n",
    "                       '/'.join([\n",
    "                             os.getcwd(),\n",
    "                             'GaitDatasetB-silh',\n",
    "                             exp,\n",
    "                             label,\n",
    "                             ANGLE_NO\n",
    "                            ])\n",
    "                        ])\n",
    "        "
   ]
  },
  {
   "cell_type": "code",
   "execution_count": 8,
   "metadata": {},
   "outputs": [],
   "source": [
    "def recur(inp, final=[]):\n",
    "    try:\n",
    "        #print(len(inp))\n",
    "        final.append(len(inp))\n",
    "        for ele in inp:\n",
    "            recur(ele,final)\n",
    "        return final\n",
    "    except:\n",
    "        return 0"
   ]
  },
  {
   "cell_type": "code",
   "execution_count": 9,
   "metadata": {
    "scrolled": true
   },
   "outputs": [],
   "source": [
    "def fetch_PEI(enc_vec, z, labels):\n",
    "    PEI_Vecs = [None for _ in labels]\n",
    "    for i, label in enumerate(labels):\n",
    "        PEI_Vecs[i] = []\n",
    "        for j, key_poses in enumerate(z[i]):\n",
    "            key_poses = np.array(key_poses)\n",
    "            PEI_vec = [None for _ in range(16)]\n",
    "            for k in range(16):\n",
    "                PEI_vec[k] = np.nan_to_num(enc_vec[i][j][key_poses==k].mean(axis=0))\n",
    "            PEI_Vecs[i].append(np.array(PEI_vec))\n",
    "        PEI_Vecs[i] = np.array(PEI_Vecs[i])\n",
    "    y = []\n",
    "    for i in range(len(labels)):\n",
    "        y.append(i*np.ones(PEI_Vecs[i].shape[0]))\n",
    "    y = np.concatenate(y,axis=0)\n",
    "    PEI_Vecs = np.concatenate(PEI_Vecs, axis=0)\n",
    "    \n",
    "    return PEI_Vecs, y"
   ]
  },
  {
   "cell_type": "code",
   "execution_count": 10,
   "metadata": {},
   "outputs": [],
   "source": [
    "def occlude(enc_vec, labels, occluRatio=0.3):\n",
    "    enc_vecs = copy.deepcopy(enc_vec)\n",
    "    for i, label in enumerate(labels):\n",
    "        for j in range(len(enc_vecs[i])):\n",
    "            mask = np.random.random((len(enc_vecs[i][j]),1)) > occluRatio\n",
    "            enc_vecs[i][j] = mask*enc_vecs[i][j]\n",
    "    return enc_vecs"
   ]
  },
  {
   "cell_type": "code",
   "execution_count": 11,
   "metadata": {},
   "outputs": [],
   "source": [
    "def filter_enc(enc_vec, model_birnn, labels):\n",
    "    batch_enc = []\n",
    "    for i, label in enumerate(labels):\n",
    "        for j in range(len(enc_vec[i])):\n",
    "            for k in range(len(enc_vec[i][j])-6 + 1):\n",
    "                batch_enc.append(enc_vec[i][j][k:k+6])\n",
    "    batch_enc = np.array(batch_enc)\n",
    "\n",
    "    batch_enc = model_birnn.predict( batch_enc )\n",
    "    cnt = 0\n",
    "\n",
    "    for i, label in enumerate(labels):\n",
    "        for j in range(len(enc_vec[i])):\n",
    "            for k in range(len(enc_vec[i][j])-6 + 1):\n",
    "                enc_vec[i][j][k:k+6] = batch_enc[cnt]\n",
    "                cnt+=1\n",
    "    \n",
    "    return enc_vec"
   ]
  },
  {
   "cell_type": "code",
   "execution_count": 26,
   "metadata": {},
   "outputs": [],
   "source": [
    "PEI_Vecs, y = fetch_PEI(enc_inp, z, labels)"
   ]
  },
  {
   "cell_type": "code",
   "execution_count": 12,
   "metadata": {},
   "outputs": [
    {
     "name": "stderr",
     "output_type": "stream",
     "text": [
      "/home/hexplex0xff/GAN/gan/lib/python3.6/site-packages/ipykernel_launcher.py:9: RuntimeWarning: Mean of empty slice.\n",
      "  if __name__ == '__main__':\n",
      "/home/hexplex0xff/GAN/gan/lib/python3.6/site-packages/numpy/core/_methods.py:163: RuntimeWarning: invalid value encountered in true_divide\n",
      "  ret, rcount, out=ret, casting='unsafe', subok=False)\n"
     ]
    }
   ],
   "source": [
    "enc_vec = occlude(enc_inp, labels, 0.0)\n",
    "enc_vec = filter_enc(enc_vec, model_BiRNN, labels)\n",
    "PEI_Vecs, y = fetch_PEI(enc_vec, z, labels)"
   ]
  },
  {
   "cell_type": "code",
   "execution_count": 27,
   "metadata": {},
   "outputs": [
    {
     "data": {
      "image/png": "[encoded data removed]",
      "text/plain": [
       "<PIL.PngImagePlugin.PngImageFile image mode=RGBA size=433x627 at 0x7F8290295780>"
      ]
     },
     "execution_count": 27,
     "metadata": {},
     "output_type": "execute_result"
    }
   ],
   "source": [
    "model_classifier = keras.models.Sequential()\n",
    "model_classifier.add(keras.layers.LSTM( 256,\n",
    "                                        activation='tanh',\n",
    "                                        return_sequences = True,\n",
    "                                        input_shape=(gait_key_poses, full_vec_shape)\n",
    "                                    )\n",
    "                        )\n",
    "model_classifier.add(keras.layers.LSTM( 128,\n",
    "                                        activation='tanh',\n",
    "                                        return_sequences=True,\n",
    "                        )\n",
    "                    )\n",
    "model_classifier.add(keras.layers.LSTM(64,\n",
    "                                       activation='tanh'\n",
    "                        )\n",
    "                    )\n",
    "model_classifier.add(keras.layers.Dense(16,\n",
    "                                        activation='tanh'\n",
    "                        )\n",
    "                    )\n",
    "model_classifier.add(keras.layers.Dense(len(labels),\n",
    "                                       activation='softmax'\n",
    "                        )\n",
    "                    )\n",
    "model_classifier.compile(optimizer='adam', loss='sparse_categorical_crossentropy', metrics=['accuracy'])\n",
    "plot_model(model_classifier, to_file='media/model_classifier_plot.png', show_shapes=True, show_layer_names=True)\n",
    "im = Image.open('media/model_classifier_plot.png')\n",
    "im"
   ]
  },
  {
   "cell_type": "code",
   "execution_count": 28,
   "metadata": {
    "scrolled": true
   },
   "outputs": [
    {
     "name": "stdout",
     "output_type": "stream",
     "text": [
      "Epoch 1/100\n",
      "24/24 [==============================] - 4s 13ms/step - loss: 1.8185 - accuracy: 0.1545\n",
      "Epoch 2/100\n",
      "24/24 [==============================] - 0s 13ms/step - loss: 1.7853 - accuracy: 0.1896\n",
      "Epoch 3/100\n",
      "24/24 [==============================] - 0s 13ms/step - loss: 1.7868 - accuracy: 0.1989\n",
      "Epoch 4/100\n",
      "24/24 [==============================] - 0s 13ms/step - loss: 1.7809 - accuracy: 0.2057\n",
      "Epoch 5/100\n",
      "24/24 [==============================] - 0s 14ms/step - loss: 1.7742 - accuracy: 0.2383\n",
      "Epoch 6/100\n",
      "24/24 [==============================] - 0s 13ms/step - loss: 1.7611 - accuracy: 0.2255\n",
      "Epoch 7/100\n",
      "24/24 [==============================] - 0s 13ms/step - loss: 1.7594 - accuracy: 0.2502\n",
      "Epoch 8/100\n",
      "24/24 [==============================] - 0s 13ms/step - loss: 1.7350 - accuracy: 0.2793\n",
      "Epoch 9/100\n",
      "24/24 [==============================] - 0s 14ms/step - loss: 1.7400 - accuracy: 0.2185\n",
      "Epoch 10/100\n",
      "24/24 [==============================] - 0s 13ms/step - loss: 1.7054 - accuracy: 0.2716\n",
      "Epoch 11/100\n",
      "24/24 [==============================] - 0s 13ms/step - loss: 1.6813 - accuracy: 0.2832\n",
      "Epoch 12/100\n",
      "24/24 [==============================] - 0s 13ms/step - loss: 1.6438 - accuracy: 0.3310\n",
      "Epoch 13/100\n",
      "24/24 [==============================] - 0s 13ms/step - loss: 1.6088 - accuracy: 0.3594\n",
      "Epoch 14/100\n",
      "24/24 [==============================] - 0s 13ms/step - loss: 1.5618 - accuracy: 0.3745\n",
      "Epoch 15/100\n",
      "24/24 [==============================] - 0s 13ms/step - loss: 1.5076 - accuracy: 0.4029\n",
      "Epoch 16/100\n",
      "24/24 [==============================] - 0s 13ms/step - loss: 1.5164 - accuracy: 0.4062\n",
      "Epoch 17/100\n",
      "24/24 [==============================] - 0s 14ms/step - loss: 1.3640 - accuracy: 0.4838\n",
      "Epoch 18/100\n",
      "24/24 [==============================] - 0s 14ms/step - loss: 1.2976 - accuracy: 0.5297\n",
      "Epoch 19/100\n",
      "24/24 [==============================] - 0s 13ms/step - loss: 1.2294 - accuracy: 0.5305\n",
      "Epoch 20/100\n",
      "24/24 [==============================] - 0s 14ms/step - loss: 1.1198 - accuracy: 0.6332\n",
      "Epoch 21/100\n",
      "24/24 [==============================] - 0s 13ms/step - loss: 0.9945 - accuracy: 0.6528\n",
      "Epoch 22/100\n",
      "24/24 [==============================] - 0s 13ms/step - loss: 0.8878 - accuracy: 0.7093\n",
      "Epoch 23/100\n",
      "24/24 [==============================] - 0s 13ms/step - loss: 0.7900 - accuracy: 0.7409\n",
      "Epoch 24/100\n",
      "24/24 [==============================] - 0s 13ms/step - loss: 0.6083 - accuracy: 0.8242\n",
      "Epoch 25/100\n",
      "24/24 [==============================] - 0s 13ms/step - loss: 0.5780 - accuracy: 0.8348\n",
      "Epoch 26/100\n",
      "24/24 [==============================] - 0s 13ms/step - loss: 0.5887 - accuracy: 0.8193\n",
      "Epoch 27/100\n",
      "24/24 [==============================] - 0s 13ms/step - loss: 0.4350 - accuracy: 0.8720\n",
      "Epoch 28/100\n",
      "24/24 [==============================] - 0s 13ms/step - loss: 0.3448 - accuracy: 0.9011\n",
      "Epoch 29/100\n",
      "24/24 [==============================] - 0s 13ms/step - loss: 0.2670 - accuracy: 0.9333\n",
      "Epoch 30/100\n",
      "24/24 [==============================] - 0s 13ms/step - loss: 0.1780 - accuracy: 0.9567\n",
      "Epoch 31/100\n",
      "24/24 [==============================] - 0s 13ms/step - loss: 0.1693 - accuracy: 0.9572\n",
      "Epoch 32/100\n",
      "24/24 [==============================] - 0s 13ms/step - loss: 0.1406 - accuracy: 0.9602\n",
      "Epoch 33/100\n",
      "24/24 [==============================] - 0s 13ms/step - loss: 0.1338 - accuracy: 0.9669\n",
      "Epoch 34/100\n",
      "24/24 [==============================] - 0s 14ms/step - loss: 0.1256 - accuracy: 0.9648\n",
      "Epoch 35/100\n",
      "24/24 [==============================] - 0s 13ms/step - loss: 0.1444 - accuracy: 0.9598\n",
      "Epoch 36/100\n",
      "24/24 [==============================] - 0s 13ms/step - loss: 0.1913 - accuracy: 0.9540\n",
      "Epoch 37/100\n",
      "24/24 [==============================] - 0s 14ms/step - loss: 0.2692 - accuracy: 0.9119\n",
      "Epoch 38/100\n",
      "24/24 [==============================] - 0s 13ms/step - loss: 0.2728 - accuracy: 0.9250\n",
      "Epoch 39/100\n",
      "24/24 [==============================] - 0s 13ms/step - loss: 0.1432 - accuracy: 0.9572\n",
      "Epoch 40/100\n",
      "24/24 [==============================] - 0s 13ms/step - loss: 0.1543 - accuracy: 0.9642\n",
      "Epoch 41/100\n",
      "24/24 [==============================] - 0s 13ms/step - loss: 0.1286 - accuracy: 0.9733\n",
      "Epoch 42/100\n",
      "24/24 [==============================] - 0s 13ms/step - loss: 0.1007 - accuracy: 0.9739\n",
      "Epoch 43/100\n",
      "24/24 [==============================] - 0s 13ms/step - loss: 0.0858 - accuracy: 0.9818\n",
      "Epoch 44/100\n",
      "24/24 [==============================] - 0s 13ms/step - loss: 0.0447 - accuracy: 0.9924\n",
      "Epoch 45/100\n",
      "24/24 [==============================] - 0s 14ms/step - loss: 0.0480 - accuracy: 0.9905\n",
      "Epoch 46/100\n",
      "24/24 [==============================] - 0s 13ms/step - loss: 0.0355 - accuracy: 0.9968\n",
      "Epoch 47/100\n",
      "24/24 [==============================] - 0s 13ms/step - loss: 0.0223 - accuracy: 0.9955\n",
      "Epoch 48/100\n",
      "24/24 [==============================] - 0s 13ms/step - loss: 0.0204 - accuracy: 0.9956\n",
      "Epoch 49/100\n",
      "24/24 [==============================] - 0s 14ms/step - loss: 0.0173 - accuracy: 1.0000\n",
      "Epoch 50/100\n",
      "24/24 [==============================] - 0s 13ms/step - loss: 0.0168 - accuracy: 0.9947\n",
      "Epoch 51/100\n",
      "24/24 [==============================] - 0s 13ms/step - loss: 0.0154 - accuracy: 0.9981\n",
      "Epoch 52/100\n",
      "24/24 [==============================] - 0s 13ms/step - loss: 0.0109 - accuracy: 1.0000\n",
      "Epoch 53/100\n",
      "24/24 [==============================] - 0s 13ms/step - loss: 0.0113 - accuracy: 0.9995\n",
      "Epoch 54/100\n",
      "24/24 [==============================] - 0s 13ms/step - loss: 0.0159 - accuracy: 0.9960\n",
      "Epoch 55/100\n",
      "24/24 [==============================] - 0s 13ms/step - loss: 0.0092 - accuracy: 1.0000\n",
      "Epoch 56/100\n",
      "24/24 [==============================] - 0s 13ms/step - loss: 0.0092 - accuracy: 1.0000\n",
      "Epoch 57/100\n",
      "24/24 [==============================] - 0s 13ms/step - loss: 0.0073 - accuracy: 1.0000\n",
      "Epoch 58/100\n",
      "24/24 [==============================] - 0s 13ms/step - loss: 0.0072 - accuracy: 1.0000\n",
      "Epoch 59/100\n",
      "24/24 [==============================] - 0s 14ms/step - loss: 0.0067 - accuracy: 1.0000\n",
      "Epoch 60/100\n",
      "24/24 [==============================] - 0s 13ms/step - loss: 0.0064 - accuracy: 1.0000\n",
      "Epoch 61/100\n",
      "24/24 [==============================] - 0s 13ms/step - loss: 0.0064 - accuracy: 1.0000\n",
      "Epoch 62/100\n",
      "24/24 [==============================] - 0s 14ms/step - loss: 0.0057 - accuracy: 1.0000\n",
      "Epoch 63/100\n",
      "24/24 [==============================] - 0s 13ms/step - loss: 0.0057 - accuracy: 1.0000\n",
      "Epoch 64/100\n",
      "24/24 [==============================] - 0s 13ms/step - loss: 0.0054 - accuracy: 1.0000\n",
      "Epoch 65/100\n",
      "24/24 [==============================] - 0s 13ms/step - loss: 0.0053 - accuracy: 1.0000\n",
      "Epoch 66/100\n",
      "24/24 [==============================] - 0s 13ms/step - loss: 0.0049 - accuracy: 1.0000\n",
      "Epoch 67/100\n",
      "24/24 [==============================] - 0s 13ms/step - loss: 0.0048 - accuracy: 1.0000\n",
      "Epoch 68/100\n",
      "24/24 [==============================] - 0s 13ms/step - loss: 0.0047 - accuracy: 1.0000\n",
      "Epoch 69/100\n",
      "24/24 [==============================] - 0s 13ms/step - loss: 0.0046 - accuracy: 1.0000\n",
      "Epoch 70/100\n",
      "24/24 [==============================] - 0s 13ms/step - loss: 0.0044 - accuracy: 1.0000\n",
      "Epoch 71/100\n",
      "24/24 [==============================] - 0s 13ms/step - loss: 0.0041 - accuracy: 1.0000\n",
      "Epoch 72/100\n",
      "24/24 [==============================] - 0s 13ms/step - loss: 0.0041 - accuracy: 1.0000\n",
      "Epoch 73/100\n",
      "24/24 [==============================] - 0s 13ms/step - loss: 0.0040 - accuracy: 1.0000\n",
      "Epoch 74/100\n",
      "24/24 [==============================] - 0s 13ms/step - loss: 0.0037 - accuracy: 1.0000\n",
      "Epoch 75/100\n",
      "24/24 [==============================] - 0s 13ms/step - loss: 0.0036 - accuracy: 1.0000\n",
      "Epoch 76/100\n",
      "24/24 [==============================] - 0s 14ms/step - loss: 0.0035 - accuracy: 1.0000\n",
      "Epoch 77/100\n",
      "24/24 [==============================] - 0s 13ms/step - loss: 0.0034 - accuracy: 1.0000\n",
      "Epoch 78/100\n",
      "24/24 [==============================] - 0s 13ms/step - loss: 0.0034 - accuracy: 1.0000\n",
      "Epoch 79/100\n",
      "24/24 [==============================] - 0s 14ms/step - loss: 0.0032 - accuracy: 1.0000\n",
      "Epoch 80/100\n",
      "24/24 [==============================] - 0s 13ms/step - loss: 0.0031 - accuracy: 1.0000\n",
      "Epoch 81/100\n",
      "24/24 [==============================] - 0s 13ms/step - loss: 0.0031 - accuracy: 1.0000\n",
      "Epoch 82/100\n",
      "24/24 [==============================] - 0s 13ms/step - loss: 0.0030 - accuracy: 1.0000\n",
      "Epoch 83/100\n",
      "24/24 [==============================] - 0s 14ms/step - loss: 0.0029 - accuracy: 1.0000\n",
      "Epoch 84/100\n",
      "24/24 [==============================] - 0s 13ms/step - loss: 0.0029 - accuracy: 1.0000\n",
      "Epoch 85/100\n",
      "24/24 [==============================] - 0s 13ms/step - loss: 0.0028 - accuracy: 1.0000\n",
      "Epoch 86/100\n",
      "24/24 [==============================] - 0s 13ms/step - loss: 0.0027 - accuracy: 1.0000\n",
      "Epoch 87/100\n",
      "24/24 [==============================] - 0s 13ms/step - loss: 0.0026 - accuracy: 1.0000\n",
      "Epoch 88/100\n",
      "24/24 [==============================] - 0s 13ms/step - loss: 0.0026 - accuracy: 1.0000\n",
      "Epoch 89/100\n",
      "24/24 [==============================] - 0s 13ms/step - loss: 0.0026 - accuracy: 1.0000\n",
      "Epoch 90/100\n",
      "24/24 [==============================] - 0s 13ms/step - loss: 0.0024 - accuracy: 1.0000\n",
      "Epoch 91/100\n",
      "24/24 [==============================] - 0s 13ms/step - loss: 0.0024 - accuracy: 1.0000\n",
      "Epoch 92/100\n",
      "24/24 [==============================] - 0s 13ms/step - loss: 0.0023 - accuracy: 1.0000\n",
      "Epoch 93/100\n",
      "24/24 [==============================] - 0s 14ms/step - loss: 0.0023 - accuracy: 1.0000\n",
      "Epoch 94/100\n",
      "24/24 [==============================] - 0s 13ms/step - loss: 0.0023 - accuracy: 1.0000\n",
      "Epoch 95/100\n",
      "24/24 [==============================] - 0s 13ms/step - loss: 0.0021 - accuracy: 1.0000\n",
      "Epoch 96/100\n",
      "24/24 [==============================] - 0s 14ms/step - loss: 0.0021 - accuracy: 1.0000\n",
      "Epoch 97/100\n",
      "24/24 [==============================] - 0s 13ms/step - loss: 0.0021 - accuracy: 1.0000\n",
      "Epoch 98/100\n",
      "24/24 [==============================] - 0s 14ms/step - loss: 0.0020 - accuracy: 1.0000\n",
      "Epoch 99/100\n",
      "24/24 [==============================] - 0s 13ms/step - loss: 0.0020 - accuracy: 1.0000\n",
      "Epoch 100/100\n",
      "24/24 [==============================] - 0s 13ms/step - loss: 0.0020 - accuracy: 1.0000\n"
     ]
    },
    {
     "data": {
      "text/plain": [
       "<tensorflow.python.keras.callbacks.History at 0x7f82902e51d0>"
      ]
     },
     "execution_count": 28,
     "metadata": {},
     "output_type": "execute_result"
    }
   ],
   "source": [
    "model_classifier.fit(PEI_Vecs, y,epochs=100)"
   ]
  },
  {
   "cell_type": "code",
   "execution_count": 15,
   "metadata": {},
   "outputs": [],
   "source": [
    "model_classifier.save('weights/classifier.h5')"
   ]
  },
  {
   "cell_type": "code",
   "execution_count": 16,
   "metadata": {},
   "outputs": [],
   "source": [
    "model_classifier.load_weights('weights/classifier.h5')"
   ]
  },
  {
   "cell_type": "markdown",
   "metadata": {},
   "source": [
    "# Adding Occlusions"
   ]
  },
  {
   "cell_type": "code",
   "execution_count": 29,
   "metadata": {},
   "outputs": [],
   "source": [
    "import warnings\n",
    "warnings.filterwarnings('ignore')"
   ]
  },
  {
   "cell_type": "code",
   "execution_count": 30,
   "metadata": {},
   "outputs": [],
   "source": [
    "scores = []\n",
    "for occlu in [0.1, 0.2, 0.3, 0.4, 0.5, 0.6, 0.7, 0.8, 0.9, 1.0]:\n",
    "    enc_i = occlude(enc_vec, labels, occlu)\n",
    "    enc_i = filter_enc(enc_i, model_BiRNN, labels)\n",
    "    test_PEI, y = fetch_PEI(enc_i, z, labels)\n",
    "    y_pred = np.argmax(model_classifier.predict(test_PEI), axis=-1)\n",
    "    acc = accuracy_score(y, y_pred)\n",
    "    scores.append([occlu, acc])"
   ]
  },
  {
   "cell_type": "code",
   "execution_count": 31,
   "metadata": {},
   "outputs": [
    {
     "name": "stdout",
     "output_type": "stream",
     "text": [
      "For 10.0% occlusion BiRNN achives 100.0% accuracy\n",
      "For 20.0% occlusion BiRNN achives 99.73009446693656% accuracy\n",
      "For 30.0% occlusion BiRNN achives 98.78542510121457% accuracy\n",
      "For 40.0% occlusion BiRNN achives 98.24561403508771% accuracy\n",
      "For 50.0% occlusion BiRNN achives 96.221322537112% accuracy\n",
      "For 60.0% occlusion BiRNN achives 89.74358974358975% accuracy\n",
      "For 70.0% occlusion BiRNN achives 76.38326585695006% accuracy\n",
      "For 80.0% occlusion BiRNN achives 55.3306342780027% accuracy\n",
      "For 90.0% occlusion BiRNN achives 36.43724696356275% accuracy\n",
      "For 100.0% occlusion BiRNN achives 16.599190283400812% accuracy\n"
     ]
    }
   ],
   "source": [
    "for occlu, acc in scores:\n",
    "    print('For '+str(100*occlu)+'% occlusion BiRNN achives '+str(100*acc)+'% accuracy')"
   ]
  },
  {
   "cell_type": "code",
   "execution_count": 25,
   "metadata": {},
   "outputs": [
    {
     "name": "stdout",
     "output_type": "stream",
     "text": [
      " Previous Results \n",
      "\n",
      "Occlusion Degree \t(%)Rank-1 Accuracy (%)\n",
      "<10%\t92.38\n",
      "10%-20%\t85.71\n",
      "20%-30%\t73.33\n",
      "30%-40%\t62.85\n",
      "40%-50%\t40.75\n",
      "\n"
     ]
    }
   ],
   "source": [
    "print(\"\"\" Previous Results \\n\n",
    "Occlusion Degree \\t(%)Rank-1 Accuracy (%)\\n<10%\\t92.38\\n10%-20%\\t85.71\\n20%-30%\\t73.33\\n30%-40%\\t62.85\\n40%-50%\\t40.75\n",
    "\"\"\")"
   ]
  },
  {
   "cell_type": "code",
   "execution_count": null,
   "metadata": {},
   "outputs": [],
   "source": []
  },
  {
   "cell_type": "code",
   "execution_count": null,
   "metadata": {},
   "outputs": [],
   "source": []
  },
  {
   "cell_type": "code",
   "execution_count": null,
   "metadata": {},
   "outputs": [],
   "source": []
  },
  {
   "cell_type": "code",
   "execution_count": 73,
   "metadata": {},
   "outputs": [],
   "source": []
  },
  {
   "cell_type": "code",
   "execution_count": 87,
   "metadata": {},
   "outputs": [],
   "source": []
  },
  {
   "cell_type": "code",
   "execution_count": null,
   "metadata": {},
   "outputs": [],
   "source": []
  },
  {
   "cell_type": "code",
   "execution_count": null,
   "metadata": {},
   "outputs": [],
   "source": []
  }
 ],
 "metadata": {
  "kernelspec": {
   "display_name": "Python 3",
   "language": "python",
   "name": "python3"
  },
  "language_info": {
   "codemirror_mode": {
    "name": "ipython",
    "version": 3
   },
   "file_extension": ".py",
   "mimetype": "text/x-python",
   "name": "python",
   "nbconvert_exporter": "python",
   "pygments_lexer": "ipython3",
   "version": "3.6.9"
  }
 },
 "nbformat": 4,
 "nbformat_minor": 4
}
