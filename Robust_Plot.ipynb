{
 "cells": [
  {
   "cell_type": "code",
   "execution_count": 1,
   "metadata": {},
   "outputs": [],
   "source": [
    "import os\n",
    "import keras\n",
    "import tensorflow as tf\n",
    "import numpy as np\n",
    "import copy"
   ]
  },
  {
   "cell_type": "code",
   "execution_count": 2,
   "metadata": {},
   "outputs": [],
   "source": [
    "physical_devices = tf.config.list_physical_devices('GPU')\n",
    "tf.config.experimental.set_memory_growth(physical_devices[0], True)\n"
   ]
  },
  {
   "cell_type": "code",
   "execution_count": 3,
   "metadata": {},
   "outputs": [],
   "source": [
    "import gait\n",
    "from PIL import Image\n",
    "from tensorflow.keras.utils import plot_model\n",
    "from train import CVAE_FULL\n",
    "from tqdm import tqdm\n",
    "import cv2\n",
    "from train_birnn import model_BiRNN, ImageNoise\n",
    "from sklearn.ensemble import RandomForestClassifier\n",
    "from sklearn.metrics import accuracy_score\n",
    "import gc\n",
    "import pickle"
   ]
  },
  {
   "cell_type": "code",
   "execution_count": 4,
   "metadata": {},
   "outputs": [],
   "source": [
    "EXP_NO = '044'\n",
    "ANGLE_NO = '090'\n",
    "gait_key_poses = 16\n",
    "image_vec_shape = 12\n",
    "conditional_vec_shape = 4\n",
    "full_vec_shape = image_vec_shape+conditional_vec_shape\n",
    "labels = ['nm-01', 'nm-02', 'nm-03', 'nm-04', 'nm-05', 'nm-06']"
   ]
  },
  {
   "cell_type": "code",
   "execution_count": 5,
   "metadata": {},
   "outputs": [
    {
     "name": "stderr",
     "output_type": "stream",
     "text": [
      "100%|██████████| 124/124 [04:32<00:00,  2.20s/it]\n",
      "100%|██████████| 124/124 [00:15<00:00,  8.04it/s]\n"
     ]
    }
   ],
   "source": [
    "from train import CVAE_FULL\n",
    "\n",
    "CVAE_FULL.load_weights('weights/CVAE_FULL.h5')\n",
    "\n",
    "encoder = keras.models.Model(CVAE_FULL.input, CVAE_FULL.get_layer(\"concat_zcond\").output)\n",
    "encoded_vec = gait.encode_data(encoder,label_angle='090',override=True)\n",
    "key_pose_info = gait.fetch_labels(save=False, override=True)"
   ]
  },
  {
   "cell_type": "code",
   "execution_count": 6,
   "metadata": {},
   "outputs": [],
   "source": [
    "model_BiRNN.load_weights('weights/BiRNN.h5')"
   ]
  },
  {
   "cell_type": "code",
   "execution_count": 7,
   "metadata": {},
   "outputs": [],
   "source": [
    "labels = ['nm-01', 'nm-02', 'nm-03', 'nm-04', 'nm-05', 'nm-06']\n",
    "enc_inp = [None for _ in labels]\n",
    "names = [None for _ in labels]\n",
    "z = [None for _ in labels]\n",
    "for i, label in enumerate(labels):\n",
    "    enc_inp[i] = []\n",
    "    names[i] = []\n",
    "    z[i] = []\n",
    "    for exp in os.listdir('/'.join([\n",
    "                                os.getcwd(),\n",
    "                                'GaitDatasetB-silh'\n",
    "                                ])):\n",
    "        name_sub = []\n",
    "        z_sub = []\n",
    "        files = sorted(os.listdir(\n",
    "                    '/'.join([\n",
    "                            os.getcwd(),\n",
    "                            'GaitDatasetB-silh',\n",
    "                            exp,\n",
    "                            label,\n",
    "                            ANGLE_NO\n",
    "                            ])\n",
    "                        )\n",
    "                    )\n",
    "        if len(files) < 10:\n",
    "            continue\n",
    "            \n",
    "        for file in files:\n",
    "            \n",
    "            if file[-3:]!='png':\n",
    "                continue\n",
    "            \n",
    "            \n",
    "        \n",
    "            name_sub.append(\n",
    "                '/'.join([\n",
    "                     os.getcwd(),\n",
    "                     'GaitDatasetB-silh',\n",
    "                     exp,\n",
    "                     label,\n",
    "                     ANGLE_NO,\n",
    "                     file\n",
    "                    ])\n",
    "                )\n",
    "            z_sub.append(key_pose_info[name_sub[-1]])\n",
    "            \n",
    "        names[i].append(name_sub)\n",
    "        z[i].append(z_sub)\n",
    "        enc_inp[i].append(encoded_vec[\n",
    "                       '/'.join([\n",
    "                             os.getcwd(),\n",
    "                             'GaitDatasetB-silh',\n",
    "                             exp,\n",
    "                             label,\n",
    "                             ANGLE_NO\n",
    "                            ])\n",
    "                        ])\n",
    "        "
   ]
  },
  {
   "cell_type": "code",
   "execution_count": 8,
   "metadata": {},
   "outputs": [],
   "source": [
    "def fetch_PEI(enc_vec, z, labels):\n",
    "    PEI_Vecs = [None for _ in labels]\n",
    "    for i, label in enumerate(labels):\n",
    "        PEI_Vecs[i] = []\n",
    "        for j, key_poses in enumerate(z[i]):\n",
    "            key_poses = np.array(key_poses)\n",
    "            PEI_vec = [None for _ in range(16)]\n",
    "            for k in range(16):\n",
    "                PEI_vec[k] = np.nan_to_num(enc_vec[i][j][key_poses==k].mean(axis=0))\n",
    "            PEI_Vecs[i].append(np.array(PEI_vec))\n",
    "        PEI_Vecs[i] = np.array(PEI_Vecs[i])\n",
    "    y = []\n",
    "    for i in range(len(labels)):\n",
    "        y.append(i*np.ones(PEI_Vecs[i].shape[0]))\n",
    "    y = np.concatenate(y,axis=0)\n",
    "    PEI_Vecs = np.concatenate(PEI_Vecs, axis=0)\n",
    "    \n",
    "    return PEI_Vecs, y"
   ]
  },
  {
   "cell_type": "code",
   "execution_count": 9,
   "metadata": {},
   "outputs": [],
   "source": [
    "def occlude(enc_vec, labels, occluRatio=0.3):\n",
    "    enc_vecs = copy.deepcopy(enc_vec)\n",
    "    for i, label in enumerate(labels):\n",
    "        for j in range(len(enc_vecs[i])):\n",
    "            mask = np.random.random((len(enc_vecs[i][j]),1)) > occluRatio\n",
    "            enc_vecs[i][j] = mask*enc_vecs[i][j]\n",
    "    return enc_vecs"
   ]
  },
  {
   "cell_type": "code",
   "execution_count": 10,
   "metadata": {},
   "outputs": [],
   "source": [
    "def filter_enc(enc_vec, model_birnn, labels):\n",
    "    batch_enc = []\n",
    "    for i, label in enumerate(labels):\n",
    "        for j in range(len(enc_vec[i])):\n",
    "            for k in range(len(enc_vec[i][j])-6 + 1):\n",
    "                batch_enc.append(enc_vec[i][j][k:k+6])\n",
    "    batch_enc = np.array(batch_enc)\n",
    "\n",
    "    batch_enc = model_birnn.predict( batch_enc )\n",
    "    cnt = 0\n",
    "\n",
    "    for i, label in enumerate(labels):\n",
    "        for j in range(len(enc_vec[i])):\n",
    "            for k in range(len(enc_vec[i][j])-6 + 1):\n",
    "                enc_vec[i][j][k:k+6] = batch_enc[cnt]\n",
    "                cnt+=1\n",
    "    \n",
    "    return enc_vec"
   ]
  },
  {
   "cell_type": "code",
   "execution_count": 11,
   "metadata": {},
   "outputs": [
    {
     "name": "stderr",
     "output_type": "stream",
     "text": [
      "/home/hexplex0xff/GAN/gan/lib/python3.6/site-packages/ipykernel_launcher.py:9: RuntimeWarning: Mean of empty slice.\n",
      "  if __name__ == '__main__':\n",
      "/home/hexplex0xff/GAN/gan/lib/python3.6/site-packages/numpy/core/_methods.py:163: RuntimeWarning: invalid value encountered in true_divide\n",
      "  ret, rcount, out=ret, casting='unsafe', subok=False)\n"
     ]
    }
   ],
   "source": [
    "PEI_Vecs, y = fetch_PEI(enc_inp, z, labels)"
   ]
  },
  {
   "cell_type": "code",
   "execution_count": 12,
   "metadata": {},
   "outputs": [
    {
     "name": "stderr",
     "output_type": "stream",
     "text": [
      "/home/hexplex0xff/GAN/gan/lib/python3.6/site-packages/ipykernel_launcher.py:9: RuntimeWarning: Mean of empty slice.\n",
      "  if __name__ == '__main__':\n"
     ]
    }
   ],
   "source": [
    "enc_vec = occlude(enc_inp, labels, 0.0)\n",
    "enc_vec = filter_enc(enc_vec, model_BiRNN, labels)\n",
    "PEI_Vecs, y = fetch_PEI(enc_vec, z, labels)"
   ]
  },
  {
   "cell_type": "code",
   "execution_count": 13,
   "metadata": {},
   "outputs": [
    {
     "data": {
      "image/png": "[encoded data removed]",
      "text/plain": [
       "<PIL.PngImagePlugin.PngImageFile image mode=RGBA size=433x627 at 0x7FC204E9F320>"
      ]
     },
     "execution_count": 13,
     "metadata": {},
     "output_type": "execute_result"
    }
   ],
   "source": [
    "model_classifier = keras.models.Sequential()\n",
    "model_classifier.add(keras.layers.LSTM( 256,\n",
    "                                        activation='tanh',\n",
    "                                        return_sequences = True,\n",
    "                                        input_shape=(gait_key_poses, full_vec_shape)\n",
    "                                    )\n",
    "                        )\n",
    "model_classifier.add(keras.layers.LSTM( 128,\n",
    "                                        activation='tanh',\n",
    "                                        return_sequences=True,\n",
    "                        )\n",
    "                    )\n",
    "model_classifier.add(keras.layers.LSTM(64,\n",
    "                                       activation='tanh'\n",
    "                        )\n",
    "                    )\n",
    "model_classifier.add(keras.layers.Dense(16,\n",
    "                                        activation='tanh'\n",
    "                        )\n",
    "                    )\n",
    "model_classifier.add(keras.layers.Dense(len(labels),\n",
    "                                       activation='softmax'\n",
    "                        )\n",
    "                    )\n",
    "model_classifier.compile(optimizer='adam', loss='sparse_categorical_crossentropy', metrics=['accuracy'])\n",
    "plot_model(model_classifier, to_file='media/model_classifier_plot.png', show_shapes=True, show_layer_names=True)\n",
    "im = Image.open('media/model_classifier_plot.png')\n",
    "im"
   ]
  },
  {
   "cell_type": "code",
   "execution_count": 38,
   "metadata": {},
   "outputs": [],
   "source": [
    "model_classifier.save('weights/random_classifier.h5')"
   ]
  },
  {
   "cell_type": "code",
   "execution_count": 39,
   "metadata": {},
   "outputs": [
    {
     "name": "stdout",
     "output_type": "stream",
     "text": [
      "[16, 10, 5, 3, 2]\n"
     ]
    }
   ],
   "source": [
    "dataset_size = [0.94, 0.9, 0.82,0.7, 0.5]\n",
    "epoch_len = [20, 35, 50, 70, 100]\n",
    "n_fold_val = [int(1/(1-ele)) for ele in dataset_size]\n",
    "print(n_fold_val)"
   ]
  },
  {
   "cell_type": "code",
   "execution_count": 40,
   "metadata": {},
   "outputs": [],
   "source": [
    "from sklearn.model_selection import StratifiedKFold"
   ]
  },
  {
   "cell_type": "code",
   "execution_count": 45,
   "metadata": {},
   "outputs": [
    {
     "ename": "SyntaxError",
     "evalue": "invalid syntax (<ipython-input-45-cdbbd6f252e8>, line 7)",
     "output_type": "error",
     "traceback": [
      "\u001b[0;36m  File \u001b[0;32m\"<ipython-input-45-cdbbd6f252e8>\"\u001b[0;36m, line \u001b[0;32m7\u001b[0m\n\u001b[0;31m    skf = StratifiedKFold(n_splits=nf,shuffle=True})\u001b[0m\n\u001b[0m                                                  ^\u001b[0m\n\u001b[0;31mSyntaxError\u001b[0m\u001b[0;31m:\u001b[0m invalid syntax\n"
     ]
    }
   ],
   "source": [
    "results = []\n",
    "\n",
    "for i, (ds, nf) in enumerate(zip(dataset_size, n_fold_val)):\n",
    "    res = []\n",
    "    for ep in epoch_len:\n",
    "        result = []\n",
    "        skf = StratifiedKFold(n_splits=nf,shuffle=True)\n",
    "        skf.get_n_splits(PEI_Vecs, y)\n",
    "\n",
    "        for train_index, test_index in skf.split(PEI_Vecs, y):\n",
    "            model_classifier.load_weights('weights/random_classifier.h5')\n",
    "            model_classifier.fit(PEI_Vecs[train_index], y[train_index], epochs=ep, verbose=0)\n",
    "            y_pred_inter = model_classifier.predict(PEI_Vecs[test_index])\n",
    "            acc = (np.argmax(y_pred_inter, axis=-1) == y[test_index]).sum() / len(test_index)\n",
    "            loss = (np.argmax(y_pred_inter, axis=-1) != y[test_index]).sum() / len(test_index)\n",
    "            result.append([acc, loss, [ep,ds]])\n",
    "        accuracy_over_k = sum([r[0] for r in result])/len(result)\n",
    "        print(\"for\",ep,\"no. of epochs trained on\",100*ds,\"% data has\",accuracy_over_k,\"acc\")\n",
    "        res.append(result)\n",
    "    results.append(res)\n",
    "        #print(train_index, test_index)"
   ]
  },
  {
   "cell_type": "code",
   "execution_count": null,
   "metadata": {},
   "outputs": [],
   "source": []
  },
  {
   "cell_type": "code",
   "execution_count": null,
   "metadata": {},
   "outputs": [],
   "source": []
  },
  {
   "cell_type": "code",
   "execution_count": null,
   "metadata": {},
   "outputs": [],
   "source": []
  },
  {
   "cell_type": "code",
   "execution_count": null,
   "metadata": {},
   "outputs": [],
   "source": []
  },
  {
   "cell_type": "code",
   "execution_count": null,
   "metadata": {},
   "outputs": [],
   "source": []
  }
 ],
 "metadata": {
  "kernelspec": {
   "display_name": "Python 3",
   "language": "python",
   "name": "python3"
  },
  "language_info": {
   "codemirror_mode": {
    "name": "ipython",
    "version": 3
   },
   "file_extension": ".py",
   "mimetype": "text/x-python",
   "name": "python",
   "nbconvert_exporter": "python",
   "pygments_lexer": "ipython3",
   "version": "3.6.9"
  }
 },
 "nbformat": 4,
 "nbformat_minor": 4
}
