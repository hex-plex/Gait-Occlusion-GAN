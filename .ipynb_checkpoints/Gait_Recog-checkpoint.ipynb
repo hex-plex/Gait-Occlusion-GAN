{
 "cells": [
  {
   "cell_type": "code",
   "execution_count": 52,
   "metadata": {},
   "outputs": [],
   "source": [
    "import os\n",
    "import keras\n",
    "import tensorflow as tf\n",
    "import numpy as np\n",
    "import copy"
   ]
  },
  {
   "cell_type": "code",
   "execution_count": 2,
   "metadata": {},
   "outputs": [],
   "source": [
    "physical_devices = tf.config.list_physical_devices('GPU')\n",
    "tf.config.experimental.set_memory_growth(physical_devices[0], True)\n"
   ]
  },
  {
   "cell_type": "code",
   "execution_count": 66,
   "metadata": {},
   "outputs": [],
   "source": [
    "import gait\n",
    "from PIL import Image\n",
    "from tensorflow.keras.utils import plot_model\n",
    "from train import CVAE_FULL\n",
    "from tqdm import tqdm\n",
    "import cv2\n",
    "from train_birnn import model_BiRNN, ImageNoise\n",
    "from sklearn.ensemble import RandomForestClassifier\n",
    "from sklearn.metrics import accuracy_score\n",
    "import gc\n",
    "import pickle"
   ]
  },
  {
   "cell_type": "markdown",
   "metadata": {},
   "source": [
    "PCA"
   ]
  },
  {
   "cell_type": "code",
   "execution_count": 4,
   "metadata": {},
   "outputs": [],
   "source": [
    "EXP_NO = '044'\n",
    "ANGLE_NO = '090'\n",
    "gait_key_poses = 16\n",
    "image_vec_shape = 12\n",
    "conditional_vec_shape = 4\n",
    "full_vec_shape = image_vec_shape+conditional_vec_shape\n",
    "labels = ['nm-01', 'nm-02', 'nm-03', 'nm-04', 'nm-05', 'nm-06']"
   ]
  },
  {
   "cell_type": "code",
   "execution_count": 3,
   "metadata": {},
   "outputs": [],
   "source": [
    "labels = ['nm-01', 'nm-02', 'nm-03', 'nm-04', 'nm-05', 'nm-06']\n",
    "batch_imgs = [None for _ in labels]\n",
    "pro_imgs = [None for _ in labels]\n",
    "names = [None for _ in labels]\n",
    "for i, label in enumerate(labels):\n",
    "    batch_imgs[i] = []\n",
    "    names[i] = []\n",
    "    for file in os.listdir('/'.join([\n",
    "                                os.getcwd(),\n",
    "                                'GaitDatasetB-silh',\n",
    "                                EXP_NO,\n",
    "                                label,\n",
    "                                ANGLE_NO\n",
    "                                ])):\n",
    "        if file[-3:]!='png':\n",
    "            continue\n",
    "        \n",
    "        batch_imgs[i].append(\n",
    "                    gait.preprocess(\n",
    "                        cv2.imread('/'.join([\n",
    "                                            os.getcwd(),\n",
    "                                            'GaitDatasetB-silh',\n",
    "                                            EXP_NO,\n",
    "                                            label,\n",
    "                                            ANGLE_NO,\n",
    "                                            file\n",
    "                                        ])\n",
    "                                   )\n",
    "                                )\n",
    "                            )\n",
    "        names[i].append(\n",
    "            '/'.join([\n",
    "                     os.getcwd(),\n",
    "                     'GaitDatasetB-silh',\n",
    "                     EXP_NO,\n",
    "                     label,\n",
    "                     ANGLE_NO,\n",
    "                     file\n",
    "                     ])\n",
    "        )\n",
    "    batch_imgs[i] = np.array(batch_imgs[i])\n",
    "    names[i] = np.array(names[i])\n",
    "        "
   ]
  },
  {
   "cell_type": "code",
   "execution_count": null,
   "metadata": {},
   "outputs": [],
   "source": []
  },
  {
   "cell_type": "code",
   "execution_count": 4,
   "metadata": {},
   "outputs": [],
   "source": [
    "y = []\n",
    "for i in range(len(labels)):\n",
    "    y.append(i*np.ones((batch_imgs[i].shape[0])))\n",
    "mainImgs = np.concatenate(batch_imgs,axis=0)\n",
    "y = np.concatenate(y, axis=0)"
   ]
  },
  {
   "cell_type": "code",
   "execution_count": 5,
   "metadata": {},
   "outputs": [
    {
     "data": {
      "text/plain": [
       "(377, 160, 120)"
      ]
     },
     "execution_count": 5,
     "metadata": {},
     "output_type": "execute_result"
    }
   ],
   "source": [
    "mainImgs.shape"
   ]
  },
  {
   "cell_type": "code",
   "execution_count": 6,
   "metadata": {},
   "outputs": [],
   "source": [
    "X, _, _, _, _, info = gait.get_feature_vectors(mainImgs,preproc=lambda x:x)"
   ]
  },
  {
   "cell_type": "code",
   "execution_count": 7,
   "metadata": {},
   "outputs": [],
   "source": [
    "np.savez_compressed('eig90',**info)"
   ]
  },
  {
   "cell_type": "markdown",
   "metadata": {},
   "source": [
    "# DataSet Generation"
   ]
  },
  {
   "cell_type": "code",
   "execution_count": 8,
   "metadata": {},
   "outputs": [],
   "source": [
    "eig = np.load('eig90.npz',allow_pickle=True)"
   ]
  },
  {
   "cell_type": "code",
   "execution_count": 9,
   "metadata": {},
   "outputs": [
    {
     "name": "stderr",
     "output_type": "stream",
     "text": [
      "100%|██████████| 124/124 [00:29<00:00,  4.22it/s]\n"
     ]
    }
   ],
   "source": [
    "pr_imgs = [None for _ in labels]\n",
    "names = [None for _ in labels]\n",
    "pro_imgs = [None for _ in labels]\n",
    "\n",
    "\n",
    "for i, label in enumerate(labels[:2]):\n",
    "    _, pr_imgs[i], names[i] = gait.fetch_data(label,90,True, True, True)\n",
    "    \n",
    "    \n",
    "key_pose_info = gait.fetch_labels(save=False, override=True)\n",
    "\n",
    "y = []\n",
    "for i in range(len(labels[:2])):\n",
    "    pro_imgs[i] = np.moveaxis(np.concatenate(pr_imgs[i], axis=-1), -1, 0) \n",
    "    names[i] = np.concatenate(names[i], axis=-1)\n",
    "    y.append(i*np.ones((len(pr_imgs[i],))))"
   ]
  },
  {
   "cell_type": "code",
   "execution_count": 12,
   "metadata": {},
   "outputs": [],
   "source": [
    "datasetImgs = np.concatenate(pro_imgs[:2], axis=0)\n",
    "names = np.concatenate(names[:2], axis=0)"
   ]
  },
  {
   "cell_type": "code",
   "execution_count": 14,
   "metadata": {},
   "outputs": [],
   "source": [
    "z = np.array([key_pose_info[ele] for ele in names])"
   ]
  },
  {
   "cell_type": "code",
   "execution_count": 17,
   "metadata": {},
   "outputs": [
    {
     "ename": "ValueError",
     "evalue": "matmul: Input operand 1 has a mismatch in its core dimension 0, with gufunc signature (n?,k),(k,m?)->(n?,m?) (size 377 is different from 14695)",
     "output_type": "error",
     "traceback": [
      "\u001b[0;31m---------------------------------------------------------------------------\u001b[0m",
      "\u001b[0;31mValueError\u001b[0m                                Traceback (most recent call last)",
      "\u001b[0;32m<ipython-input-17-717b3c05abb1>\u001b[0m in \u001b[0;36m<module>\u001b[0;34m\u001b[0m\n\u001b[1;32m      2\u001b[0m                                             \u001b[0mpreproc\u001b[0m\u001b[0;34m=\u001b[0m\u001b[0;32mlambda\u001b[0m \u001b[0mx\u001b[0m\u001b[0;34m:\u001b[0m\u001b[0mx\u001b[0m\u001b[0;34m,\u001b[0m\u001b[0;34m\u001b[0m\u001b[0;34m\u001b[0m\u001b[0m\n\u001b[1;32m      3\u001b[0m                                             \u001b[0meigvec\u001b[0m\u001b[0;34m=\u001b[0m\u001b[0meig\u001b[0m\u001b[0;34m[\u001b[0m\u001b[0;34m'eigvec'\u001b[0m\u001b[0;34m]\u001b[0m\u001b[0;34m,\u001b[0m\u001b[0;34m\u001b[0m\u001b[0;34m\u001b[0m\u001b[0m\n\u001b[0;32m----> 4\u001b[0;31m                                             eigvalue=eig['eigvalue'])\n\u001b[0m",
      "\u001b[0;32m~/GAN/gait.py\u001b[0m in \u001b[0;36mget_feature_vectors\u001b[0;34m(imgs, k, preproc, eigvec, eigvalue)\u001b[0m\n\u001b[1;32m     32\u001b[0m     \u001b[0;32melse\u001b[0m\u001b[0;34m:\u001b[0m\u001b[0;34m\u001b[0m\u001b[0;34m\u001b[0m\u001b[0m\n\u001b[1;32m     33\u001b[0m         \u001b[0;32massert\u001b[0m \u001b[0meigvalue\u001b[0m \u001b[0;32mis\u001b[0m \u001b[0;32mnot\u001b[0m \u001b[0;32mNone\u001b[0m\u001b[0;34m\u001b[0m\u001b[0;34m\u001b[0m\u001b[0m\n\u001b[0;32m---> 34\u001b[0;31m     \u001b[0mU\u001b[0m \u001b[0;34m=\u001b[0m \u001b[0mA\u001b[0m\u001b[0;34m@\u001b[0m\u001b[0meigvec\u001b[0m\u001b[0;34m\u001b[0m\u001b[0;34m\u001b[0m\u001b[0m\n\u001b[0m\u001b[1;32m     35\u001b[0m     \u001b[0mu\u001b[0m \u001b[0;34m=\u001b[0m \u001b[0mU\u001b[0m\u001b[0;34m/\u001b[0m\u001b[0mnp\u001b[0m\u001b[0;34m.\u001b[0m\u001b[0mlinalg\u001b[0m\u001b[0;34m.\u001b[0m\u001b[0mnorm\u001b[0m\u001b[0;34m(\u001b[0m\u001b[0mU\u001b[0m\u001b[0;34m,\u001b[0m \u001b[0maxis\u001b[0m\u001b[0;34m=\u001b[0m\u001b[0;36m0\u001b[0m\u001b[0;34m)\u001b[0m\u001b[0;34m\u001b[0m\u001b[0;34m\u001b[0m\u001b[0m\n\u001b[1;32m     36\u001b[0m     \u001b[0mu_sorted\u001b[0m \u001b[0;34m=\u001b[0m \u001b[0mu\u001b[0m\u001b[0;34m[\u001b[0m\u001b[0;34m:\u001b[0m\u001b[0;34m,\u001b[0m\u001b[0mnp\u001b[0m\u001b[0;34m.\u001b[0m\u001b[0margsort\u001b[0m\u001b[0;34m(\u001b[0m\u001b[0meigvalue\u001b[0m\u001b[0;34m)\u001b[0m\u001b[0;34m[\u001b[0m\u001b[0;34m:\u001b[0m\u001b[0;34m:\u001b[0m\u001b[0;34m-\u001b[0m\u001b[0;36m1\u001b[0m\u001b[0;34m]\u001b[0m\u001b[0;34m]\u001b[0m\u001b[0;34m\u001b[0m\u001b[0;34m\u001b[0m\u001b[0m\n",
      "\u001b[0;31mValueError\u001b[0m: matmul: Input operand 1 has a mismatch in its core dimension 0, with gufunc signature (n?,k),(k,m?)->(n?,m?) (size 377 is different from 14695)"
     ]
    }
   ],
   "source": [
    "X, _, _, _, _, _ = gait.get_feature_vectors(datasetImgs,\n",
    "                                            preproc=lambda x:x, \n",
    "                                            eigvec=eig['eigvec'], \n",
    "                                            eigvalue=eig['eigvalue'])"
   ]
  },
  {
   "cell_type": "markdown",
   "metadata": {},
   "source": [
    "# Dataset Prep\n",
    "# Convert to PEI with kmeans"
   ]
  },
  {
   "cell_type": "code",
   "execution_count": null,
   "metadata": {},
   "outputs": [],
   "source": [
    "for subject in pr_imgs:\n",
    "    for gaitCycle in subject:\n",
    "        gait.get_feature_vectors(gaitCycle)"
   ]
  },
  {
   "cell_type": "code",
   "execution_count": null,
   "metadata": {},
   "outputs": [],
   "source": [
    "#Occlusion induction"
   ]
  },
  {
   "cell_type": "code",
   "execution_count": null,
   "metadata": {},
   "outputs": [],
   "source": []
  },
  {
   "cell_type": "code",
   "execution_count": null,
   "metadata": {},
   "outputs": [],
   "source": [
    "clf = RandomForestClassifier(n_estimators=100,\n",
    "                             max_depth=5,\n",
    "                             min_samples_split=3\n",
    "                             )"
   ]
  },
  {
   "cell_type": "code",
   "execution_count": 18,
   "metadata": {},
   "outputs": [
    {
     "data": {
      "text/plain": [
       "(14695, 160, 120)"
      ]
     },
     "execution_count": 18,
     "metadata": {},
     "output_type": "execute_result"
    }
   ],
   "source": []
  },
  {
   "cell_type": "code",
   "execution_count": null,
   "metadata": {},
   "outputs": [],
   "source": [
    "pickle.dump(clf, open('randomForest.sav','wb'))"
   ]
  },
  {
   "cell_type": "code",
   "execution_count": null,
   "metadata": {},
   "outputs": [],
   "source": []
  },
  {
   "cell_type": "code",
   "execution_count": null,
   "metadata": {},
   "outputs": [],
   "source": []
  },
  {
   "cell_type": "markdown",
   "metadata": {},
   "source": [
    "# AutoEncoder"
   ]
  },
  {
   "cell_type": "code",
   "execution_count": 41,
   "metadata": {},
   "outputs": [
    {
     "name": "stderr",
     "output_type": "stream",
     "text": [
      "100%|██████████| 124/124 [04:51<00:00,  2.35s/it]\n",
      "100%|██████████| 124/124 [00:29<00:00,  4.18it/s]\n"
     ]
    }
   ],
   "source": [
    "from train import CVAE_FULL\n",
    "\n",
    "CVAE_FULL.load_weights('weights/CVAE_FULL.h5')\n",
    "\n",
    "encoder = keras.models.Model(CVAE_FULL.input, CVAE_FULL.get_layer(\"concat_zcond\").output)\n",
    "encoded_vec = gait.encode_data(encoder,label_angle='090',override=True)\n",
    "key_pose_info = gait.fetch_labels(save=False, override=True)"
   ]
  },
  {
   "cell_type": "code",
   "execution_count": null,
   "metadata": {
    "scrolled": true
   },
   "outputs": [],
   "source": []
  },
  {
   "cell_type": "code",
   "execution_count": 42,
   "metadata": {},
   "outputs": [],
   "source": [
    "labels = ['nm-01', 'nm-02', 'nm-03', 'nm-04', 'nm-05', 'nm-06']\n",
    "enc_inp = [None for _ in labels]\n",
    "names = [None for _ in labels]\n",
    "z = [None for _ in labels]\n",
    "for i, label in enumerate(labels):\n",
    "    enc_inp[i] = []\n",
    "    names[i] = []\n",
    "    z[i] = []\n",
    "    for exp in os.listdir('/'.join([\n",
    "                                os.getcwd(),\n",
    "                                'GaitDatasetB-silh'\n",
    "                                ])):\n",
    "        name_sub = []\n",
    "        z_sub = []\n",
    "        files = sorted(os.listdir(\n",
    "                    '/'.join([\n",
    "                            os.getcwd(),\n",
    "                            'GaitDatasetB-silh',\n",
    "                            exp,\n",
    "                            label,\n",
    "                            ANGLE_NO\n",
    "                            ])\n",
    "                        )\n",
    "                    )\n",
    "        if len(files) < 10:\n",
    "            continue\n",
    "            \n",
    "        for file in files:\n",
    "            \n",
    "            if file[-3:]!='png':\n",
    "                continue\n",
    "            \n",
    "            \n",
    "        \n",
    "            name_sub.append(\n",
    "                '/'.join([\n",
    "                     os.getcwd(),\n",
    "                     'GaitDatasetB-silh',\n",
    "                     exp,\n",
    "                     label,\n",
    "                     ANGLE_NO,\n",
    "                     file\n",
    "                    ])\n",
    "                )\n",
    "            z_sub.append(key_pose_info[name_sub[-1]])\n",
    "            \n",
    "        names[i].append(name_sub)\n",
    "        z[i].append(z_sub)\n",
    "        enc_inp[i].append(encoded_vec[\n",
    "                       '/'.join([\n",
    "                             os.getcwd(),\n",
    "                             'GaitDatasetB-silh',\n",
    "                             exp,\n",
    "                             label,\n",
    "                             ANGLE_NO\n",
    "                            ])\n",
    "                        ])\n",
    "        "
   ]
  },
  {
   "cell_type": "code",
   "execution_count": 44,
   "metadata": {},
   "outputs": [],
   "source": [
    "def recur(inp, final=[]):\n",
    "    try:\n",
    "        #print(len(inp))\n",
    "        final.append(len(inp))\n",
    "        for ele in inp:\n",
    "            recur(ele,final)\n",
    "        return final\n",
    "    except:\n",
    "        return 0"
   ]
  },
  {
   "cell_type": "code",
   "execution_count": 45,
   "metadata": {
    "scrolled": true
   },
   "outputs": [],
   "source": [
    "def fetch_PEI(enc_vec, z, labels):\n",
    "    PEI_Vecs = [None for _ in labels]\n",
    "    for i, label in enumerate(labels):\n",
    "        PEI_Vecs[i] = []\n",
    "        for j, key_poses in enumerate(z[i]):\n",
    "            key_poses = np.array(key_poses)\n",
    "            PEI_vec = [None for _ in range(16)]\n",
    "            for k in range(16):\n",
    "                PEI_vec[k] = np.nan_to_num(enc_vec[i][j][key_poses==k].mean(axis=0))\n",
    "            PEI_Vecs[i].append(np.array(PEI_vec))\n",
    "        PEI_Vecs[i] = np.array(PEI_Vecs[i])\n",
    "    y = []\n",
    "    for i in range(len(labels)):\n",
    "        y.append(i*np.ones(PEI_Vecs[i].shape[0]))\n",
    "    y = np.concatenate(y,axis=0)\n",
    "    PEI_Vecs = np.concatenate(PEI_Vecs, axis=0)\n",
    "    \n",
    "    return PEI_Vecs, y"
   ]
  },
  {
   "cell_type": "code",
   "execution_count": 46,
   "metadata": {},
   "outputs": [
    {
     "name": "stderr",
     "output_type": "stream",
     "text": [
      "/home/hexplex0xff/GAN/gan/lib/python3.6/site-packages/ipykernel_launcher.py:9: RuntimeWarning: Mean of empty slice.\n",
      "  if __name__ == '__main__':\n",
      "/home/hexplex0xff/GAN/gan/lib/python3.6/site-packages/numpy/core/_methods.py:163: RuntimeWarning: invalid value encountered in true_divide\n",
      "  ret, rcount, out=ret, casting='unsafe', subok=False)\n"
     ]
    }
   ],
   "source": [
    "PEI_Vecs, y = fetch_PEI(enc_inp, z, labels)"
   ]
  },
  {
   "cell_type": "code",
   "execution_count": null,
   "metadata": {},
   "outputs": [],
   "source": []
  },
  {
   "cell_type": "code",
   "execution_count": 47,
   "metadata": {},
   "outputs": [
    {
     "data": {
      "image/png": "[encoded data removed]",
      "text/plain": [
       "<PIL.PngImagePlugin.PngImageFile image mode=RGBA size=433x627 at 0x7F9F592C12E8>"
      ]
     },
     "execution_count": 47,
     "metadata": {},
     "output_type": "execute_result"
    }
   ],
   "source": [
    "model_classifier = keras.models.Sequential()\n",
    "model_classifier.add(keras.layers.LSTM( 256,\n",
    "                                        activation='tanh',\n",
    "                                        return_sequences = True,\n",
    "                                        input_shape=(gait_key_poses, full_vec_shape)\n",
    "                                    )\n",
    "                        )\n",
    "model_classifier.add(keras.layers.LSTM( 128,\n",
    "                                        activation='tanh',\n",
    "                                        return_sequences=True,\n",
    "                        )\n",
    "                    )\n",
    "model_classifier.add(keras.layers.LSTM(64,\n",
    "                                       activation='tanh'\n",
    "                        )\n",
    "                    )\n",
    "model_classifier.add(keras.layers.Dense(16,\n",
    "                                        activation='tanh'\n",
    "                        )\n",
    "                    )\n",
    "model_classifier.add(keras.layers.Dense(len(labels),\n",
    "                                       activation='softmax'\n",
    "                        )\n",
    "                    )\n",
    "model_classifier.compile(optimizer='adam', loss='sparse_categorical_crossentropy', metrics=['accuracy'])\n",
    "plot_model(model_classifier, to_file='media/model_classifier_plot.png', show_shapes=True, show_layer_names=True)\n",
    "im = Image.open('media/model_classifier_plot.png')\n",
    "im"
   ]
  },
  {
   "cell_type": "code",
   "execution_count": 11,
   "metadata": {
    "scrolled": true
   },
   "outputs": [
    {
     "name": "stdout",
     "output_type": "stream",
     "text": [
      "Epoch 1/100\n",
      "24/24 [==============================] - 4s 13ms/step - loss: 1.8157 - accuracy: 0.1443\n",
      "Epoch 2/100\n",
      "24/24 [==============================] - 0s 14ms/step - loss: 1.7939 - accuracy: 0.1669\n",
      "Epoch 3/100\n",
      "24/24 [==============================] - 0s 13ms/step - loss: 1.7821 - accuracy: 0.1984\n",
      "Epoch 4/100\n",
      "24/24 [==============================] - 0s 13ms/step - loss: 1.7808 - accuracy: 0.2212\n",
      "Epoch 5/100\n",
      "24/24 [==============================] - 0s 13ms/step - loss: 1.7779 - accuracy: 0.2243\n",
      "Epoch 6/100\n",
      "24/24 [==============================] - 0s 13ms/step - loss: 1.7693 - accuracy: 0.2338\n",
      "Epoch 7/100\n",
      "24/24 [==============================] - 0s 13ms/step - loss: 1.7581 - accuracy: 0.2324\n",
      "Epoch 8/100\n",
      "24/24 [==============================] - 0s 13ms/step - loss: 1.7533 - accuracy: 0.2361\n",
      "Epoch 9/100\n",
      "24/24 [==============================] - 0s 13ms/step - loss: 1.7364 - accuracy: 0.2624\n",
      "Epoch 10/100\n",
      "24/24 [==============================] - 0s 14ms/step - loss: 1.7351 - accuracy: 0.2785\n",
      "Epoch 11/100\n",
      "24/24 [==============================] - 0s 13ms/step - loss: 1.7011 - accuracy: 0.2703\n",
      "Epoch 12/100\n",
      "24/24 [==============================] - 0s 13ms/step - loss: 1.6828 - accuracy: 0.2899\n",
      "Epoch 13/100\n",
      "24/24 [==============================] - 0s 13ms/step - loss: 1.6429 - accuracy: 0.2989\n",
      "Epoch 14/100\n",
      "24/24 [==============================] - 0s 13ms/step - loss: 1.6228 - accuracy: 0.3385\n",
      "Epoch 15/100\n",
      "24/24 [==============================] - 0s 13ms/step - loss: 1.5599 - accuracy: 0.3315\n",
      "Epoch 16/100\n",
      "24/24 [==============================] - 0s 13ms/step - loss: 1.5086 - accuracy: 0.3737\n",
      "Epoch 17/100\n",
      "24/24 [==============================] - 0s 13ms/step - loss: 1.4171 - accuracy: 0.4445\n",
      "Epoch 18/100\n",
      "24/24 [==============================] - 0s 13ms/step - loss: 1.3695 - accuracy: 0.4633\n",
      "Epoch 19/100\n",
      "24/24 [==============================] - 0s 13ms/step - loss: 1.2208 - accuracy: 0.5593\n",
      "Epoch 20/100\n",
      "24/24 [==============================] - 0s 13ms/step - loss: 1.1683 - accuracy: 0.6015\n",
      "Epoch 21/100\n",
      "24/24 [==============================] - 0s 13ms/step - loss: 1.1186 - accuracy: 0.6020\n",
      "Epoch 22/100\n",
      "24/24 [==============================] - 0s 13ms/step - loss: 0.9809 - accuracy: 0.6562\n",
      "Epoch 23/100\n",
      "24/24 [==============================] - 0s 13ms/step - loss: 0.8200 - accuracy: 0.7188\n",
      "Epoch 24/100\n",
      "24/24 [==============================] - 0s 13ms/step - loss: 0.7219 - accuracy: 0.7788\n",
      "Epoch 25/100\n",
      "24/24 [==============================] - 0s 13ms/step - loss: 0.5736 - accuracy: 0.8441\n",
      "Epoch 26/100\n",
      "24/24 [==============================] - 0s 13ms/step - loss: 0.4919 - accuracy: 0.8386\n",
      "Epoch 27/100\n",
      "24/24 [==============================] - 0s 13ms/step - loss: 0.4052 - accuracy: 0.8814\n",
      "Epoch 28/100\n",
      "24/24 [==============================] - 0s 13ms/step - loss: 0.4050 - accuracy: 0.8824\n",
      "Epoch 29/100\n",
      "24/24 [==============================] - 0s 13ms/step - loss: 0.4079 - accuracy: 0.8897\n",
      "Epoch 30/100\n",
      "24/24 [==============================] - 0s 13ms/step - loss: 0.3214 - accuracy: 0.8988\n",
      "Epoch 31/100\n",
      "24/24 [==============================] - 0s 13ms/step - loss: 0.2039 - accuracy: 0.9621\n",
      "Epoch 32/100\n",
      "24/24 [==============================] - 0s 13ms/step - loss: 0.1989 - accuracy: 0.9481\n",
      "Epoch 33/100\n",
      "24/24 [==============================] - 0s 13ms/step - loss: 0.2409 - accuracy: 0.9404\n",
      "Epoch 34/100\n",
      "24/24 [==============================] - 0s 13ms/step - loss: 0.3089 - accuracy: 0.9099\n",
      "Epoch 35/100\n",
      "24/24 [==============================] - 0s 13ms/step - loss: 0.2704 - accuracy: 0.9238\n",
      "Epoch 36/100\n",
      "24/24 [==============================] - 0s 13ms/step - loss: 0.1896 - accuracy: 0.9480\n",
      "Epoch 37/100\n",
      "24/24 [==============================] - 0s 13ms/step - loss: 0.1469 - accuracy: 0.9658\n",
      "Epoch 38/100\n",
      "24/24 [==============================] - 0s 13ms/step - loss: 0.0940 - accuracy: 0.9732\n",
      "Epoch 39/100\n",
      "24/24 [==============================] - 0s 13ms/step - loss: 0.0665 - accuracy: 0.9928\n",
      "Epoch 40/100\n",
      "24/24 [==============================] - 0s 13ms/step - loss: 0.0600 - accuracy: 0.9893\n",
      "Epoch 41/100\n",
      "24/24 [==============================] - 0s 13ms/step - loss: 0.0374 - accuracy: 0.9945\n",
      "Epoch 42/100\n",
      "24/24 [==============================] - 0s 13ms/step - loss: 0.0227 - accuracy: 0.9982\n",
      "Epoch 43/100\n",
      "24/24 [==============================] - 0s 13ms/step - loss: 0.0289 - accuracy: 0.9981\n",
      "Epoch 44/100\n",
      "24/24 [==============================] - 0s 13ms/step - loss: 0.0276 - accuracy: 0.9960\n",
      "Epoch 45/100\n",
      "24/24 [==============================] - 0s 13ms/step - loss: 0.0247 - accuracy: 0.9992\n",
      "Epoch 46/100\n",
      "24/24 [==============================] - 0s 13ms/step - loss: 0.0338 - accuracy: 0.9965\n",
      "Epoch 47/100\n",
      "24/24 [==============================] - 0s 13ms/step - loss: 0.0195 - accuracy: 0.9991\n",
      "Epoch 48/100\n",
      "24/24 [==============================] - 0s 13ms/step - loss: 0.0147 - accuracy: 0.9996\n",
      "Epoch 49/100\n",
      "24/24 [==============================] - 0s 13ms/step - loss: 0.0162 - accuracy: 0.9988\n",
      "Epoch 50/100\n",
      "24/24 [==============================] - 0s 13ms/step - loss: 0.0161 - accuracy: 0.9974\n",
      "Epoch 51/100\n",
      "24/24 [==============================] - 0s 13ms/step - loss: 0.0418 - accuracy: 0.9929\n",
      "Epoch 52/100\n",
      "24/24 [==============================] - 0s 13ms/step - loss: 0.0119 - accuracy: 0.9998\n",
      "Epoch 53/100\n",
      "24/24 [==============================] - 0s 13ms/step - loss: 0.0133 - accuracy: 0.9978\n",
      "Epoch 54/100\n",
      "24/24 [==============================] - 0s 13ms/step - loss: 0.0131 - accuracy: 0.9971\n",
      "Epoch 55/100\n",
      "24/24 [==============================] - 0s 13ms/step - loss: 0.0092 - accuracy: 1.0000\n",
      "Epoch 56/100\n",
      "24/24 [==============================] - 0s 13ms/step - loss: 0.0096 - accuracy: 1.0000\n",
      "Epoch 57/100\n",
      "24/24 [==============================] - 0s 13ms/step - loss: 0.0110 - accuracy: 0.9963\n",
      "Epoch 58/100\n",
      "24/24 [==============================] - 0s 13ms/step - loss: 0.0088 - accuracy: 1.0000\n",
      "Epoch 59/100\n",
      "24/24 [==============================] - 0s 13ms/step - loss: 0.0075 - accuracy: 1.0000\n",
      "Epoch 60/100\n",
      "24/24 [==============================] - 0s 13ms/step - loss: 0.0071 - accuracy: 1.0000\n",
      "Epoch 61/100\n",
      "24/24 [==============================] - 0s 13ms/step - loss: 0.0069 - accuracy: 1.0000\n",
      "Epoch 62/100\n",
      "24/24 [==============================] - 0s 13ms/step - loss: 0.0067 - accuracy: 1.0000\n",
      "Epoch 63/100\n",
      "24/24 [==============================] - 0s 13ms/step - loss: 0.0060 - accuracy: 1.0000\n",
      "Epoch 64/100\n",
      "24/24 [==============================] - 0s 13ms/step - loss: 0.0058 - accuracy: 1.0000\n",
      "Epoch 65/100\n",
      "24/24 [==============================] - 0s 13ms/step - loss: 0.0054 - accuracy: 1.0000\n",
      "Epoch 66/100\n",
      "24/24 [==============================] - 0s 13ms/step - loss: 0.0056 - accuracy: 1.0000\n",
      "Epoch 67/100\n",
      "24/24 [==============================] - 0s 13ms/step - loss: 0.0050 - accuracy: 1.0000\n",
      "Epoch 68/100\n",
      "24/24 [==============================] - 0s 13ms/step - loss: 0.0050 - accuracy: 1.0000\n",
      "Epoch 69/100\n",
      "24/24 [==============================] - 0s 13ms/step - loss: 0.0047 - accuracy: 1.0000\n",
      "Epoch 70/100\n",
      "24/24 [==============================] - 0s 13ms/step - loss: 0.0046 - accuracy: 1.0000\n",
      "Epoch 71/100\n",
      "24/24 [==============================] - 0s 13ms/step - loss: 0.0044 - accuracy: 1.0000\n",
      "Epoch 72/100\n",
      "24/24 [==============================] - 0s 13ms/step - loss: 0.0042 - accuracy: 1.0000\n",
      "Epoch 73/100\n",
      "24/24 [==============================] - 0s 13ms/step - loss: 0.0042 - accuracy: 1.0000\n",
      "Epoch 74/100\n",
      "24/24 [==============================] - 0s 13ms/step - loss: 0.0041 - accuracy: 1.0000\n",
      "Epoch 75/100\n",
      "24/24 [==============================] - 0s 13ms/step - loss: 0.0039 - accuracy: 1.0000\n",
      "Epoch 76/100\n",
      "24/24 [==============================] - 0s 13ms/step - loss: 0.0038 - accuracy: 1.0000\n",
      "Epoch 77/100\n",
      "24/24 [==============================] - 0s 13ms/step - loss: 0.0037 - accuracy: 1.0000\n",
      "Epoch 78/100\n",
      "24/24 [==============================] - 0s 13ms/step - loss: 0.0036 - accuracy: 1.0000\n",
      "Epoch 79/100\n",
      "24/24 [==============================] - 0s 13ms/step - loss: 0.0035 - accuracy: 1.0000\n",
      "Epoch 80/100\n",
      "24/24 [==============================] - 0s 13ms/step - loss: 0.0034 - accuracy: 1.0000\n",
      "Epoch 81/100\n",
      "24/24 [==============================] - 0s 13ms/step - loss: 0.0033 - accuracy: 1.0000\n",
      "Epoch 82/100\n",
      "24/24 [==============================] - 0s 13ms/step - loss: 0.0033 - accuracy: 1.0000\n",
      "Epoch 83/100\n",
      "24/24 [==============================] - 0s 13ms/step - loss: 0.0032 - accuracy: 1.0000\n",
      "Epoch 84/100\n",
      "24/24 [==============================] - 0s 13ms/step - loss: 0.0031 - accuracy: 1.0000\n",
      "Epoch 85/100\n",
      "24/24 [==============================] - 0s 13ms/step - loss: 0.0031 - accuracy: 1.0000\n",
      "Epoch 86/100\n",
      "24/24 [==============================] - 0s 13ms/step - loss: 0.0030 - accuracy: 1.0000\n",
      "Epoch 87/100\n",
      "24/24 [==============================] - 0s 13ms/step - loss: 0.0028 - accuracy: 1.0000\n",
      "Epoch 88/100\n",
      "24/24 [==============================] - 0s 13ms/step - loss: 0.0028 - accuracy: 1.0000\n",
      "Epoch 89/100\n",
      "24/24 [==============================] - 0s 13ms/step - loss: 0.0028 - accuracy: 1.0000\n",
      "Epoch 90/100\n",
      "24/24 [==============================] - 0s 13ms/step - loss: 0.0026 - accuracy: 1.0000\n",
      "Epoch 91/100\n",
      "24/24 [==============================] - 0s 13ms/step - loss: 0.0026 - accuracy: 1.0000\n",
      "Epoch 92/100\n",
      "24/24 [==============================] - 0s 13ms/step - loss: 0.0025 - accuracy: 1.0000\n",
      "Epoch 93/100\n",
      "24/24 [==============================] - 0s 12ms/step - loss: 0.0024 - accuracy: 1.0000\n",
      "Epoch 94/100\n",
      "24/24 [==============================] - 0s 13ms/step - loss: 0.0024 - accuracy: 1.0000\n",
      "Epoch 95/100\n",
      "24/24 [==============================] - 0s 13ms/step - loss: 0.0024 - accuracy: 1.0000\n",
      "Epoch 96/100\n",
      "24/24 [==============================] - 0s 13ms/step - loss: 0.0024 - accuracy: 1.0000\n",
      "Epoch 97/100\n",
      "24/24 [==============================] - 0s 13ms/step - loss: 0.0022 - accuracy: 1.0000\n",
      "Epoch 98/100\n",
      "24/24 [==============================] - 0s 13ms/step - loss: 0.0022 - accuracy: 1.0000\n",
      "Epoch 99/100\n",
      "24/24 [==============================] - 0s 13ms/step - loss: 0.0022 - accuracy: 1.0000\n",
      "Epoch 100/100\n",
      "24/24 [==============================] - 0s 13ms/step - loss: 0.0021 - accuracy: 1.0000\n"
     ]
    },
    {
     "data": {
      "text/plain": [
       "<tensorflow.python.keras.callbacks.History at 0x7fa0e392ee48>"
      ]
     },
     "execution_count": 11,
     "metadata": {},
     "output_type": "execute_result"
    }
   ],
   "source": [
    "model_classifier.fit(PEI_Vecs, y,epochs=100)"
   ]
  },
  {
   "cell_type": "code",
   "execution_count": 12,
   "metadata": {},
   "outputs": [],
   "source": [
    "model_classifier.save('weights/classifier.h5')"
   ]
  },
  {
   "cell_type": "code",
   "execution_count": 48,
   "metadata": {},
   "outputs": [],
   "source": [
    "model_classifier.load_weights('weights/classifier.h5')"
   ]
  },
  {
   "cell_type": "markdown",
   "metadata": {},
   "source": [
    "# Adding Occlusions"
   ]
  },
  {
   "cell_type": "code",
   "execution_count": 54,
   "metadata": {},
   "outputs": [],
   "source": [
    "def occlude(enc_vec, labels, occluRatio=0.3):\n",
    "    enc_vecs = copy.deepcopy(enc_vec)\n",
    "    for i, label in enumerate(labels):\n",
    "        for j in range(len(enc_vecs[i])):\n",
    "            mask = np.random.random((len(enc_vecs[i][j]),1)) > occluRatio\n",
    "            enc_vecs[i][j] = mask*enc_vecs[i][j]\n",
    "    return enc_vecs"
   ]
  },
  {
   "cell_type": "code",
   "execution_count": 88,
   "metadata": {},
   "outputs": [],
   "source": [
    "def filter_enc(enc_vec, model_birnn, labels):\n",
    "    batch_enc = []\n",
    "    for i, label in enumerate(labels):\n",
    "        for j in range(len(enc_vec[i])):\n",
    "            for k in range(len(enc_vec[i][j])-6 + 1):\n",
    "                batch_enc.append(enc_vec[i][j][k:k+6])\n",
    "    batch_enc = np.array(batch_enc)\n",
    "\n",
    "    batch_enc = model_birnn.predict( batch_enc )\n",
    "    cnt = 0\n",
    "\n",
    "    for i, label in enumerate(labels):\n",
    "        for j in range(len(enc_vec[i])):\n",
    "            for k in range(len(enc_vec[i][j])-6 + 1):\n",
    "                enc_vec[i][j][k:k+6] = batch_enc[cnt]\n",
    "                cnt+=1\n",
    "    \n",
    "    return enc_vec"
   ]
  },
  {
   "cell_type": "code",
   "execution_count": 89,
   "metadata": {},
   "outputs": [],
   "source": [
    "model_BiRNN.load_weights('weights/BiRNN.h5')"
   ]
  },
  {
   "cell_type": "code",
   "execution_count": 133,
   "metadata": {},
   "outputs": [],
   "source": [
    "enc_i = occlude(enc_vec, labels, 0.7)"
   ]
  },
  {
   "cell_type": "code",
   "execution_count": 134,
   "metadata": {},
   "outputs": [],
   "source": [
    "enc_i = filter_enc(enc_i, model_BiRNN, labels)"
   ]
  },
  {
   "cell_type": "code",
   "execution_count": 135,
   "metadata": {},
   "outputs": [
    {
     "name": "stderr",
     "output_type": "stream",
     "text": [
      "/home/hexplex0xff/GAN/gan/lib/python3.6/site-packages/ipykernel_launcher.py:9: RuntimeWarning: Mean of empty slice.\n",
      "  if __name__ == '__main__':\n",
      "/home/hexplex0xff/GAN/gan/lib/python3.6/site-packages/numpy/core/_methods.py:163: RuntimeWarning: invalid value encountered in true_divide\n",
      "  ret, rcount, out=ret, casting='unsafe', subok=False)\n"
     ]
    }
   ],
   "source": [
    "test_PEI, y = fetch_PEI(enc_i, z, labels)"
   ]
  },
  {
   "cell_type": "code",
   "execution_count": 136,
   "metadata": {},
   "outputs": [],
   "source": [
    "y_pred = np.argmax(model_classifier.predict(test_PEI), axis=-1)"
   ]
  },
  {
   "cell_type": "code",
   "execution_count": 137,
   "metadata": {},
   "outputs": [
    {
     "data": {
      "text/plain": [
       "0.5883940620782726"
      ]
     },
     "execution_count": 137,
     "metadata": {},
     "output_type": "execute_result"
    }
   ],
   "source": [
    "accuracy_score(y, y_pred)"
   ]
  },
  {
   "cell_type": "code",
   "execution_count": 73,
   "metadata": {},
   "outputs": [],
   "source": []
  },
  {
   "cell_type": "code",
   "execution_count": 87,
   "metadata": {},
   "outputs": [],
   "source": []
  },
  {
   "cell_type": "code",
   "execution_count": null,
   "metadata": {},
   "outputs": [],
   "source": []
  },
  {
   "cell_type": "code",
   "execution_count": null,
   "metadata": {},
   "outputs": [],
   "source": []
  }
 ],
 "metadata": {
  "kernelspec": {
   "display_name": "Python 3",
   "language": "python",
   "name": "python3"
  },
  "language_info": {
   "codemirror_mode": {
    "name": "ipython",
    "version": 3
   },
   "file_extension": ".py",
   "mimetype": "text/x-python",
   "name": "python",
   "nbconvert_exporter": "python",
   "pygments_lexer": "ipython3",
   "version": "3.6.9"
  }
 },
 "nbformat": 4,
 "nbformat_minor": 4
}
