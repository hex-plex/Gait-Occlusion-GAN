{
 "cells": [
  {
   "cell_type": "code",
   "execution_count": 1,
   "metadata": {},
   "outputs": [
    {
     "name": "stderr",
     "output_type": "stream",
     "text": [
      "/home/hexplex0xff/GAN/gan/lib/python3.6/site-packages/tensorflow/python/framework/dtypes.py:469: FutureWarning: Passing (type, 1) or '1type' as a synonym of type is deprecated; in a future version of numpy, it will be understood as (type, (1,)) / '(1,)type'.\n",
      "  _np_qint8 = np.dtype([(\"qint8\", np.int8, 1)])\n",
      "/home/hexplex0xff/GAN/gan/lib/python3.6/site-packages/tensorflow/python/framework/dtypes.py:470: FutureWarning: Passing (type, 1) or '1type' as a synonym of type is deprecated; in a future version of numpy, it will be understood as (type, (1,)) / '(1,)type'.\n",
      "  _np_quint8 = np.dtype([(\"quint8\", np.uint8, 1)])\n",
      "/home/hexplex0xff/GAN/gan/lib/python3.6/site-packages/tensorflow/python/framework/dtypes.py:471: FutureWarning: Passing (type, 1) or '1type' as a synonym of type is deprecated; in a future version of numpy, it will be understood as (type, (1,)) / '(1,)type'.\n",
      "  _np_qint16 = np.dtype([(\"qint16\", np.int16, 1)])\n",
      "/home/hexplex0xff/GAN/gan/lib/python3.6/site-packages/tensorflow/python/framework/dtypes.py:472: FutureWarning: Passing (type, 1) or '1type' as a synonym of type is deprecated; in a future version of numpy, it will be understood as (type, (1,)) / '(1,)type'.\n",
      "  _np_quint16 = np.dtype([(\"quint16\", np.uint16, 1)])\n",
      "/home/hexplex0xff/GAN/gan/lib/python3.6/site-packages/tensorflow/python/framework/dtypes.py:473: FutureWarning: Passing (type, 1) or '1type' as a synonym of type is deprecated; in a future version of numpy, it will be understood as (type, (1,)) / '(1,)type'.\n",
      "  _np_qint32 = np.dtype([(\"qint32\", np.int32, 1)])\n",
      "/home/hexplex0xff/GAN/gan/lib/python3.6/site-packages/tensorflow/python/framework/dtypes.py:476: FutureWarning: Passing (type, 1) or '1type' as a synonym of type is deprecated; in a future version of numpy, it will be understood as (type, (1,)) / '(1,)type'.\n",
      "  np_resource = np.dtype([(\"resource\", np.ubyte, 1)])\n",
      "/usr/lib/python3.6/importlib/_bootstrap.py:219: RuntimeWarning: compiletime version 3.5 of module 'tensorflow.python.framework.fast_tensor_util' does not match runtime version 3.6\n",
      "  return f(*args, **kwds)\n",
      "Using TensorFlow backend.\n"
     ]
    }
   ],
   "source": [
    "import tensorflow as tf\n",
    "import keras\n",
    "from keras import backend as K\n",
    "from keras.utils.vis_utils import plot_model\n",
    "import numpy as np\n",
    "import matplotlib.pyplot as plt\n",
    "import os\n",
    "import cv2\n",
    "from PIL import Image\n",
    "import pickle\n",
    "from tqdm import tqdm\n",
    "import gait\n",
    "from train import CVAE_FULL"
   ]
  },
  {
   "cell_type": "code",
   "execution_count": 5,
   "metadata": {},
   "outputs": [],
   "source": [
    "image_vec_shape = 12\n",
    "gait_key_poses = 16\n",
    "conditional_vec_shape = 4\n",
    "pose_image_shape = (160,160,1)\n",
    "batch_size = 50\n",
    "full_vec_shape = image_vec_shape+conditional_vec_shape\n",
    "n_timesteps = 3\n",
    "angle = '090'"
   ]
  },
  {
   "cell_type": "code",
   "execution_count": 7,
   "metadata": {},
   "outputs": [
    {
     "name": "stderr",
     "output_type": "stream",
     "text": [
      "100%|██████████| 124/124 [00:06<00:00, 18.42it/s]\n"
     ]
    }
   ],
   "source": [
    "encoder = keras.models.Model(CVAE_FULL.input, CVAE_FULL.get_layer('concat_zcond').output)\n",
    "encoded_vec = gait.encode_data(encoder,label_angle='090')"
   ]
  },
  {
   "cell_type": "code",
   "execution_count": 22,
   "metadata": {},
   "outputs": [],
   "source": [
    "class GANDataGenerator(keras.utils.Sequence):\n",
    "    def __init__(self, generator, encoded_vec, preprocess=None,  batch_size = 50, full_vec_shape=(1,16), dim=(160,160), n_classes=16, shuffle=True):\n",
    "        self.dim = dim\n",
    "        self.encoded_vec = encoded_vec\n",
    "        self.full_vec = full_vec_shape\n",
    "        self.batch_size = batch_size//2\n",
    "        self.gen = generator\n",
    "        self.preprocess = preprocess or (lambda x : x)\n",
    "        self.n_channels = 1\n",
    "        self.n_classes = n_classes\n",
    "        self.shuffle = shuffle\n",
    "        self.data = self.correlate()\n",
    "        self.on_epoch_end()\n",
    "        \n",
    "    def correlate(self):\n",
    "        data = []\n",
    "        for folder in self.encoded_vec:\n",
    "            i = 0\n",
    "            for filename in sorted(os.listdir(folder)):\n",
    "                if file[:-3]!='pkl' and file[:-3]!='npy' and file[:-3]!='npz':\n",
    "                    data.append(['/'.join([folder, filename]), self.encoded_vec[folder][i:i+1,:]])\n",
    "                    i += 1\n",
    "        return data\n",
    "        \n",
    "    def __len__(self):\n",
    "        return int(np.floor(len(self.data)/self.batch_size))\n",
    "    \n",
    "    def __getitem__(self, index):\n",
    "        indexes = self.indexes[index*self.batch_size:(index+1)*self.batch_size]\n",
    "        \n",
    "        files_temp = [self.data[k] for k in indexes]\n",
    "        \n",
    "        X,y = self.__data_generation(files_temp)\n",
    "        return X,y\n",
    "    \n",
    "    def on_epoch_end(self):\n",
    "        self.indexes = np.arange(len(self.files))\n",
    "        if self.shuffle == True:\n",
    "            np.random.shuffle(self.indexes)\n",
    "\n",
    "    def __data_generation(self, files_temp):\n",
    "        X = np.empty((2*self.batch_size, *self.dim, self.n_channels))\n",
    "        y = np.append(np.ones((self.batch_size,1)),np.zeros((self.batch_size,1))).reshape(2*self.batch_size)\n",
    "        for i,[filename,enc]  in enumerate(files_temp):\n",
    "            X[i,] = cv2.copyMakeBorder(self.preprocess(cv2.imread(filename)), 0, 0, 20, 20, cv2.BORDER_CONSTANT, (0,0,0)).reshape(*self.dim, self.n_channels)/255.\n",
    "        for i in range(self.batch_size, 2*self.batch_size):    \n",
    "            X[i,] = self.gen(self.data[enc])\n",
    "        return X, y"
   ]
  },
  {
   "cell_type": "code",
   "execution_count": null,
   "metadata": {},
   "outputs": [],
   "source": [
    "def define_discriminator():\n",
    "    init = keras.initializers.RandomNormal(stddev=0.02)\n",
    "    in_src_image = keras.layers.Input(shape=pose_image_shape)\n",
    "    in_target_image = keras.layers.Input(shape=pose_image_shape)\n",
    "    merged = keras.layers.Concatenate()([in_src_image, in_target_image])\n",
    "    d = keras.layers.Conv2D(64, (4,4), strides=(2,2), padding='same', kernel_initializer=init)(merged)\n",
    "    d = keras.layers.LeakyReLU(alpha=0.2)(d)\n",
    "    \n",
    "    d = keras.layers.Conv2D(128, (4,4), strides=(2,2), padding='same', kernel_initializer=init)(d)\n",
    "    d = keras.layers.BatchNormalization()(d)\n",
    "    d = keras.layers.LeakyReLU(alpha=0.2)(d)\n",
    "    \n",
    "    d = keras.layers.Conv2D(256, (4,4), strides=(2,2), padding='same', kernel_initializer=init)(d)\n",
    "    d = keras.layers.BatchNormalization()(d)\n",
    "    d = keras.layers.LeakyReLU(alpha=0.2)(d)\n",
    "    \n",
    "    d = keras.layers.Conv2D(512, (4,4), padding='same', kernel_initializer=init)(d)\n",
    "    d = keras.layers.BatchNormalization()(d)\n",
    "    d = keras.layers.LeakyReLU(alpha=0.2)(d)\n",
    "    \n",
    "    d = keras.layers.Flatten()(d)\n",
    "    d = keras.layers.Dense(64, activation='relu')(d)\n",
    "    ver = keras.layers.Dense(1, activation='sigmoid')(d)\n",
    "    \n",
    "    model = keras.models.Model([in_src_image, in_target_image], ver)\n",
    "    model.compile(loss='binary_crossentropy',optimizer='Adam')\n",
    "    return model"
   ]
  },
  {
   "cell_type": "code",
   "execution_count": null,
   "metadata": {},
   "outputs": [],
   "source": []
  },
  {
   "cell_type": "code",
   "execution_count": null,
   "metadata": {},
   "outputs": [],
   "source": []
  },
  {
   "cell_type": "code",
   "execution_count": null,
   "metadata": {},
   "outputs": [],
   "source": []
  },
  {
   "cell_type": "code",
   "execution_count": null,
   "metadata": {},
   "outputs": [],
   "source": []
  }
 ],
 "metadata": {
  "kernelspec": {
   "display_name": "Python 3",
   "language": "python",
   "name": "python3"
  },
  "language_info": {
   "codemirror_mode": {
    "name": "ipython",
    "version": 3
   },
   "file_extension": ".py",
   "mimetype": "text/x-python",
   "name": "python",
   "nbconvert_exporter": "python",
   "pygments_lexer": "ipython3",
   "version": "3.6.9"
  }
 },
 "nbformat": 4,
 "nbformat_minor": 4
}
