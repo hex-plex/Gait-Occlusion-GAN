{
 "cells": [
  {
   "cell_type": "code",
   "execution_count": 1,
   "metadata": {},
   "outputs": [
    {
     "name": "stderr",
     "output_type": "stream",
     "text": [
      "/home/hexplex0xff/GAN/gan/lib/python3.6/site-packages/tensorflow/python/framework/dtypes.py:469: FutureWarning: Passing (type, 1) or '1type' as a synonym of type is deprecated; in a future version of numpy, it will be understood as (type, (1,)) / '(1,)type'.\n",
      "  _np_qint8 = np.dtype([(\"qint8\", np.int8, 1)])\n",
      "/home/hexplex0xff/GAN/gan/lib/python3.6/site-packages/tensorflow/python/framework/dtypes.py:470: FutureWarning: Passing (type, 1) or '1type' as a synonym of type is deprecated; in a future version of numpy, it will be understood as (type, (1,)) / '(1,)type'.\n",
      "  _np_quint8 = np.dtype([(\"quint8\", np.uint8, 1)])\n",
      "/home/hexplex0xff/GAN/gan/lib/python3.6/site-packages/tensorflow/python/framework/dtypes.py:471: FutureWarning: Passing (type, 1) or '1type' as a synonym of type is deprecated; in a future version of numpy, it will be understood as (type, (1,)) / '(1,)type'.\n",
      "  _np_qint16 = np.dtype([(\"qint16\", np.int16, 1)])\n",
      "/home/hexplex0xff/GAN/gan/lib/python3.6/site-packages/tensorflow/python/framework/dtypes.py:472: FutureWarning: Passing (type, 1) or '1type' as a synonym of type is deprecated; in a future version of numpy, it will be understood as (type, (1,)) / '(1,)type'.\n",
      "  _np_quint16 = np.dtype([(\"quint16\", np.uint16, 1)])\n",
      "/home/hexplex0xff/GAN/gan/lib/python3.6/site-packages/tensorflow/python/framework/dtypes.py:473: FutureWarning: Passing (type, 1) or '1type' as a synonym of type is deprecated; in a future version of numpy, it will be understood as (type, (1,)) / '(1,)type'.\n",
      "  _np_qint32 = np.dtype([(\"qint32\", np.int32, 1)])\n",
      "/home/hexplex0xff/GAN/gan/lib/python3.6/site-packages/tensorflow/python/framework/dtypes.py:476: FutureWarning: Passing (type, 1) or '1type' as a synonym of type is deprecated; in a future version of numpy, it will be understood as (type, (1,)) / '(1,)type'.\n",
      "  np_resource = np.dtype([(\"resource\", np.ubyte, 1)])\n",
      "/usr/lib/python3.6/importlib/_bootstrap.py:219: RuntimeWarning: compiletime version 3.5 of module 'tensorflow.python.framework.fast_tensor_util' does not match runtime version 3.6\n",
      "  return f(*args, **kwds)\n",
      "Using TensorFlow backend.\n"
     ]
    }
   ],
   "source": [
    "import tensorflow as tf\n",
    "import keras\n",
    "from keras import backend as K\n",
    "from keras.utils.vis_utils import plot_model\n",
    "import numpy as np\n",
    "import matplotlib.pyplot as plt\n",
    "import os\n",
    "import cv2\n",
    "from PIL import Image\n",
    "import pickle\n",
    "from tqdm import tqdm\n",
    "import gait\n",
    "from train import CVAE_FULL"
   ]
  },
  {
   "cell_type": "code",
   "execution_count": 5,
   "metadata": {},
   "outputs": [],
   "source": [
    "image_vec_shape = 12\n",
    "gait_key_poses = 16\n",
    "conditional_vec_shape = 4\n",
    "pose_image_shape = (160,160,1)\n",
    "batch_size = 50\n",
    "full_vec_shape = image_vec_shape+conditional_vec_shape\n",
    "n_timesteps = 3\n",
    "angle = '090'"
   ]
  },
  {
   "cell_type": "code",
   "execution_count": 7,
   "metadata": {},
   "outputs": [
    {
     "name": "stderr",
     "output_type": "stream",
     "text": [
      "100%|██████████| 124/124 [00:06<00:00, 18.42it/s]\n"
     ]
    }
   ],
   "source": [
    "encoder = keras.models.Model(CVAE_FULL.input, CVAE_FULL.get_layer('concat_zcond').output)\n",
    "encoded_vec = gait.encode_data(encoder,label_angle='090')"
   ]
  },
  {
   "cell_type": "code",
   "execution_count": 8,
   "metadata": {},
   "outputs": [],
   "source": [
    "class GANDataGenerator(keras.utils.Sequence):\n",
    "    def __init__(self, generator, encoded_vec, preprocess=None,  batch_size = 50, full_vec_shape=(1,16), dim=(160,160), n_classes=16, shuffle=True):\n",
    "        self.dim = dim\n",
    "        self.encoded_vec = encoded_vec\n",
    "        self.full_vec = full_vec_shape\n",
    "        self.batch_size = batch_size\n",
    "        self.gen = generator\n",
    "        self.preprocess = preprocess or (lambda x : x)\n",
    "        self.n_classes = n_classes\n",
    "        self.shuffle = shuffle\n",
    "        self.on_epoch_end()\n",
    "        \n",
    "    def correlate(self):\n",
    "        for folder in self.encoded_vec:\n",
    "            i = 0\n",
    "            for file in sorted(os.listdir(folder)):\n",
    "                if file[:-3]!='pkl' and file[:-3]!='npy' and file[:-3]!='npz':\n",
    "                    \n",
    "                    i += 1\n",
    "            \n",
    "        self.dataset = list(zip())\n",
    "        \n",
    "    def __len__(self):\n",
    "        return int(np.floor(len(self.files)/self.batch_size))\n",
    "    \n",
    "    def __getitem__(self, index):\n",
    "        indexes = self.indexes[index*self.batch_size:(index+1)*self.batch_size]\n",
    "        \n",
    "        files_temp = [self.files[k] for k in indexes]\n",
    "        \n",
    "        X,z = self.__data_generation(files_temp)\n",
    "        return [X,z], None\n",
    "    \n",
    "    def on_epoch_end(self):\n",
    "        self.indexes = np.arange(len(self.files))\n",
    "        if self.shuffle == True:\n",
    "            np.random.shuffle(self.indexes)\n",
    "\n",
    "    def __data_generation(self, files_temp):\n",
    "        X = np.empty((self.batch_size, *self.dim, self.n_channels))\n",
    "        z = np.empty((self.batch_size),dtype=int)\n",
    "        for i,file in enumerate(files_temp):\n",
    "            X[i,] = cv2.copyMakeBorder(self.preprocess(cv2.imread(file)), 0, 0, 20, 20, cv2.BORDER_CONSTANT, (0,0,0)).reshape(*self.dim, self.n_channels)/255.\n",
    "            z[i] = self.labels[file]\n",
    "        return X, keras.utils.to_categorical(z, num_classes=self.n_classes)"
   ]
  },
  {
   "cell_type": "code",
   "execution_count": 12,
   "metadata": {},
   "outputs": [
    {
     "data": {
      "text/plain": [
       "(59, 16)"
      ]
     },
     "execution_count": 12,
     "metadata": {},
     "output_type": "execute_result"
    }
   ],
   "source": [
    "encoded_vec['/home/hexplex0xff/GAN/GaitDatasetB-silh/001/bg-01/090'].shape"
   ]
  },
  {
   "cell_type": "code",
   "execution_count": 16,
   "metadata": {},
   "outputs": [],
   "source": [
    "import os"
   ]
  },
  {
   "cell_type": "code",
   "execution_count": 18,
   "metadata": {},
   "outputs": [
    {
     "data": {
      "text/plain": [
       "['001-bg-01-090-035.png',\n",
       " '001-bg-01-090-036.png',\n",
       " '001-bg-01-090-037.png',\n",
       " '001-bg-01-090-038.png',\n",
       " '001-bg-01-090-039.png',\n",
       " '001-bg-01-090-040.png',\n",
       " '001-bg-01-090-041.png',\n",
       " '001-bg-01-090-042.png',\n",
       " '001-bg-01-090-043.png',\n",
       " '001-bg-01-090-044.png',\n",
       " '001-bg-01-090-045.png',\n",
       " '001-bg-01-090-046.png',\n",
       " '001-bg-01-090-047.png',\n",
       " '001-bg-01-090-048.png',\n",
       " '001-bg-01-090-049.png',\n",
       " '001-bg-01-090-050.png',\n",
       " '001-bg-01-090-051.png',\n",
       " '001-bg-01-090-052.png',\n",
       " '001-bg-01-090-053.png',\n",
       " '001-bg-01-090-054.png',\n",
       " '001-bg-01-090-055.png',\n",
       " '001-bg-01-090-056.png',\n",
       " '001-bg-01-090-057.png',\n",
       " '001-bg-01-090-058.png',\n",
       " '001-bg-01-090-059.png',\n",
       " '001-bg-01-090-060.png',\n",
       " '001-bg-01-090-061.png',\n",
       " '001-bg-01-090-062.png',\n",
       " '001-bg-01-090-063.png',\n",
       " '001-bg-01-090-064.png',\n",
       " '001-bg-01-090-065.png',\n",
       " '001-bg-01-090-066.png',\n",
       " '001-bg-01-090-067.png',\n",
       " '001-bg-01-090-068.png',\n",
       " '001-bg-01-090-069.png',\n",
       " '001-bg-01-090-070.png',\n",
       " '001-bg-01-090-071.png',\n",
       " '001-bg-01-090-072.png',\n",
       " '001-bg-01-090-073.png',\n",
       " '001-bg-01-090-074.png',\n",
       " '001-bg-01-090-075.png',\n",
       " '001-bg-01-090-076.png',\n",
       " '001-bg-01-090-077.png',\n",
       " '001-bg-01-090-078.png',\n",
       " '001-bg-01-090-079.png',\n",
       " '001-bg-01-090-080.png',\n",
       " '001-bg-01-090-081.png',\n",
       " '001-bg-01-090-082.png',\n",
       " '001-bg-01-090-083.png',\n",
       " '001-bg-01-090-084.png',\n",
       " '001-bg-01-090-085.png',\n",
       " '001-bg-01-090-086.png',\n",
       " '001-bg-01-090-087.png',\n",
       " '001-bg-01-090-088.png',\n",
       " '001-bg-01-090-089.png',\n",
       " '001-bg-01-090-090.png',\n",
       " '001-bg-01-090-091.png',\n",
       " '001-bg-01-090-092.png',\n",
       " '001-bg-01-090-093.png',\n",
       " 'enc_vec.npy',\n",
       " 'labels.pkl']"
      ]
     },
     "execution_count": 18,
     "metadata": {},
     "output_type": "execute_result"
    }
   ],
   "source": [
    "sorted(os.listdir('/home/hexplex0xff/GAN/GaitDatasetB-silh/001/bg-01/090'))"
   ]
  },
  {
   "cell_type": "code",
   "execution_count": null,
   "metadata": {},
   "outputs": [],
   "source": []
  }
 ],
 "metadata": {
  "kernelspec": {
   "display_name": "Python 3",
   "language": "python",
   "name": "python3"
  },
  "language_info": {
   "codemirror_mode": {
    "name": "ipython",
    "version": 3
   },
   "file_extension": ".py",
   "mimetype": "text/x-python",
   "name": "python",
   "nbconvert_exporter": "python",
   "pygments_lexer": "ipython3",
   "version": "3.6.9"
  }
 },
 "nbformat": 4,
 "nbformat_minor": 4
}
