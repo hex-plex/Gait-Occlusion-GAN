{
 "cells": [
  {
   "cell_type": "code",
   "execution_count": 1,
   "metadata": {},
   "outputs": [],
   "source": [
    "import cv2\n",
    "import numpy as np\n",
    "import matplotlib as mpl\n",
    "import matplotlib.pyplot as plt\n",
    "import time"
   ]
  },
  {
   "cell_type": "code",
   "execution_count": 2,
   "metadata": {},
   "outputs": [
    {
     "name": "stdout",
     "output_type": "stream",
     "text": [
      "C:\\Users\\somna\\GAN\\GaitDatasetB-silh\n"
     ]
    }
   ],
   "source": [
    "cd GaitDatasetB-silh"
   ]
  },
  {
   "cell_type": "code",
   "execution_count": 3,
   "metadata": {},
   "outputs": [
    {
     "name": "stdout",
     "output_type": "stream",
     "text": [
      " Volume in drive C is OS\n",
      " Volume Serial Number is 181C-9033\n",
      "\n",
      " Directory of C:\\Users\\somna\\GAN\\GaitDatasetB-silh\\002\\bg-02\n",
      "\n",
      "24-02-2006  16:43    <DIR>          .\n",
      "24-02-2006  16:43    <DIR>          ..\n",
      "24-02-2006  16:43    <DIR>          000\n",
      "24-02-2006  16:43    <DIR>          018\n",
      "24-02-2006  16:43    <DIR>          036\n",
      "24-02-2006  16:43    <DIR>          054\n",
      "24-02-2006  16:43    <DIR>          072\n",
      "24-02-2006  16:43    <DIR>          090\n",
      "24-02-2006  16:43    <DIR>          108\n",
      "24-02-2006  16:43    <DIR>          126\n",
      "24-02-2006  16:43    <DIR>          144\n",
      "24-02-2006  16:43    <DIR>          162\n",
      "24-02-2006  16:43    <DIR>          180\n",
      "               0 File(s)              0 bytes\n",
      "              13 Dir(s)  12,447,363,072 bytes free\n"
     ]
    }
   ],
   "source": [
    "ls 002\\\\bg-02"
   ]
  },
  {
   "cell_type": "code",
   "execution_count": 4,
   "metadata": {},
   "outputs": [],
   "source": [
    "import os"
   ]
  },
  {
   "cell_type": "code",
   "execution_count": 65,
   "metadata": {},
   "outputs": [],
   "source": [
    "for file in os.listdir(os.getcwd()+'/001/nm-01/036/'): \n",
    "    a = cv2.imread('001/nm-01/036/'+file)\n",
    "    cv2.imshow('frame',a)\n",
    "    cv2.waitKey(0)\n",
    "cv2.destroyAllWindows()"
   ]
  },
  {
   "cell_type": "code",
   "execution_count": 6,
   "metadata": {},
   "outputs": [],
   "source": [
    "def get_feature_vectors(imgs,k=10):\n",
    "    G = np.vstack(tuple(img[:,:,0].reshape(-1).astype(np.float64)/255. for img in imgs))\n",
    "    avg = G.T.mean(axis=1)\n",
    "    A = G.T-avg.reshape(-1,1)\n",
    "    X = A.T@A / A.shape[1]\n",
    "    eigvalue, eigvec = np.linalg.eigh(X)\n",
    "    U = A@eigvec\n",
    "    u = U/np.linalg.norm(U, axis=0)\n",
    "    u_sorted = u[:,np.argsort(eigvalue)[::-1]]\n",
    "    u_k = u_sorted[:,0:k]\n",
    "    W = u_k.T@A\n",
    "    A1 = u_k@W\n",
    "    return W, A1, A, u_k"
   ]
  },
  {
   "cell_type": "code",
   "execution_count": 229,
   "metadata": {},
   "outputs": [],
   "source": [
    "W, A1, A, u_k = get_feature_vectors((cv2.resize(cv2.imread('001/bg-02/090/'+file),(160,120)) for file in os.listdir(os.getcwd()+'/001/bg-02/090')))"
   ]
  },
  {
   "cell_type": "code",
   "execution_count": 230,
   "metadata": {},
   "outputs": [],
   "source": [
    "def assert_images(X1,X, HEIGHT=320, WIDTH=240):\n",
    "    for i in range(X1.shape[1]):\n",
    "        cv2.imshow('frame',((X1).reshape(WIDTH, HEIGHT, -1)[:,:,i]))\n",
    "        cv2.imshow('frame2',((X).reshape(WIDTH, HEIGHT, -1)[:,:,i]))\n",
    "        cv2.waitKey(0)\n",
    "    cv2.destroyAllWindows()"
   ]
  },
  {
   "cell_type": "code",
   "execution_count": 231,
   "metadata": {},
   "outputs": [],
   "source": [
    "assert_images(A1,A,160,120)"
   ]
  },
  {
   "cell_type": "code",
   "execution_count": 232,
   "metadata": {},
   "outputs": [],
   "source": [
    "class KMeans():\n",
    "    def __init__(self, K = 16):\n",
    "        self.K = K\n",
    "        self.states = [[] for _ in range(self.K)]\n",
    "        self.P = np.zeros((10,self.K))\n",
    "    def fit(self,W):\n",
    "        self.W = W\n",
    "        for j in range(self.W.shape[1]):\n",
    "            self.states[int(j*self.K/self.W.shape[1])].append(j)\n",
    "        for i, state in enumerate(self.states):\n",
    "            self.P[:,i] = self.W[:,state].mean(axis=1)\n",
    "        self.converge()\n",
    "    def converge(self):\n",
    "        changes = 0\n",
    "        while changes < 5 :\n",
    "            prev_states = self.states\n",
    "            for i, state in enumerate(self.states):\n",
    "                self.P[:,i] = self.W[:,state].mean(axis=1)\n",
    "            temp_states = []\n",
    "            for i in range(self.K):\n",
    "                temp_state = []\n",
    "                for j in [max(0,i-1), min(i+1,self.K-1)]:\n",
    "                    if i == j: continue\n",
    "                    for state in self.states[j]:\n",
    "                        if np.linalg.norm(self.W[:,state]-self.P[:,i]) <= np.linalg.norm(self.W[:,state]-self.P[:,j]):\n",
    "                            print(i,j)\n",
    "                            temp_state.append([j,state])\n",
    "                temp_states.append(temp_state)\n",
    "            for i, temp_state in enumerate(temp_states):\n",
    "                temp_state.sort(key=lambda x : -x[1] if x[0]<i else x[0])\n",
    "                for clst, frm in temp_state:\n",
    "                    if clst<i:\n",
    "                        if self.states[clst][-1] == frm and len(self.states[clst])>1:\n",
    "                            self.states[clst].remove(frm)\n",
    "                        else:\n",
    "                            temp_states[i].remove([clst,frm])\n",
    "                    else:\n",
    "                        if self.states[clst][0] == frm and len(self.states[clst])>1:\n",
    "                            self.states[clst].remove(frm)\n",
    "                        else:\n",
    "                            temp_states[i].remove([clst,frm])\n",
    "            for i in range(len(self.states)):\n",
    "                for _, x in temp_states[i]:\n",
    "                    self.states[i].append(x)\n",
    "                self.states[i].sort()\n",
    "            if self.states != prev_states:\n",
    "                changes = 0\n",
    "            else:\n",
    "                changes += 1\n",
    "    def predict(self, W_t):\n",
    "        MV = np.array(tuple(np.linalg.norm(W_t - self.P[:,i:i+1],axis=0) for i in range(self.K)))\n",
    "        MV = 1 - MV / MV.max(axis=0)\n",
    "        return MV"
   ]
  },
  {
   "cell_type": "code",
   "execution_count": 233,
   "metadata": {},
   "outputs": [],
   "source": [
    "kmeans = KMeans(K=16)"
   ]
  },
  {
   "cell_type": "code",
   "execution_count": 234,
   "metadata": {},
   "outputs": [
    {
     "name": "stdout",
     "output_type": "stream",
     "text": [
      "15 14\n"
     ]
    },
    {
     "data": {
      "text/plain": [
       "[[0, 1, 2, 3],\n",
       " [4, 5, 6, 7],\n",
       " [8, 9, 10],\n",
       " [11, 12, 13, 14],\n",
       " [15, 16, 17, 18],\n",
       " [19, 20, 21],\n",
       " [22, 23, 24, 25],\n",
       " [26, 27, 28],\n",
       " [29, 30, 31, 32],\n",
       " [33, 34, 35, 36],\n",
       " [37, 38, 39],\n",
       " [40, 41, 42, 43],\n",
       " [44, 45, 46, 47],\n",
       " [48, 49, 50],\n",
       " [51, 52, 53],\n",
       " [54, 55, 56, 57]]"
      ]
     },
     "execution_count": 234,
     "metadata": {},
     "output_type": "execute_result"
    }
   ],
   "source": [
    "kmeans.fit(W)\n",
    "kmeans.states"
   ]
  },
  {
   "cell_type": "code",
   "execution_count": 237,
   "metadata": {},
   "outputs": [],
   "source": [
    "test_imgs = (cv2.resize(cv2.imread('001/nm-01/090/'+file), (160, 120)) for file in os.listdir(os.getcwd()+'/001/nm-01/090'))"
   ]
  },
  {
   "cell_type": "code",
   "execution_count": 238,
   "metadata": {},
   "outputs": [],
   "source": [
    "W_t, A1_t , A_t, _ = get_feature_vectors(test_imgs)"
   ]
  },
  {
   "cell_type": "code",
   "execution_count": 239,
   "metadata": {},
   "outputs": [],
   "source": [
    "assert_images(A1_t, A_t, 160, 120)"
   ]
  },
  {
   "cell_type": "code",
   "execution_count": 240,
   "metadata": {},
   "outputs": [],
   "source": [
    "def graph_sort(k_means, W_i):\n",
    "    E = k_means.predict(W_i)\n",
    "    V = np.zeros((E.shape[0]*E.shape[1], E.shape[0]*E.shape[1]))\n",
    "    decode = lambda x,k : (x%k,x//k)\n",
    "    encode = lambda i,j,k: j*k + i\n",
    "    for cnt in range(V.shape[0]-E.shape[0]):\n",
    "        i,j = decode(cnt, E.shape[0])\n",
    "        for pos in [(i,j+1),((i+1)%E.shape[0],j+1)]:\n",
    "            V[cnt,encode(*pos, E.shape[0])] = 1    # if V[x][y] == 1 then x->y only\n",
    "    PV = np.zeros_like(E)\n",
    "    for curr in range(V.shape[0]):\n",
    "        maxx = 0\n",
    "        for prev in np.where(V[:,curr]==1)[0]:\n",
    "            temp = PV[decode(prev,E.shape[0])]\n",
    "            if temp>maxx:\n",
    "                maxx = temp\n",
    "        PV[decode(curr,E.shape[0])] = maxx + E[decode(curr,E.shape[0])]\n",
    "    term_state = (np.argmax(PV[:,-1]),E.shape[1]-1)\n",
    "    test_states = []\n",
    "    test_states.append(term_state[0])\n",
    "    prevs = np.where(V[:,encode(*term_state,E.shape[0])]==1)[0]\n",
    "    while len(prevs)>0:\n",
    "        maxx = 0\n",
    "        pos = 0\n",
    "        for prev in prevs:\n",
    "            if maxx < PV[decode(prev,E.shape[0])]:\n",
    "                maxx = PV[decode(prev,E.shape[0])]\n",
    "                pos = prev\n",
    "        term_state = decode(pos,E.shape[0])\n",
    "        test_states.append(term_state[0])\n",
    "        prevs = np.where(V[:,encode(*term_state,E.shape[0])]==1)[0]\n",
    "    test_states = np.asarray(test_states[::-1])\n",
    "    return test_states"
   ]
  },
  {
   "cell_type": "code",
   "execution_count": 242,
   "metadata": {},
   "outputs": [
    {
     "data": {
      "text/plain": [
       "array([ 1,  1,  1,  1,  1,  1,  2,  3,  3,  3,  3,  3,  3,  3,  3,  4,  4,\n",
       "        4,  5,  5,  5,  5,  6,  6,  6,  6,  6,  6,  7,  8,  8,  8,  8,  8,\n",
       "        9,  9,  9,  9, 10, 10, 10, 11, 12, 12, 12, 12, 12, 12, 12, 13, 14,\n",
       "       14, 14, 14, 14, 14], dtype=int64)"
      ]
     },
     "execution_count": 242,
     "metadata": {},
     "output_type": "execute_result"
    }
   ],
   "source": [
    "graph_sort(kmeans,W_t)"
   ]
  },
  {
   "cell_type": "code",
   "execution_count": null,
   "metadata": {},
   "outputs": [],
   "source": []
  },
  {
   "cell_type": "code",
   "execution_count": null,
   "metadata": {},
   "outputs": [],
   "source": []
  },
  {
   "cell_type": "code",
   "execution_count": null,
   "metadata": {},
   "outputs": [],
   "source": []
  },
  {
   "cell_type": "code",
   "execution_count": null,
   "metadata": {},
   "outputs": [],
   "source": []
  },
  {
   "cell_type": "code",
   "execution_count": null,
   "metadata": {},
   "outputs": [],
   "source": []
  },
  {
   "cell_type": "code",
   "execution_count": null,
   "metadata": {},
   "outputs": [],
   "source": []
  },
  {
   "cell_type": "code",
   "execution_count": null,
   "metadata": {},
   "outputs": [],
   "source": []
  },
  {
   "cell_type": "code",
   "execution_count": null,
   "metadata": {},
   "outputs": [],
   "source": []
  },
  {
   "cell_type": "code",
   "execution_count": null,
   "metadata": {},
   "outputs": [],
   "source": []
  },
  {
   "cell_type": "code",
   "execution_count": null,
   "metadata": {},
   "outputs": [],
   "source": []
  },
  {
   "cell_type": "code",
   "execution_count": null,
   "metadata": {},
   "outputs": [],
   "source": []
  },
  {
   "cell_type": "code",
   "execution_count": null,
   "metadata": {},
   "outputs": [],
   "source": []
  }
 ],
 "metadata": {
  "kernelspec": {
   "display_name": "Python 3",
   "language": "python",
   "name": "python3"
  },
  "language_info": {
   "codemirror_mode": {
    "name": "ipython",
    "version": 3
   },
   "file_extension": ".py",
   "mimetype": "text/x-python",
   "name": "python",
   "nbconvert_exporter": "python",
   "pygments_lexer": "ipython3",
   "version": "3.7.6"
  }
 },
 "nbformat": 4,
 "nbformat_minor": 2
}
