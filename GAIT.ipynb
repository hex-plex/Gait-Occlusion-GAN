{
 "cells": [
  {
   "cell_type": "code",
   "execution_count": 30,
   "metadata": {},
   "outputs": [],
   "source": [
    "import cv2\n",
    "import numpy as np\n",
    "import matplotlib as mpl\n",
    "import matplotlib.pyplot as plt\n",
    "import time"
   ]
  },
  {
   "cell_type": "code",
   "execution_count": 31,
   "metadata": {},
   "outputs": [
    {
     "name": "stdout",
     "output_type": "stream",
     "text": [
      "[Errno 2] No such file or directory: 'GaitDatasetB-silh'\n",
      "/home/hexplex0xff/GAN/GaitDatasetB-silh\n"
     ]
    }
   ],
   "source": [
    "cd GaitDatasetB-silh"
   ]
  },
  {
   "cell_type": "code",
   "execution_count": 32,
   "metadata": {},
   "outputs": [
    {
     "name": "stdout",
     "output_type": "stream",
     "text": [
      "\u001b[0m\u001b[01;34m000\u001b[0m/  \u001b[01;34m018\u001b[0m/  \u001b[01;34m036\u001b[0m/  \u001b[01;34m054\u001b[0m/  \u001b[01;34m072\u001b[0m/  \u001b[01;34m090\u001b[0m/  \u001b[01;34m108\u001b[0m/  \u001b[01;34m126\u001b[0m/  \u001b[01;34m144\u001b[0m/  \u001b[01;34m162\u001b[0m/  \u001b[01;34m180\u001b[0m/\n"
     ]
    }
   ],
   "source": [
    "ls 002/bg-02"
   ]
  },
  {
   "cell_type": "code",
   "execution_count": 33,
   "metadata": {},
   "outputs": [],
   "source": [
    "import os"
   ]
  },
  {
   "cell_type": "code",
   "execution_count": 34,
   "metadata": {},
   "outputs": [],
   "source": [
    "def preprocess(img):\n",
    "    cnt, heir = cv2.findContours(img[:,:,0],cv2.RETR_EXTERNAL,cv2.CHAIN_APPROX_SIMPLE)\n",
    "    if (len(cnt)>0):\n",
    "        x,y,w,h = cv2.boundingRect(cnt[0])\n",
    "        temp = img[y:y+h, x:x+w, 0]\n",
    "        w1 = (h*3)//4\n",
    "        temp = cv2.copyMakeBorder(temp, 0,0, max(w1-w,0)//2, max(w1-w,0)//2, cv2.BORDER_CONSTANT, (0,0,0))\n",
    "        return cv2.resize(temp, (120,160))\n",
    "    else:\n",
    "        return np.zeros((160,120))"
   ]
  },
  {
   "cell_type": "code",
   "execution_count": 35,
   "metadata": {},
   "outputs": [],
   "source": [
    "for file in sorted(os.listdir(os.getcwd()+'/001/nm-01/000/')): \n",
    "    a = preprocess(cv2.imread('001/nm-01/000/'+file))\n",
    "    cv2.imshow('frame',a)\n",
    "    cv2.waitKey(0)\n",
    "cv2.destroyAllWindows()"
   ]
  },
  {
   "cell_type": "code",
   "execution_count": 36,
   "metadata": {},
   "outputs": [],
   "source": [
    "def get_feature_vectors(imgs,k=10):\n",
    "    G = np.vstack(tuple(preprocess(img).reshape(-1).astype(np.float64)/255. for img in imgs))\n",
    "    avg = G.T.mean(axis=1)\n",
    "    A = G.T-avg.reshape(-1,1)\n",
    "    X = A.T@A / A.shape[1]\n",
    "    eigvalue, eigvec = np.linalg.eigh(X)\n",
    "    U = A@eigvec\n",
    "    u = U/np.linalg.norm(U, axis=0)\n",
    "    u_sorted = u[:,np.argsort(eigvalue)[::-1]]\n",
    "    u_k = u_sorted[:,0:k]\n",
    "    W = u_k.T@A\n",
    "    A1 = u_k@W\n",
    "    return W, A1, A, u_k, avg"
   ]
  },
  {
   "cell_type": "code",
   "execution_count": 37,
   "metadata": {},
   "outputs": [],
   "source": [
    "W, A1, A, u_k, avg = get_feature_vectors((cv2.imread('001/bg-02/036/'+file) for file in sorted(os.listdir(os.getcwd()+'/001/bg-02/036'))))"
   ]
  },
  {
   "cell_type": "code",
   "execution_count": 38,
   "metadata": {},
   "outputs": [],
   "source": [
    "def assert_images(X1,X, HEIGHT=160, WIDTH=120):\n",
    "    for i in range(X1.shape[1]):\n",
    "        cv2.imshow('frame',((X1).reshape(WIDTH, HEIGHT, -1)[:,:,i]))\n",
    "        cv2.imshow('frame2',((X).reshape(WIDTH, HEIGHT, -1)[:,:,i]))\n",
    "        cv2.waitKey(0)\n",
    "    cv2.destroyAllWindows()"
   ]
  },
  {
   "cell_type": "code",
   "execution_count": 39,
   "metadata": {},
   "outputs": [],
   "source": [
    "assert_images(A1+avg.reshape(-1,1),A+avg.reshape(-1,1),120,160)"
   ]
  },
  {
   "cell_type": "code",
   "execution_count": 40,
   "metadata": {},
   "outputs": [],
   "source": [
    "class KMeans():\n",
    "    def __init__(self, K = 16):\n",
    "        self.K = K\n",
    "        self.states = [[] for _ in range(self.K)]\n",
    "        self.P = np.zeros((10,self.K))\n",
    "    def fit(self,W):\n",
    "        self.W = W\n",
    "        for j in range(self.W.shape[1]):\n",
    "            self.states[int(j*self.K/self.W.shape[1])].append(j)\n",
    "        for i, state in enumerate(self.states):\n",
    "            self.P[:,i] = self.W[:,state].mean(axis=1)\n",
    "        self.converge()\n",
    "    def converge(self):\n",
    "        changes = 0\n",
    "        while changes < 5 :\n",
    "            prev_states = self.states\n",
    "            for i, state in enumerate(self.states):\n",
    "                self.P[:,i] = self.W[:,state].mean(axis=1)\n",
    "            temp_states = []\n",
    "            for i in range(self.K):\n",
    "                temp_state = []\n",
    "                for j in [max(0,i-1), min(i+1,self.K-1)]:\n",
    "                    if i == j: continue\n",
    "                    for state in self.states[j]:\n",
    "                        if np.linalg.norm(self.W[:,state]-self.P[:,i]) <= np.linalg.norm(self.W[:,state]-self.P[:,j]):\n",
    "                            print(i,j)\n",
    "                            temp_state.append([j,state])\n",
    "                temp_states.append(temp_state)\n",
    "            for i, temp_state in enumerate(temp_states):\n",
    "                temp_state.sort(key=lambda x : -x[1] if x[0]<i else x[0])\n",
    "                for clst, frm in temp_state:\n",
    "                    if clst<i:\n",
    "                        if self.states[clst][-1] == frm and len(self.states[clst])>1:\n",
    "                            self.states[clst].remove(frm)\n",
    "                        else:\n",
    "                            temp_states[i].remove([clst,frm])\n",
    "                    else:\n",
    "                        if self.states[clst][0] == frm and len(self.states[clst])>1:\n",
    "                            self.states[clst].remove(frm)\n",
    "                        else:\n",
    "                            temp_states[i].remove([clst,frm])\n",
    "            for i in range(len(self.states)):\n",
    "                for _, x in temp_states[i]:\n",
    "                    self.states[i].append(x)\n",
    "                self.states[i].sort()\n",
    "            if self.states != prev_states:\n",
    "                changes = 0\n",
    "            else:\n",
    "                changes += 1\n",
    "    def predict(self, W_t):\n",
    "        MV = np.array(tuple(np.linalg.norm(W_t - self.P[:,i:i+1],axis=0) for i in range(self.K)))\n",
    "        MV = 1 - MV / MV.max(axis=0)\n",
    "        return MV"
   ]
  },
  {
   "cell_type": "code",
   "execution_count": 41,
   "metadata": {},
   "outputs": [],
   "source": [
    "kmeans = KMeans(K=16)"
   ]
  },
  {
   "cell_type": "code",
   "execution_count": 42,
   "metadata": {},
   "outputs": [
    {
     "name": "stdout",
     "output_type": "stream",
     "text": [
      "1 2\n",
      "3 2\n",
      "3 4\n",
      "4 5\n",
      "5 6\n",
      "6 5\n",
      "6 7\n",
      "7 6\n",
      "10 11\n",
      "11 12\n",
      "12 13\n",
      "13 12\n",
      "14 15\n",
      "3 4\n",
      "6 7\n",
      "7 8\n",
      "10 11\n",
      "10 11\n",
      "11 10\n",
      "11 10\n",
      "3 4\n",
      "6 7\n",
      "7 6\n",
      "7 8\n",
      "8 9\n",
      "11 10\n",
      "11 10\n",
      "3 4\n",
      "6 7\n",
      "7 6\n",
      "7 8\n",
      "8 9\n",
      "9 10\n",
      "10 11\n",
      "11 10\n",
      "11 10\n",
      "6 5\n",
      "6 7\n",
      "7 6\n",
      "7 8\n",
      "10 11\n",
      "11 10\n"
     ]
    },
    {
     "data": {
      "text/plain": [
       "[[0, 1, 2, 3, 4, 5, 6],\n",
       " [7, 8, 9, 10, 11, 12, 13],\n",
       " [14, 15, 16, 17, 18],\n",
       " [19, 20, 21, 22, 23, 24, 25, 26, 27, 28, 29],\n",
       " [30, 31, 32],\n",
       " [33, 34, 35, 36, 37, 38],\n",
       " [39, 40, 41],\n",
       " [42, 43, 44, 45, 46, 47, 48, 49, 50, 50, 51, 52, 53, 54],\n",
       " [55, 56, 57, 58, 59],\n",
       " [60, 61, 62, 63, 64],\n",
       " [65, 66, 67, 68, 69, 70, 71, 72, 73],\n",
       " [64, 64, 64, 74, 75, 76, 77],\n",
       " [78, 79, 80, 81, 82, 83],\n",
       " [84, 85, 86, 87, 88, 89],\n",
       " [90, 91, 92, 93, 94, 95, 96],\n",
       " [97, 98, 99, 100, 101]]"
      ]
     },
     "execution_count": 42,
     "metadata": {},
     "output_type": "execute_result"
    }
   ],
   "source": [
    "kmeans.fit(W)\n",
    "kmeans.states"
   ]
  },
  {
   "cell_type": "code",
   "execution_count": 43,
   "metadata": {},
   "outputs": [],
   "source": [
    "test_imgs = (cv2.imread('001/nm-01/036/'+file) for file in sorted(os.listdir(os.getcwd()+'/001/nm-01/036')))"
   ]
  },
  {
   "cell_type": "code",
   "execution_count": 44,
   "metadata": {},
   "outputs": [],
   "source": [
    "W_t, A1_t , A_t, _, avg_t = get_feature_vectors(test_imgs)"
   ]
  },
  {
   "cell_type": "code",
   "execution_count": 45,
   "metadata": {},
   "outputs": [],
   "source": [
    "assert_images(A1_t+avg_t.reshape(-1,1), A_t+avg_t.reshape(-1,1), 120, 160)"
   ]
  },
  {
   "cell_type": "code",
   "execution_count": 46,
   "metadata": {},
   "outputs": [],
   "source": [
    "def graph_sort(k_means, W_i,plot=False, A_i=None, avg_i=None):\n",
    "    if plot:\n",
    "        if (A_i is None) or (avg_i is None):\n",
    "            raise Exception('For plot both A_i and avg_i must be passed')\n",
    "    E = k_means.predict(W_i)\n",
    "    V = np.zeros((E.shape[0]*E.shape[1], E.shape[0]*E.shape[1]))\n",
    "    decode = lambda x,k : (x%k,x//k)\n",
    "    encode = lambda i,j,k: j*k + i\n",
    "    for cnt in range(V.shape[0]-E.shape[0]):\n",
    "        i,j = decode(cnt, E.shape[0])\n",
    "        for pos in [(i,j+1),((i+1)%E.shape[0],j+1)]:\n",
    "            V[cnt,encode(*pos, E.shape[0])] = 1    # if V[x][y] == 1 then x->y only\n",
    "    PV = np.zeros_like(E)\n",
    "    for curr in range(V.shape[0]):\n",
    "        maxx = 0\n",
    "        for prev in np.where(V[:,curr]==1)[0]:\n",
    "            temp = PV[decode(prev,E.shape[0])]\n",
    "            if temp>maxx:\n",
    "                maxx = temp\n",
    "        PV[decode(curr,E.shape[0])] = maxx + E[decode(curr,E.shape[0])]\n",
    "    term_state = (np.argmax(PV[:,-1]),E.shape[1]-1)\n",
    "    test_states = []\n",
    "    test_states.append(term_state[0])\n",
    "    prevs = np.where(V[:,encode(*term_state,E.shape[0])]==1)[0]\n",
    "    while len(prevs)>0:\n",
    "        maxx = 0\n",
    "        pos = 0\n",
    "        for prev in prevs:\n",
    "            if maxx < PV[decode(prev,E.shape[0])]:\n",
    "                maxx = PV[decode(prev,E.shape[0])]\n",
    "                pos = prev\n",
    "        term_state = decode(pos,E.shape[0])\n",
    "        test_states.append(term_state[0])\n",
    "        prevs = np.where(V[:,encode(*term_state,E.shape[0])]==1)[0]\n",
    "    test_states = np.asarray(test_states[::-1])\n",
    "    if plot:\n",
    "        cols = 10\n",
    "        rows = (test_states.shape[0]//cols + (1 if test_states.shape[0]%cols>0 else 0))\n",
    "        fig = plt.figure(figsize=(30,40))\n",
    "        imgs = (A_i[:,:]+avg_i.reshape(-1,1)).reshape(160,120,-1)\n",
    "        for i in range(1 , test_states.shape[0]+1):\n",
    "            ax = fig.add_subplot(rows, cols, i)\n",
    "            ax.set_title('key_pose-'+str(test_states[i-1]))\n",
    "            plt.imshow(imgs[:,:,i-1],cmap='gray')\n",
    "        plt.show()\n",
    "    return test_states"
   ]
  },
  {
   "cell_type": "code",
   "execution_count": null,
   "metadata": {},
   "outputs": [],
   "source": [
    "key_pose = graph_sort(kmeans,W_t,True,A_t,avg_t)"
   ]
  },
  {
   "cell_type": "code",
   "execution_count": 48,
   "metadata": {},
   "outputs": [],
   "source": [
    "def display_array(imgs):\n",
    "    sml_axis = np.argmin(imgs.shape)\n",
    "    if sml_axis == 0: imgin = lambda x,i : x[i,:,:]\n",
    "    elif sml_axis == 2: imgin = lambda x,i : x[:,:,i]\n",
    "    else: imgin = lambda x,i : x[:,i,:]\n",
    "    for i in range(imgs.shape[sml_axis]):\n",
    "        cv2.imshow(\"asdf\",imgin(imgs,i) )\n",
    "        cv2.waitKey(0)\n",
    "    cv2.destroyAllWindows()"
   ]
  },
  {
   "cell_type": "code",
   "execution_count": 49,
   "metadata": {},
   "outputs": [],
   "source": [
    "display_array((A_t[:,:]+avg_t.reshape(-1,1)).reshape(160,120,-1))"
   ]
  },
  {
   "cell_type": "code",
   "execution_count": 50,
   "metadata": {},
   "outputs": [],
   "source": [
    "def fetch_p_vec(key_poses,K,A_i,avg_i):\n",
    "    PEI = []\n",
    "    PK = []\n",
    "    for i in range(K):\n",
    "        indicies = np.where(key_poses==i)[0]\n",
    "        PEI.append((A_i[:,indicies]+avg_i.reshape(-1,1)).reshape(160,120,-1).mean(axis=-1))\n",
    "        PK.append(len(indicies)/len(key_poses))\n",
    "    return np.asarray(PEI), np.asarray(PK)"
   ]
  },
  {
   "cell_type": "code",
   "execution_count": 51,
   "metadata": {},
   "outputs": [],
   "source": [
    "PEI, PK = fetch_p_vec(key_pose, kmeans.K, A_t, avg_t)"
   ]
  },
  {
   "cell_type": "code",
   "execution_count": 52,
   "metadata": {},
   "outputs": [],
   "source": [
    "display_array(PEI)"
   ]
  },
  {
   "cell_type": "code",
   "execution_count": null,
   "metadata": {},
   "outputs": [],
   "source": []
  },
  {
   "cell_type": "code",
   "execution_count": 53,
   "metadata": {},
   "outputs": [],
   "source": [
    "test_dataset = []\n",
    "test_preproccessed = []\n",
    "for i in range(10):\n",
    "    direc = str(i+1)\n",
    "    while len(direc)<3:\n",
    "        direc = '0' + direc\n",
    "    for folder in sorted(os.listdir(os.getcwd()+'/'+direc)):\n",
    "        frames = []\n",
    "        pro_frames = []\n",
    "        for file in sorted(os.listdir(os.getcwd()+'/'+direc+'/'+folder+'/036')):\n",
    "            frames.append(cv2.imread(direc+'/'+folder+'/036/'+file))\n",
    "            pro_frames.append(preprocess(cv2.imread(direc+'/'+folder+'/036/'+file)))\n",
    "        test_dataset.append(np.array(frames))\n",
    "        test_preproccessed.append(np.moveaxis(np.array(pro_frames),0,-1))"
   ]
  },
  {
   "cell_type": "code",
   "execution_count": 54,
   "metadata": {
    "jupyter": {
     "source_hidden": true
    }
   },
   "outputs": [
    {
     "name": "stderr",
     "output_type": "stream",
     "text": [
      "/home/hexplex0xff/GAN/gan/lib/python3.6/site-packages/ipykernel_launcher.py:6: RuntimeWarning: Mean of empty slice.\n",
      "  \n"
     ]
    }
   ],
   "source": [
    "PEI_test = []\n",
    "PK_test = []\n",
    "for test_data in test_dataset:\n",
    "    W_t, A1_t , A_t, _, avg_t = get_feature_vectors(test_data)\n",
    "    key_poses = graph_sort(kmeans, W_t)\n",
    "    PEI_t, PK_t = fetch_p_vec(key_poses,kmeans.K, A_t, avg_t)\n",
    "    PEI_test.append(PEI_t.reshape(-1,1))\n",
    "    PK_test.append(PK_t)\n",
    "PEI_test = np.array(PEI_test).reshape(-1, 160*120*kmeans.K)\n",
    "PK_test = np.array(PK_test).reshape(-1, kmeans.K)"
   ]
  },
  {
   "cell_type": "code",
   "execution_count": 55,
   "metadata": {},
   "outputs": [],
   "source": [
    "PEI_mean = PEI_test.mean(axis=0)"
   ]
  },
  {
   "cell_type": "code",
   "execution_count": 56,
   "metadata": {},
   "outputs": [],
   "source": [
    "G = PEI_test - PEI_mean.reshape(1,-1)"
   ]
  },
  {
   "cell_type": "raw",
   "metadata": {},
   "source": []
  },
  {
   "cell_type": "code",
   "execution_count": null,
   "metadata": {},
   "outputs": [],
   "source": []
  },
  {
   "cell_type": "code",
   "execution_count": null,
   "metadata": {},
   "outputs": [],
   "source": []
  },
  {
   "cell_type": "code",
   "execution_count": null,
   "metadata": {},
   "outputs": [],
   "source": []
  },
  {
   "cell_type": "code",
   "execution_count": null,
   "metadata": {},
   "outputs": [],
   "source": []
  },
  {
   "cell_type": "code",
   "execution_count": null,
   "metadata": {},
   "outputs": [],
   "source": []
  },
  {
   "cell_type": "code",
   "execution_count": null,
   "metadata": {},
   "outputs": [],
   "source": []
  },
  {
   "cell_type": "code",
   "execution_count": null,
   "metadata": {},
   "outputs": [],
   "source": [
    "from sklearn.utils.extmath import randomized_svd\n",
    "\n",
    "V,s,U = randomized_svd(PEI_test,n_components=30)"
   ]
  },
  {
   "cell_type": "code",
   "execution_count": null,
   "metadata": {},
   "outputs": [],
   "source": []
  },
  {
   "cell_type": "code",
   "execution_count": null,
   "metadata": {},
   "outputs": [],
   "source": []
  },
  {
   "cell_type": "code",
   "execution_count": null,
   "metadata": {},
   "outputs": [],
   "source": []
  }
 ],
 "metadata": {
  "kernelspec": {
   "display_name": "Python 3",
   "language": "python",
   "name": "python3"
  },
  "language_info": {
   "codemirror_mode": {
    "name": "ipython",
    "version": 3
   },
   "file_extension": ".py",
   "mimetype": "text/x-python",
   "name": "python",
   "nbconvert_exporter": "python",
   "pygments_lexer": "ipython3",
   "version": "3.6.9"
  }
 },
 "nbformat": 4,
 "nbformat_minor": 4
}
