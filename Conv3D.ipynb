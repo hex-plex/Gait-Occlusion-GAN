{
 "metadata": {
  "language_info": {
   "codemirror_mode": {
    "name": "ipython",
    "version": 3
   },
   "file_extension": ".py",
   "mimetype": "text/x-python",
   "name": "python",
   "nbconvert_exporter": "python",
   "pygments_lexer": "ipython3",
   "version": "3.9.5"
  },
  "orig_nbformat": 2,
  "kernelspec": {
   "name": "python395jvsc74a57bd003dd13d48678367c8c9c8d2bc4e4058efaffff37d2a70d9886c86b6aa2328a71",
   "display_name": "Python 3.9.5 64-bit ('myenv': conda)"
  },
  "metadata": {
   "interpreter": {
    "hash": "03dd13d48678367c8c9c8d2bc4e4058efaffff37d2a70d9886c86b6aa2328a71"
   }
  }
 },
 "nbformat": 4,
 "nbformat_minor": 2,
 "cells": [
  {
   "cell_type": "code",
   "execution_count": 1,
   "metadata": {},
   "outputs": [],
   "source": [
    "import torch\n",
    "from torch.autograd import Variable\n",
    "import torch.nn as nn\n",
    "import torch.nn.functional as F\n",
    "from torch.optim import *\n",
    "import numpy as np\n",
    "from tqdm import tqdm\n",
    "import os\n",
    "import matplotlib.pyplot as plt\n",
    "import cv2\n",
    "from gait import *\n",
    "from torch.utils.data import Dataset, DataLoader\n",
    "from torchvision import transforms, utils\n",
    "from angle_keypose import angle_ims"
   ]
  },
  {
   "cell_type": "code",
   "execution_count": 28,
   "metadata": {},
   "outputs": [],
   "source": [
    "# 1,1,3,128,128 => 1-sample/batch_size, 1-channels, 3 - #frames, 128 - height, 128 - width\n",
    "x = torch.rand((8,1,3,120,160))\n",
    "y = torch.rand((1,1,1,64,64))"
   ]
  },
  {
   "cell_type": "code",
   "execution_count": 25,
   "metadata": {},
   "outputs": [],
   "source": [
    "a = images.reshape(images.shape[0],1,images.shape[1],images.shape[2],images.shape[3])"
   ]
  },
  {
   "cell_type": "code",
   "execution_count": 26,
   "metadata": {},
   "outputs": [
    {
     "output_type": "execute_result",
     "data": {
      "text/plain": [
       "(8, 1, 3, 120, 160)"
      ]
     },
     "metadata": {},
     "execution_count": 26
    }
   ],
   "source": [
    "a.shape"
   ]
  },
  {
   "cell_type": "code",
   "execution_count": 23,
   "metadata": {},
   "outputs": [
    {
     "output_type": "execute_result",
     "data": {
      "text/plain": [
       "(8, 3, 120, 160)"
      ]
     },
     "metadata": {},
     "execution_count": 23
    }
   ],
   "source": [
    "images.shape"
   ]
  },
  {
   "cell_type": "code",
   "execution_count": null,
   "metadata": {},
   "outputs": [],
   "source": [
    "x.shape,y.shape"
   ]
  },
  {
   "cell_type": "code",
   "execution_count": 46,
   "metadata": {},
   "outputs": [],
   "source": [
    "class Conv3D(nn.Module):\n",
    "\n",
    "    '''\n",
    "    Performs 3D convolution\n",
    "    '''\n",
    "\n",
    "    def __init__(self):\n",
    "\n",
    "        super(Conv3D, self).__init__()\n",
    "        self.conv1 = self._convblock(1,16,3,3,False)\n",
    "        self.conv2 = self._convblock(16,32,1,3,False)\n",
    "        self.conv3 = self._convblock(32,16,1,3,False)\n",
    "        self.conv4 = self._convblock(16,1,1,3,True)\n",
    "\n",
    "    def _convblock(self,in_channels,out_channels,ksized,ksize,last):\n",
    "        '''\n",
    "        Makes a block of layers (Conv3d,ReLU,Maxpool3d,BatchNorm3d(only if !last))\n",
    "        '''\n",
    "\n",
    "        l1 = nn.Conv3d(in_channels=in_channels,out_channels=out_channels,kernel_size=(ksized,ksize,ksize))\n",
    "        l2 = nn.ReLU()\n",
    "        \n",
    "        if last:\n",
    "            return nn.Sequential(l1,l2)\n",
    "        else:\n",
    "            l3 = nn.MaxPool3d((1, 1, 1))\n",
    "            l4 = nn.BatchNorm3d(out_channels)\n",
    "            return nn.Sequential(l1,l2,l3,l4)\n",
    "        \n",
    "        \n",
    "    def forward(self,x):\n",
    "\n",
    "        out = self.conv1(x)\n",
    "        # out = self.conv2(out)\n",
    "        # out = self.conv3(out)\n",
    "        out = self.conv4(out)\n",
    "\n",
    "        return out\n"
   ]
  },
  {
   "cell_type": "code",
   "execution_count": 47,
   "metadata": {},
   "outputs": [],
   "source": [
    "model = Conv3D()"
   ]
  },
  {
   "cell_type": "code",
   "execution_count": 48,
   "metadata": {},
   "outputs": [
    {
     "output_type": "execute_result",
     "data": {
      "text/plain": [
       "torch.Size([8, 1, 1, 116, 156])"
      ]
     },
     "metadata": {},
     "execution_count": 48
    }
   ],
   "source": [
    "out = model(x)\n",
    "out.shape\n",
    "# out.reshape((8,1,112,152))"
   ]
  },
  {
   "cell_type": "code",
   "execution_count": null,
   "metadata": {},
   "outputs": [],
   "source": []
  },
  {
   "cell_type": "code",
   "execution_count": 42,
   "metadata": {},
   "outputs": [],
   "source": [
    "class PEIData(Dataset):\n",
    "\n",
    "    def __init__(self, angle=0, keypose = 4, data_path='/home/ishikaa/Downloads',transform=None):\n",
    "        \"\"\"\n",
    "        Custom dataset for images of a certain keypose at a given angle.\n",
    "\n",
    "        Args:\n",
    "            angle (int)     : Angle\n",
    "            keypose (int)   : Key-pose/Cluster\n",
    "            data_path (str) : Path where dataset is downloaded\n",
    "        \"\"\"\n",
    "        ds = angle_ims(exp=1,angle=0,keypose = 4,data_path='/home/ishikaa/Downloads')\n",
    "\n",
    "        images = np.empty((len(ds),3,ds[0][0].shape[0]//2,ds[0][0].shape[1]//2))\n",
    "        for i in range(len(ds)):\n",
    "            images[i] = np.asarray([preprocess(im)/255 for im in ds[i]])\n",
    "        images = images.reshape(images.shape[0],1,images.shape[1],images.shape[2],images.shape[3])\n",
    "\n",
    "        #Avg PEI.\n",
    "        self.y = xAnandisahoex\n",
    "\n",
    "    def __len__(self):\n",
    "        return len(self.images)\n",
    "\n",
    "    def __getitem__(self, idx):\n",
    "        single_image_label = self.labels[idx]\n",
    "        single_image = self.images[idx]"
   ]
  },
  {
   "cell_type": "code",
   "execution_count": null,
   "metadata": {},
   "outputs": [],
   "source": []
  },
  {
   "cell_type": "code",
   "execution_count": 2,
   "metadata": {},
   "outputs": [],
   "source": [
    "ds = angle_ims(exp=1,angle=0,keypose = 4,data_path='/home/ishikaa/Downloads')"
   ]
  },
  {
   "cell_type": "code",
   "execution_count": 16,
   "metadata": {},
   "outputs": [
    {
     "output_type": "execute_result",
     "data": {
      "text/plain": [
       "(3, 240, 320, 3)"
      ]
     },
     "metadata": {},
     "execution_count": 16
    }
   ],
   "source": [
    "ds[0].shape"
   ]
  },
  {
   "cell_type": "code",
   "execution_count": 20,
   "metadata": {},
   "outputs": [],
   "source": [
    "images = np.empty((len(ds),3,ds[0][0].shape[0]//2,ds[0][0].shape[1]//2))\n",
    "\n",
    "for i in range(len(ds)):\n",
    "    images[i] = np.asarray([preprocess(im) for im in ds[i]])"
   ]
  },
  {
   "cell_type": "code",
   "execution_count": 15,
   "metadata": {},
   "outputs": [
    {
     "output_type": "execute_result",
     "data": {
      "text/plain": [
       "(3, 240, 320, 3)"
      ]
     },
     "metadata": {},
     "execution_count": 15
    }
   ],
   "source": [
    "images[0].shape"
   ]
  },
  {
   "cell_type": "code",
   "execution_count": 19,
   "metadata": {},
   "outputs": [
    {
     "output_type": "execute_result",
     "data": {
      "text/plain": [
       "(8, 3, 120, 160)"
      ]
     },
     "metadata": {},
     "execution_count": 19
    }
   ],
   "source": [
    "images.reshape"
   ]
  },
  {
   "cell_type": "code",
   "execution_count": null,
   "metadata": {},
   "outputs": [],
   "source": []
  }
 ]
}