{
 "metadata": {
  "language_info": {
   "codemirror_mode": {
    "name": "ipython",
    "version": 3
   },
   "file_extension": ".py",
   "mimetype": "text/x-python",
   "name": "python",
   "nbconvert_exporter": "python",
   "pygments_lexer": "ipython3",
   "version": "3.9.5"
  },
  "orig_nbformat": 2,
  "kernelspec": {
   "name": "python395jvsc74a57bd003dd13d48678367c8c9c8d2bc4e4058efaffff37d2a70d9886c86b6aa2328a71",
   "display_name": "Python 3.9.5 64-bit ('myenv': conda)"
  },
  "metadata": {
   "interpreter": {
    "hash": "03dd13d48678367c8c9c8d2bc4e4058efaffff37d2a70d9886c86b6aa2328a71"
   }
  }
 },
 "nbformat": 4,
 "nbformat_minor": 2,
 "cells": [
  {
   "cell_type": "code",
   "execution_count": 1,
   "metadata": {},
   "outputs": [],
   "source": [
    "import torch\n",
    "from torch.autograd import Variable\n",
    "import torch.nn as nn\n",
    "import torch.nn.functional as F\n",
    "from torch.optim import *\n",
    "import numpy as np\n",
    "from tqdm import tqdm\n",
    "import os\n",
    "import matplotlib.pyplot as plt\n",
    "import cv2\n",
    "from gait import *\n",
    "from torch.utils.data import Dataset, DataLoader\n",
    "from torchvision import transforms, utils\n",
    "import glob"
   ]
  },
  {
   "cell_type": "code",
   "execution_count": 2,
   "metadata": {},
   "outputs": [],
   "source": [
    "# 1,1,3,128,128 => 1-sample/batch_size, 1-channels, 3 - #frames, 128 - height, 128 - width\n",
    "x = torch.rand((1,1,3,120,160))\n",
    "y = torch.rand((1,1,1,64,64))"
   ]
  },
  {
   "cell_type": "code",
   "execution_count": 3,
   "metadata": {},
   "outputs": [
    {
     "output_type": "execute_result",
     "data": {
      "text/plain": [
       "(torch.Size([1, 1, 3, 120, 160]), torch.Size([1, 1, 1, 64, 64]))"
      ]
     },
     "metadata": {},
     "execution_count": 3
    }
   ],
   "source": [
    "x.shape,y.shape"
   ]
  },
  {
   "cell_type": "code",
   "execution_count": 4,
   "metadata": {},
   "outputs": [],
   "source": [
    "class Conv3D(nn.Module):\n",
    "\n",
    "    '''\n",
    "    Performs 3D convolution\n",
    "    '''\n",
    "\n",
    "    def __init__(self):\n",
    "\n",
    "        super(Conv3D, self).__init__()\n",
    "        self.conv1 = self._convblock(1,16,3,3,False)\n",
    "        self.conv2 = self._convblock(16,32,1,3,False)\n",
    "        self.conv3 = self._convblock(32,16,1,3,False)\n",
    "        self.conv4 = self._convblock(16,1,1,3,True)\n",
    "\n",
    "    def _convblock(self,in_channels,out_channels,ksized,ksize,last):\n",
    "        '''\n",
    "        Makes a block of layers (Conv3d,ReLU,Maxpool3d,BatchNorm3d(only if !last))\n",
    "        '''\n",
    "\n",
    "        l1 = nn.Conv3d(in_channels=in_channels,out_channels=out_channels,kernel_size=(ksized,ksize,ksize))\n",
    "        l2 = nn.ReLU()\n",
    "        if last:\n",
    "            return nn.Sequential(l1,l2)\n",
    "        else:\n",
    "            l3 = nn.MaxPool3d((1, 1, 1))\n",
    "            l4 = nn.BatchNorm3d(out_channels)\n",
    "            return nn.Sequential(l1,l2,l3,l4)\n",
    "        \n",
    "        \n",
    "    def forward(self,x):\n",
    "\n",
    "        out = self.conv1(x)\n",
    "        out = self.conv2(out)\n",
    "        out = self.conv3(out)\n",
    "        out = self.conv4(out)\n",
    "\n",
    "        return out\n"
   ]
  },
  {
   "cell_type": "code",
   "execution_count": 5,
   "metadata": {},
   "outputs": [],
   "source": [
    "model = Conv3D()"
   ]
  },
  {
   "cell_type": "code",
   "execution_count": 6,
   "metadata": {},
   "outputs": [
    {
     "output_type": "execute_result",
     "data": {
      "text/plain": [
       "torch.Size([1, 1, 1, 112, 152])"
      ]
     },
     "metadata": {},
     "execution_count": 6
    }
   ],
   "source": [
    "out = model(x)\n",
    "out.shape"
   ]
  },
  {
   "cell_type": "code",
   "execution_count": 7,
   "metadata": {},
   "outputs": [],
   "source": [
    "class PEIData(Dataset):\n",
    "    def __init__(self, csv_file, root_dir, transform=None):\n",
    "        \"\"\"\n",
    "        Args:\n",
    "            csv_file (string): Path to the csv file with annotations.\n",
    "            root_dir (string): Directory with all the images.\n",
    "            transform (callable, optional): Optional transform to be applied\n",
    "                on a sample.\n",
    "        \"\"\"\n",
    "        self.transform = transform\n",
    "\n",
    "    def __len__(self):\n",
    "        return len(self.landmarks_frame)\n",
    "\n",
    "    def __getitem__(self, idx):\n",
    "        if torch.is_tensor(idx):\n",
    "            idx = idx.tolist()\n",
    "    \n",
    "    \n",
    "    \n"
   ]
  },
  {
   "cell_type": "code",
   "execution_count": 8,
   "metadata": {},
   "outputs": [],
   "source": [
    "from get_imfromclus import getims\n"
   ]
  },
  {
   "cell_type": "code",
   "execution_count": 12,
   "metadata": {},
   "outputs": [],
   "source": [
    "paths_4 = getims(cluster=4)"
   ]
  },
  {
   "cell_type": "code",
   "execution_count": 13,
   "metadata": {},
   "outputs": [],
   "source": [
    "paths_4.sort()"
   ]
  },
  {
   "cell_type": "code",
   "execution_count": 14,
   "metadata": {},
   "outputs": [],
   "source": [
    "# for i in range(50):\n",
    "#     cv2.imshow('',cv2.imread(paths_4[i]))\n",
    "#     cv2.waitKey(0)\n",
    "# cv2.destroyAllWindows()"
   ]
  },
  {
   "cell_type": "code",
   "execution_count": 37,
   "metadata": {},
   "outputs": [],
   "source": [
    "# os.chdir('~/Downloads/')\n",
    "dataset = []\n",
    "\n",
    "angles = sorted(os.listdir(os.getcwd()+'/GaitDatasetB-silh/'+ '001' + '/bg-01'))\n",
    "\n",
    "for angle in angles:\n",
    "    images = []\n",
    "    for exp in range(1,2):\n",
    "        exp = f\"{exp:03}\" +  '/'\n",
    "        # print(exp)\n",
    "        for subject in sorted(os.listdir(os.getcwd()+'/GaitDatasetB-silh/'+ exp)):\n",
    "            subject = subject + '/'\n",
    "            # print(subject)\n",
    "            dir1 = os.getcwd()+'/GaitDatasetB-silh/'+exp+subject+angle\n",
    "            mask = [path for path in paths_4 if dir1 in path]\n",
    "            images.append(np.asarray([cv2.imread(file) for file in mask]))\n",
    "            \n",
    "\n",
    "            # images = np.concatenate((a, b), axis=0)\n",
    "    # print(len(images))\n",
    "    # images = [np.concatenate((images[i-1],images[i]),axis=0) for i in range(1,len(images))]\n",
    "    images = np.concatenate(images)\n",
    "    dataset.append(images)"
   ]
  },
  {
   "cell_type": "code",
   "execution_count": 38,
   "metadata": {},
   "outputs": [
    {
     "output_type": "execute_result",
     "data": {
      "text/plain": [
       "11"
      ]
     },
     "metadata": {},
     "execution_count": 38
    }
   ],
   "source": [
    "len(dataset)"
   ]
  },
  {
   "cell_type": "code",
   "execution_count": 41,
   "metadata": {},
   "outputs": [],
   "source": [
    "# for im in dataset[10]:\n",
    "#     cv2.imshow('',im)\n",
    "#     cv2.waitKey(0)\n",
    "# cv2.destroyAllWindows()"
   ]
  }
 ]
}