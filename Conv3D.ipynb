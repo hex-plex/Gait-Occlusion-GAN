{
 "metadata": {
  "language_info": {
   "codemirror_mode": {
    "name": "ipython",
    "version": 3
   },
   "file_extension": ".py",
   "mimetype": "text/x-python",
   "name": "python",
   "nbconvert_exporter": "python",
   "pygments_lexer": "ipython3",
   "version": "3.9.5"
  },
  "orig_nbformat": 2,
  "kernelspec": {
   "name": "python395jvsc74a57bd003dd13d48678367c8c9c8d2bc4e4058efaffff37d2a70d9886c86b6aa2328a71",
   "display_name": "Python 3.9.5 64-bit ('myenv': conda)"
  },
  "metadata": {
   "interpreter": {
    "hash": "03dd13d48678367c8c9c8d2bc4e4058efaffff37d2a70d9886c86b6aa2328a71"
   }
  }
 },
 "nbformat": 4,
 "nbformat_minor": 2,
 "cells": [
  {
   "cell_type": "code",
   "execution_count": 2,
   "metadata": {},
   "outputs": [],
   "source": [
    "import torch\n",
    "from torch.autograd import Variable\n",
    "import torch.nn as nn\n",
    "import torch.nn.functional as F\n",
    "from torch.optim import *\n",
    "import numpy as np\n",
    "from tqdm import tqdm\n",
    "import os\n",
    "import matplotlib.pyplot as plt\n",
    "import cv2\n",
    "from gait import *\n",
    "from torch.utils.data import Dataset, DataLoader\n",
    "from torchvision import transforms, utils\n",
    "from utils import angle_ims, get_device"
   ]
  },
  {
   "cell_type": "code",
   "execution_count": 19,
   "metadata": {},
   "outputs": [],
   "source": [
    "y = np.mean([image for image in images_0_4],axis=0)\n",
    "mean_frame = np.mean([image for image in images_0_4],axis=0)"
   ]
  },
  {
   "cell_type": "code",
   "execution_count": 5,
   "metadata": {},
   "outputs": [],
   "source": [
    "class Conv3D(nn.Module):\n",
    "\n",
    "    '''\n",
    "    Performs 3D convolution\n",
    "    '''\n",
    "\n",
    "    def __init__(self):\n",
    "\n",
    "        super(Conv3D, self).__init__()\n",
    "        self.conv1 = self._convblock(1,16,3,1,False)\n",
    "        self.conv2 = self._convblock(16,32,1,1,False)\n",
    "        self.conv3 = self._convblock(32,16,1,1,False)\n",
    "        self.conv4 = self._convblock(16,1,1,1,True)\n",
    "\n",
    "    def _convblock(self,in_channels,out_channels,ksized,ksize,last):\n",
    "        '''\n",
    "        Makes a block of layers (Conv3d,ReLU,Maxpool3d,BatchNorm3d(only if !last))\n",
    "        '''\n",
    "\n",
    "        l1 = nn.Conv3d(in_channels=in_channels,out_channels=out_channels,kernel_size=(ksized,ksize,ksize))\n",
    "        l2 = nn.ReLU()\n",
    "        \n",
    "        if last:\n",
    "            return nn.Sequential(l1,l2)\n",
    "        else:\n",
    "            l3 = nn.MaxPool3d((1, 1, 1))\n",
    "            l4 = nn.BatchNorm3d(out_channels)\n",
    "            return nn.Sequential(l1,l2,l3,l4)\n",
    "        \n",
    "        \n",
    "    def forward(self,x):\n",
    "\n",
    "        out = self.conv1(x)\n",
    "        out = self.conv2(out)\n",
    "        out = self.conv3(out)\n",
    "        out = self.conv4(out)\n",
    "        \n",
    "        return out\n"
   ]
  },
  {
   "cell_type": "code",
   "execution_count": 6,
   "metadata": {},
   "outputs": [],
   "source": [
    "model = Conv3D()"
   ]
  },
  {
   "cell_type": "code",
   "execution_count": 7,
   "metadata": {},
   "outputs": [
    {
     "output_type": "stream",
     "name": "stdout",
     "text": [
      "cuda:0\n"
     ]
    },
    {
     "output_type": "execute_result",
     "data": {
      "text/plain": [
       "Conv3D(\n",
       "  (conv1): Sequential(\n",
       "    (0): Conv3d(1, 16, kernel_size=(3, 1, 1), stride=(1, 1, 1))\n",
       "    (1): ReLU()\n",
       "    (2): MaxPool3d(kernel_size=(1, 1, 1), stride=(1, 1, 1), padding=0, dilation=1, ceil_mode=False)\n",
       "    (3): BatchNorm3d(16, eps=1e-05, momentum=0.1, affine=True, track_running_stats=True)\n",
       "  )\n",
       "  (conv2): Sequential(\n",
       "    (0): Conv3d(16, 32, kernel_size=(1, 1, 1), stride=(1, 1, 1))\n",
       "    (1): ReLU()\n",
       "    (2): MaxPool3d(kernel_size=(1, 1, 1), stride=(1, 1, 1), padding=0, dilation=1, ceil_mode=False)\n",
       "    (3): BatchNorm3d(32, eps=1e-05, momentum=0.1, affine=True, track_running_stats=True)\n",
       "  )\n",
       "  (conv3): Sequential(\n",
       "    (0): Conv3d(32, 16, kernel_size=(1, 1, 1), stride=(1, 1, 1))\n",
       "    (1): ReLU()\n",
       "    (2): MaxPool3d(kernel_size=(1, 1, 1), stride=(1, 1, 1), padding=0, dilation=1, ceil_mode=False)\n",
       "    (3): BatchNorm3d(16, eps=1e-05, momentum=0.1, affine=True, track_running_stats=True)\n",
       "  )\n",
       "  (conv4): Sequential(\n",
       "    (0): Conv3d(16, 1, kernel_size=(1, 1, 1), stride=(1, 1, 1))\n",
       "    (1): ReLU()\n",
       "  )\n",
       ")"
      ]
     },
     "metadata": {},
     "execution_count": 7
    }
   ],
   "source": [
    "model = Conv3D()\n",
    "device = get_device()\n",
    "print(device)\n",
    "model.to(device)"
   ]
  },
  {
   "cell_type": "code",
   "execution_count": 8,
   "metadata": {},
   "outputs": [],
   "source": [
    "class PEIData(Dataset):\n",
    "\n",
    "    def __init__(self, num_exps,transform=None):\n",
    "        \"\"\"\n",
    "        Custom dataset for images of a certain keypose at a given angle.\n",
    "\n",
    "        Args:\n",
    "            angle (int)     : Angle\n",
    "            keypose (int)   : Key-pose/Cluster\n",
    "            data_path (str) : Path where dataset is downloaded\n",
    "        \"\"\"\n",
    "        \n",
    "        ds = []\n",
    "        for i in range(num_exps):\n",
    "            exp = angle_ims(exp=i+1,angle=0,keypose = 4)\n",
    "            ds = ds + exp\n",
    "\n",
    "        images = np.empty((len(ds),3,ds[0].shape[2]//2,ds[0].shape[1]//2))\n",
    "\n",
    "        for i in range(len(ds)):\n",
    "            images[i] = np.asarray([preprocess(im)/255 for im in ds[i]])\n",
    "        \n",
    "        self.images = images.reshape(images.shape[0],1,images.shape[1],images.shape[2],images.shape[3]).astype('float32')\n",
    "\n",
    "        #Avg PEI after PCA .\n",
    "        # self.y = np.mean([image for image in images_0_4],axis=0)\n",
    "\n",
    "    def __len__(self):\n",
    "        return len(self.images)\n",
    "\n",
    "    def __getitem__(self, idx):\n",
    "        return self.images[idx]"
   ]
  },
  {
   "cell_type": "code",
   "execution_count": 11,
   "metadata": {},
   "outputs": [],
   "source": [
    "data = PEIData(6)"
   ]
  },
  {
   "cell_type": "code",
   "execution_count": 12,
   "metadata": {},
   "outputs": [
    {
     "output_type": "execute_result",
     "data": {
      "text/plain": [
       "33"
      ]
     },
     "metadata": {},
     "execution_count": 12
    }
   ],
   "source": [
    "len(data)"
   ]
  },
  {
   "cell_type": "code",
   "execution_count": null,
   "metadata": {},
   "outputs": [],
   "source": [
    "data[0].shape"
   ]
  },
  {
   "source": [
    "## Training"
   ],
   "cell_type": "markdown",
   "metadata": {}
  },
  {
   "cell_type": "code",
   "execution_count": 20,
   "metadata": {},
   "outputs": [],
   "source": [
    "dl = DataLoader(data, 8, False)\n",
    "#Loss\n",
    "criterion = nn.MSELoss()\n",
    "#Optimizer\n",
    "optimizer = torch.optim.Adam(model.parameters(), lr=0.001)\n",
    "y = torch.from_numpy(y).to(device,dtype=torch.float)"
   ]
  },
  {
   "cell_type": "code",
   "execution_count": 13,
   "metadata": {},
   "outputs": [
    {
     "output_type": "execute_result",
     "data": {
      "text/plain": [
       "dtype('float32')"
      ]
     },
     "metadata": {},
     "execution_count": 13
    }
   ],
   "source": [
    "data[0].dtype"
   ]
  },
  {
   "cell_type": "code",
   "execution_count": 31,
   "metadata": {},
   "outputs": [],
   "source": [
    "n_epochs = 15\n",
    "\n",
    "for epoch in range(1, n_epochs+1):\n",
    "    # monitor training loss\n",
    "    total_loss = 0.0\n",
    "\n",
    "    #Training\n",
    "    for data in dl:\n",
    "        images = data\n",
    "        images = images.to(device)\n",
    "        optimizer.zero_grad()\n",
    "        out = model(images)\n",
    "        batch = out.shape[0]\n",
    "        # print(out.shape[0])\n",
    "        temp = torch.tile(y,(batch,1,1))\n",
    "\n",
    "        temp_out = torch.reshape(out, (out.shape[0],out.shape[3],out.shape[4]))\n",
    "        # print('Outputs: ',temp_out.shape,' Targets shape: ',y.shape)\n",
    "        loss = criterion(temp_out, temp)\n",
    "        loss.backward()\n",
    "        optimizer.step()\n",
    "\n",
    "        total_loss += loss.item()*images.size(0)\n",
    "\n",
    "        del temp\n",
    "          \n",
    "    train_loss = train_loss/len(dl)\n",
    "    print('Epoch: {} \\tTraining Loss: {:.6f}'.format(epoch, train_loss))"
   ]
  },
  {
   "cell_type": "code",
   "execution_count": 30,
   "metadata": {},
   "outputs": [],
   "source": [
    "torch.cuda.empty_cache()"
   ]
  },
  {
   "source": [
    "## CHECK"
   ],
   "cell_type": "markdown",
   "metadata": {}
  },
  {
   "cell_type": "code",
   "execution_count": 45,
   "metadata": {},
   "outputs": [],
   "source": [
    "def ims(img):\n",
    "    plt.imshow(np.transpose(img, (1, 2, 0)),cmap='gray',vmax=1) "
   ]
  },
  {
   "source": [
    "### Only for 2 exps (i.e, 14*3 = 42 images)"
   ],
   "cell_type": "markdown",
   "metadata": {}
  },
  {
   "cell_type": "code",
   "execution_count": 50,
   "metadata": {},
   "outputs": [
    {
     "output_type": "stream",
     "name": "stdout",
     "text": [
      "<class 'torch.Tensor'> torch.Size([2, 1, 3, 160, 120])\noutput:  torch.Size([2, 1, 1, 160, 120])\noutput:  torch.Size([2, 1, 160, 120])\nReconstructed Images\n"
     ]
    },
    {
     "output_type": "display_data",
     "data": {
      "text/plain": "<Figure size 864x288 with 2 Axes>",
      "image/svg+xml": "<?xml version=\"1.0\" encoding=\"utf-8\" standalone=\"no\"?>\n<!DOCTYPE svg PUBLIC \"-//W3C//DTD SVG 1.1//EN\"\n  \"http://www.w3.org/Graphics/SVG/1.1/DTD/svg11.dtd\">\n<!-- Created with matplotlib (https://matplotlib.org/) -->\n<svg height=\"252.317344pt\" version=\"1.1\" viewBox=\"0 0 714.854687 252.317344\" width=\"714.854687pt\" xmlns=\"http://www.w3.org/2000/svg\" xmlns:xlink=\"http://www.w3.org/1999/xlink\">\n <metadata>\n  <rdf:RDF xmlns:cc=\"http://creativecommons.org/ns#\" xmlns:dc=\"http://purl.org/dc/elements/1.1/\" xmlns:rdf=\"http://www.w3.org/1999/02/22-rdf-syntax-ns#\">\n   <cc:Work>\n    <dc:type rdf:resource=\"http://purl.org/dc/dcmitype/StillImage\"/>\n    <dc:date>2021-06-03T16:22:10.698026</dc:date>\n    <dc:format>image/svg+xml</dc:format>\n    <dc:creator>\n     <cc:Agent>\n      <dc:title>Matplotlib v3.3.4, https://matplotlib.org/</dc:title>\n     </cc:Agent>\n    </dc:creator>\n   </cc:Work>\n  </rdf:RDF>\n </metadata>\n <defs>\n  <style type=\"text/css\">*{stroke-linecap:butt;stroke-linejoin:round;}</style>\n </defs>\n <g id=\"figure_1\">\n  <g id=\"patch_1\">\n   <path d=\"M 0 252.317344 \nL 714.854687 252.317344 \nL 714.854687 0 \nL 0 0 \nz\n\" style=\"fill:none;\"/>\n  </g>\n  <g id=\"axes_1\">\n   <g id=\"patch_2\">\n    <path d=\"M 30.103125 228.439219 \nL 699.703125 228.439219 \nL 699.703125 10.999219 \nL 30.103125 10.999219 \nz\n\" style=\"fill:#ffffff;\"/>\n   </g>\n   <g id=\"matplotlib.axis_1\">\n    <g id=\"xtick_1\">\n     <g id=\"line2d_1\">\n      <defs>\n       <path d=\"M 0 0 \nL 0 3.5 \n\" id=\"m71f08ceca0\" style=\"stroke:#000000;stroke-width:0.8;\"/>\n      </defs>\n      <g>\n       <use style=\"stroke:#000000;stroke-width:0.8;\" x=\"30.103125\" xlink:href=\"#m71f08ceca0\" y=\"228.439219\"/>\n      </g>\n     </g>\n     <g id=\"text_1\">\n      <!-- 0.0 -->\n      <g transform=\"translate(22.151563 243.037656)scale(0.1 -0.1)\">\n       <defs>\n        <path d=\"M 31.78125 66.40625 \nQ 24.171875 66.40625 20.328125 58.90625 \nQ 16.5 51.421875 16.5 36.375 \nQ 16.5 21.390625 20.328125 13.890625 \nQ 24.171875 6.390625 31.78125 6.390625 \nQ 39.453125 6.390625 43.28125 13.890625 \nQ 47.125 21.390625 47.125 36.375 \nQ 47.125 51.421875 43.28125 58.90625 \nQ 39.453125 66.40625 31.78125 66.40625 \nz\nM 31.78125 74.21875 \nQ 44.046875 74.21875 50.515625 64.515625 \nQ 56.984375 54.828125 56.984375 36.375 \nQ 56.984375 17.96875 50.515625 8.265625 \nQ 44.046875 -1.421875 31.78125 -1.421875 \nQ 19.53125 -1.421875 13.0625 8.265625 \nQ 6.59375 17.96875 6.59375 36.375 \nQ 6.59375 54.828125 13.0625 64.515625 \nQ 19.53125 74.21875 31.78125 74.21875 \nz\n\" id=\"DejaVuSans-48\"/>\n        <path d=\"M 10.6875 12.40625 \nL 21 12.40625 \nL 21 0 \nL 10.6875 0 \nz\n\" id=\"DejaVuSans-46\"/>\n       </defs>\n       <use xlink:href=\"#DejaVuSans-48\"/>\n       <use x=\"63.623047\" xlink:href=\"#DejaVuSans-46\"/>\n       <use x=\"95.410156\" xlink:href=\"#DejaVuSans-48\"/>\n      </g>\n     </g>\n    </g>\n    <g id=\"xtick_2\">\n     <g id=\"line2d_2\">\n      <g>\n       <use style=\"stroke:#000000;stroke-width:0.8;\" x=\"164.023125\" xlink:href=\"#m71f08ceca0\" y=\"228.439219\"/>\n      </g>\n     </g>\n     <g id=\"text_2\">\n      <!-- 0.2 -->\n      <g transform=\"translate(156.071563 243.037656)scale(0.1 -0.1)\">\n       <defs>\n        <path d=\"M 19.1875 8.296875 \nL 53.609375 8.296875 \nL 53.609375 0 \nL 7.328125 0 \nL 7.328125 8.296875 \nQ 12.9375 14.109375 22.625 23.890625 \nQ 32.328125 33.6875 34.8125 36.53125 \nQ 39.546875 41.84375 41.421875 45.53125 \nQ 43.3125 49.21875 43.3125 52.78125 \nQ 43.3125 58.59375 39.234375 62.25 \nQ 35.15625 65.921875 28.609375 65.921875 \nQ 23.96875 65.921875 18.8125 64.3125 \nQ 13.671875 62.703125 7.8125 59.421875 \nL 7.8125 69.390625 \nQ 13.765625 71.78125 18.9375 73 \nQ 24.125 74.21875 28.421875 74.21875 \nQ 39.75 74.21875 46.484375 68.546875 \nQ 53.21875 62.890625 53.21875 53.421875 \nQ 53.21875 48.921875 51.53125 44.890625 \nQ 49.859375 40.875 45.40625 35.40625 \nQ 44.1875 33.984375 37.640625 27.21875 \nQ 31.109375 20.453125 19.1875 8.296875 \nz\n\" id=\"DejaVuSans-50\"/>\n       </defs>\n       <use xlink:href=\"#DejaVuSans-48\"/>\n       <use x=\"63.623047\" xlink:href=\"#DejaVuSans-46\"/>\n       <use x=\"95.410156\" xlink:href=\"#DejaVuSans-50\"/>\n      </g>\n     </g>\n    </g>\n    <g id=\"xtick_3\">\n     <g id=\"line2d_3\">\n      <g>\n       <use style=\"stroke:#000000;stroke-width:0.8;\" x=\"297.943125\" xlink:href=\"#m71f08ceca0\" y=\"228.439219\"/>\n      </g>\n     </g>\n     <g id=\"text_3\">\n      <!-- 0.4 -->\n      <g transform=\"translate(289.991562 243.037656)scale(0.1 -0.1)\">\n       <defs>\n        <path d=\"M 37.796875 64.3125 \nL 12.890625 25.390625 \nL 37.796875 25.390625 \nz\nM 35.203125 72.90625 \nL 47.609375 72.90625 \nL 47.609375 25.390625 \nL 58.015625 25.390625 \nL 58.015625 17.1875 \nL 47.609375 17.1875 \nL 47.609375 0 \nL 37.796875 0 \nL 37.796875 17.1875 \nL 4.890625 17.1875 \nL 4.890625 26.703125 \nz\n\" id=\"DejaVuSans-52\"/>\n       </defs>\n       <use xlink:href=\"#DejaVuSans-48\"/>\n       <use x=\"63.623047\" xlink:href=\"#DejaVuSans-46\"/>\n       <use x=\"95.410156\" xlink:href=\"#DejaVuSans-52\"/>\n      </g>\n     </g>\n    </g>\n    <g id=\"xtick_4\">\n     <g id=\"line2d_4\">\n      <g>\n       <use style=\"stroke:#000000;stroke-width:0.8;\" x=\"431.863125\" xlink:href=\"#m71f08ceca0\" y=\"228.439219\"/>\n      </g>\n     </g>\n     <g id=\"text_4\">\n      <!-- 0.6 -->\n      <g transform=\"translate(423.911563 243.037656)scale(0.1 -0.1)\">\n       <defs>\n        <path d=\"M 33.015625 40.375 \nQ 26.375 40.375 22.484375 35.828125 \nQ 18.609375 31.296875 18.609375 23.390625 \nQ 18.609375 15.53125 22.484375 10.953125 \nQ 26.375 6.390625 33.015625 6.390625 \nQ 39.65625 6.390625 43.53125 10.953125 \nQ 47.40625 15.53125 47.40625 23.390625 \nQ 47.40625 31.296875 43.53125 35.828125 \nQ 39.65625 40.375 33.015625 40.375 \nz\nM 52.59375 71.296875 \nL 52.59375 62.3125 \nQ 48.875 64.0625 45.09375 64.984375 \nQ 41.3125 65.921875 37.59375 65.921875 \nQ 27.828125 65.921875 22.671875 59.328125 \nQ 17.53125 52.734375 16.796875 39.40625 \nQ 19.671875 43.65625 24.015625 45.921875 \nQ 28.375 48.1875 33.59375 48.1875 \nQ 44.578125 48.1875 50.953125 41.515625 \nQ 57.328125 34.859375 57.328125 23.390625 \nQ 57.328125 12.15625 50.6875 5.359375 \nQ 44.046875 -1.421875 33.015625 -1.421875 \nQ 20.359375 -1.421875 13.671875 8.265625 \nQ 6.984375 17.96875 6.984375 36.375 \nQ 6.984375 53.65625 15.1875 63.9375 \nQ 23.390625 74.21875 37.203125 74.21875 \nQ 40.921875 74.21875 44.703125 73.484375 \nQ 48.484375 72.75 52.59375 71.296875 \nz\n\" id=\"DejaVuSans-54\"/>\n       </defs>\n       <use xlink:href=\"#DejaVuSans-48\"/>\n       <use x=\"63.623047\" xlink:href=\"#DejaVuSans-46\"/>\n       <use x=\"95.410156\" xlink:href=\"#DejaVuSans-54\"/>\n      </g>\n     </g>\n    </g>\n    <g id=\"xtick_5\">\n     <g id=\"line2d_5\">\n      <g>\n       <use style=\"stroke:#000000;stroke-width:0.8;\" x=\"565.783125\" xlink:href=\"#m71f08ceca0\" y=\"228.439219\"/>\n      </g>\n     </g>\n     <g id=\"text_5\">\n      <!-- 0.8 -->\n      <g transform=\"translate(557.831563 243.037656)scale(0.1 -0.1)\">\n       <defs>\n        <path d=\"M 31.78125 34.625 \nQ 24.75 34.625 20.71875 30.859375 \nQ 16.703125 27.09375 16.703125 20.515625 \nQ 16.703125 13.921875 20.71875 10.15625 \nQ 24.75 6.390625 31.78125 6.390625 \nQ 38.8125 6.390625 42.859375 10.171875 \nQ 46.921875 13.96875 46.921875 20.515625 \nQ 46.921875 27.09375 42.890625 30.859375 \nQ 38.875 34.625 31.78125 34.625 \nz\nM 21.921875 38.8125 \nQ 15.578125 40.375 12.03125 44.71875 \nQ 8.5 49.078125 8.5 55.328125 \nQ 8.5 64.0625 14.71875 69.140625 \nQ 20.953125 74.21875 31.78125 74.21875 \nQ 42.671875 74.21875 48.875 69.140625 \nQ 55.078125 64.0625 55.078125 55.328125 \nQ 55.078125 49.078125 51.53125 44.71875 \nQ 48 40.375 41.703125 38.8125 \nQ 48.828125 37.15625 52.796875 32.3125 \nQ 56.78125 27.484375 56.78125 20.515625 \nQ 56.78125 9.90625 50.3125 4.234375 \nQ 43.84375 -1.421875 31.78125 -1.421875 \nQ 19.734375 -1.421875 13.25 4.234375 \nQ 6.78125 9.90625 6.78125 20.515625 \nQ 6.78125 27.484375 10.78125 32.3125 \nQ 14.796875 37.15625 21.921875 38.8125 \nz\nM 18.3125 54.390625 \nQ 18.3125 48.734375 21.84375 45.5625 \nQ 25.390625 42.390625 31.78125 42.390625 \nQ 38.140625 42.390625 41.71875 45.5625 \nQ 45.3125 48.734375 45.3125 54.390625 \nQ 45.3125 60.0625 41.71875 63.234375 \nQ 38.140625 66.40625 31.78125 66.40625 \nQ 25.390625 66.40625 21.84375 63.234375 \nQ 18.3125 60.0625 18.3125 54.390625 \nz\n\" id=\"DejaVuSans-56\"/>\n       </defs>\n       <use xlink:href=\"#DejaVuSans-48\"/>\n       <use x=\"63.623047\" xlink:href=\"#DejaVuSans-46\"/>\n       <use x=\"95.410156\" xlink:href=\"#DejaVuSans-56\"/>\n      </g>\n     </g>\n    </g>\n    <g id=\"xtick_6\">\n     <g id=\"line2d_6\">\n      <g>\n       <use style=\"stroke:#000000;stroke-width:0.8;\" x=\"699.703125\" xlink:href=\"#m71f08ceca0\" y=\"228.439219\"/>\n      </g>\n     </g>\n     <g id=\"text_6\">\n      <!-- 1.0 -->\n      <g transform=\"translate(691.751562 243.037656)scale(0.1 -0.1)\">\n       <defs>\n        <path d=\"M 12.40625 8.296875 \nL 28.515625 8.296875 \nL 28.515625 63.921875 \nL 10.984375 60.40625 \nL 10.984375 69.390625 \nL 28.421875 72.90625 \nL 38.28125 72.90625 \nL 38.28125 8.296875 \nL 54.390625 8.296875 \nL 54.390625 0 \nL 12.40625 0 \nz\n\" id=\"DejaVuSans-49\"/>\n       </defs>\n       <use xlink:href=\"#DejaVuSans-49\"/>\n       <use x=\"63.623047\" xlink:href=\"#DejaVuSans-46\"/>\n       <use x=\"95.410156\" xlink:href=\"#DejaVuSans-48\"/>\n      </g>\n     </g>\n    </g>\n   </g>\n   <g id=\"matplotlib.axis_2\">\n    <g id=\"ytick_1\">\n     <g id=\"line2d_7\">\n      <defs>\n       <path d=\"M 0 0 \nL -3.5 0 \n\" id=\"m981e77d1dc\" style=\"stroke:#000000;stroke-width:0.8;\"/>\n      </defs>\n      <g>\n       <use style=\"stroke:#000000;stroke-width:0.8;\" x=\"30.103125\" xlink:href=\"#m981e77d1dc\" y=\"228.439219\"/>\n      </g>\n     </g>\n     <g id=\"text_7\">\n      <!-- 0.0 -->\n      <g transform=\"translate(7.2 232.238437)scale(0.1 -0.1)\">\n       <use xlink:href=\"#DejaVuSans-48\"/>\n       <use x=\"63.623047\" xlink:href=\"#DejaVuSans-46\"/>\n       <use x=\"95.410156\" xlink:href=\"#DejaVuSans-48\"/>\n      </g>\n     </g>\n    </g>\n    <g id=\"ytick_2\">\n     <g id=\"line2d_8\">\n      <g>\n       <use style=\"stroke:#000000;stroke-width:0.8;\" x=\"30.103125\" xlink:href=\"#m981e77d1dc\" y=\"184.951219\"/>\n      </g>\n     </g>\n     <g id=\"text_8\">\n      <!-- 0.2 -->\n      <g transform=\"translate(7.2 188.750437)scale(0.1 -0.1)\">\n       <use xlink:href=\"#DejaVuSans-48\"/>\n       <use x=\"63.623047\" xlink:href=\"#DejaVuSans-46\"/>\n       <use x=\"95.410156\" xlink:href=\"#DejaVuSans-50\"/>\n      </g>\n     </g>\n    </g>\n    <g id=\"ytick_3\">\n     <g id=\"line2d_9\">\n      <g>\n       <use style=\"stroke:#000000;stroke-width:0.8;\" x=\"30.103125\" xlink:href=\"#m981e77d1dc\" y=\"141.463219\"/>\n      </g>\n     </g>\n     <g id=\"text_9\">\n      <!-- 0.4 -->\n      <g transform=\"translate(7.2 145.262437)scale(0.1 -0.1)\">\n       <use xlink:href=\"#DejaVuSans-48\"/>\n       <use x=\"63.623047\" xlink:href=\"#DejaVuSans-46\"/>\n       <use x=\"95.410156\" xlink:href=\"#DejaVuSans-52\"/>\n      </g>\n     </g>\n    </g>\n    <g id=\"ytick_4\">\n     <g id=\"line2d_10\">\n      <g>\n       <use style=\"stroke:#000000;stroke-width:0.8;\" x=\"30.103125\" xlink:href=\"#m981e77d1dc\" y=\"97.975219\"/>\n      </g>\n     </g>\n     <g id=\"text_10\">\n      <!-- 0.6 -->\n      <g transform=\"translate(7.2 101.774437)scale(0.1 -0.1)\">\n       <use xlink:href=\"#DejaVuSans-48\"/>\n       <use x=\"63.623047\" xlink:href=\"#DejaVuSans-46\"/>\n       <use x=\"95.410156\" xlink:href=\"#DejaVuSans-54\"/>\n      </g>\n     </g>\n    </g>\n    <g id=\"ytick_5\">\n     <g id=\"line2d_11\">\n      <g>\n       <use style=\"stroke:#000000;stroke-width:0.8;\" x=\"30.103125\" xlink:href=\"#m981e77d1dc\" y=\"54.487219\"/>\n      </g>\n     </g>\n     <g id=\"text_11\">\n      <!-- 0.8 -->\n      <g transform=\"translate(7.2 58.286437)scale(0.1 -0.1)\">\n       <use xlink:href=\"#DejaVuSans-48\"/>\n       <use x=\"63.623047\" xlink:href=\"#DejaVuSans-46\"/>\n       <use x=\"95.410156\" xlink:href=\"#DejaVuSans-56\"/>\n      </g>\n     </g>\n    </g>\n    <g id=\"ytick_6\">\n     <g id=\"line2d_12\">\n      <g>\n       <use style=\"stroke:#000000;stroke-width:0.8;\" x=\"30.103125\" xlink:href=\"#m981e77d1dc\" y=\"10.999219\"/>\n      </g>\n     </g>\n     <g id=\"text_12\">\n      <!-- 1.0 -->\n      <g transform=\"translate(7.2 14.798437)scale(0.1 -0.1)\">\n       <use xlink:href=\"#DejaVuSans-49\"/>\n       <use x=\"63.623047\" xlink:href=\"#DejaVuSans-46\"/>\n       <use x=\"95.410156\" xlink:href=\"#DejaVuSans-48\"/>\n      </g>\n     </g>\n    </g>\n   </g>\n   <g id=\"patch_3\">\n    <path d=\"M 30.103125 228.439219 \nL 30.103125 10.999219 \n\" style=\"fill:none;stroke:#000000;stroke-linecap:square;stroke-linejoin:miter;stroke-width:0.8;\"/>\n   </g>\n   <g id=\"patch_4\">\n    <path d=\"M 699.703125 228.439219 \nL 699.703125 10.999219 \n\" style=\"fill:none;stroke:#000000;stroke-linecap:square;stroke-linejoin:miter;stroke-width:0.8;\"/>\n   </g>\n   <g id=\"patch_5\">\n    <path d=\"M 30.103125 228.439219 \nL 699.703125 228.439219 \n\" style=\"fill:none;stroke:#000000;stroke-linecap:square;stroke-linejoin:miter;stroke-width:0.8;\"/>\n   </g>\n   <g id=\"patch_6\">\n    <path d=\"M 30.103125 10.999219 \nL 699.703125 10.999219 \n\" style=\"fill:none;stroke:#000000;stroke-linecap:square;stroke-linejoin:miter;stroke-width:0.8;\"/>\n   </g>\n  </g>\n  <g id=\"axes_2\">\n   <g id=\"patch_7\">\n    <path d=\"M 283.363125 228.439219 \nL 446.443125 228.439219 \nL 446.443125 10.999219 \nL 283.363125 10.999219 \nz\n\" style=\"fill:#ffffff;\"/>\n   </g>\n   <g clip-path=\"url(#pa0bf895dd3)\">\n    <image height=\"218\" id=\"imageebc8d5301d\" transform=\"scale(1 -1)translate(0 -218)\" width=\"164\" x=\"283.363125\" xlink:href=\"data:image/png;base64,\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\" y=\"-10.439219\"/>\n   </g>\n   <g id=\"matplotlib.axis_3\"/>\n   <g id=\"matplotlib.axis_4\"/>\n   <g id=\"patch_8\">\n    <path d=\"M 283.363125 228.439219 \nL 283.363125 10.999219 \n\" style=\"fill:none;stroke:#000000;stroke-linecap:square;stroke-linejoin:miter;stroke-width:0.8;\"/>\n   </g>\n   <g id=\"patch_9\">\n    <path d=\"M 446.443125 228.439219 \nL 446.443125 10.999219 \n\" style=\"fill:none;stroke:#000000;stroke-linecap:square;stroke-linejoin:miter;stroke-width:0.8;\"/>\n   </g>\n   <g id=\"patch_10\">\n    <path d=\"M 283.363125 228.439219 \nL 446.443125 228.439219 \n\" style=\"fill:none;stroke:#000000;stroke-linecap:square;stroke-linejoin:miter;stroke-width:0.8;\"/>\n   </g>\n   <g id=\"patch_11\">\n    <path d=\"M 283.363125 10.999219 \nL 446.443125 10.999219 \n\" style=\"fill:none;stroke:#000000;stroke-linecap:square;stroke-linejoin:miter;stroke-width:0.8;\"/>\n   </g>\n  </g>\n </g>\n <defs>\n  <clipPath id=\"pa0bf895dd3\">\n   <rect height=\"217.44\" width=\"163.08\" x=\"283.363125\" y=\"10.999219\"/>\n  </clipPath>\n </defs>\n</svg>\n",
      "image/png": "[encoded data removed]"
     },
     "metadata": {
      "needs_background": "light"
     }
    }
   ],
   "source": [
    "dataiter = iter(dl)\n",
    "images = dataiter.next()\n",
    "# images = images.to('cpu',dtype=torch.float)\n",
    "print(type(images),images.shape)\n",
    "\n",
    "model = model\n",
    "\n",
    "#Sample outputs\n",
    "output = model(images.to(device=device))\n",
    "print('output: ',output.shape)\n",
    "images = images.numpy()\n",
    "output = output.view(batch, 1, 160, 120)\n",
    "print('output: ',output.shape)\n",
    "output = output.cpu().detach().numpy()\n",
    "out = np.mean([image for image in output],axis=0)\n",
    "\n",
    "#Reconstructed Images\n",
    "print('Reconstructed Images')\n",
    "fig, axes = plt.subplots(nrows=1, ncols=1, sharex=True, sharey=True, figsize=(12,4))\n",
    "for idx in np.arange(1):\n",
    "    ax = fig.add_subplot(1, 1, idx+1, xticks=[], yticks=[])\n",
    "    ims(out)\n",
    "plt.show() "
   ]
  },
  {
   "source": [
    "## USE FOR Y"
   ],
   "cell_type": "markdown",
   "metadata": {}
  },
  {
   "cell_type": "code",
   "execution_count": null,
   "metadata": {},
   "outputs": [],
   "source": [
    "out.max()"
   ]
  },
  {
   "cell_type": "code",
   "execution_count": 53,
   "metadata": {},
   "outputs": [],
   "source": [
    "# cv2.imshow('',mean_frame)\n",
    "# cv2.waitKey(0)\n",
    "# cv2.destroyAllWindows()"
   ]
  },
  {
   "source": [
    "## Encoder testings\n",
    "input:  `<class 'torch.Tensor'> torch.Size([m, 1, 160, 120])`"
   ],
   "cell_type": "markdown",
   "metadata": {}
  },
  {
   "cell_type": "code",
   "execution_count": 16,
   "metadata": {},
   "outputs": [],
   "source": [
    "from encoder import Autoencoder"
   ]
  }
 ]
}