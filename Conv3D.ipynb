{
 "metadata": {
  "language_info": {
   "codemirror_mode": {
    "name": "ipython",
    "version": 3
   },
   "file_extension": ".py",
   "mimetype": "text/x-python",
   "name": "python",
   "nbconvert_exporter": "python",
   "pygments_lexer": "ipython3",
   "version": "3.9.5"
  },
  "orig_nbformat": 2,
  "kernelspec": {
   "name": "python395jvsc74a57bd003dd13d48678367c8c9c8d2bc4e4058efaffff37d2a70d9886c86b6aa2328a71",
   "display_name": "Python 3.9.5 64-bit ('myenv': conda)"
  },
  "metadata": {
   "interpreter": {
    "hash": "03dd13d48678367c8c9c8d2bc4e4058efaffff37d2a70d9886c86b6aa2328a71"
   }
  }
 },
 "nbformat": 4,
 "nbformat_minor": 2,
 "cells": [
  {
   "cell_type": "code",
   "execution_count": 1,
   "metadata": {},
   "outputs": [],
   "source": [
    "import torch\n",
    "from torch.autograd import Variable\n",
    "import torch.nn as nn\n",
    "import torch.nn.functional as F\n",
    "from torch.optim import *\n",
    "import numpy as np\n",
    "# from tqdm import tqdm\n",
    "# import os\n",
    "import matplotlib.pyplot as plt\n",
    "import cv2\n",
    "from gait import preprocess\n",
    "from torch.utils.data import Dataset, DataLoader\n",
    "# from torchvision import transforms, utils\n",
    "from utils import angle_ims, get_device, simple_mean"
   ]
  },
  {
   "cell_type": "code",
   "execution_count": 41,
   "metadata": {},
   "outputs": [],
   "source": [
    "class Fake(nn.Module):\n",
    "\n",
    "    '''\n",
    "    Performs 3D convolution\n",
    "    '''\n",
    "\n",
    "    def __init__(self):\n",
    "\n",
    "        super(Fake, self).__init__()\n",
    "        self.conv1 = self._convblock(1,16,3,1,False)\n",
    "        self.conv2 = self._convblock(16,32,1,1,False)\n",
    "        self.conv3 = self._convblock(32,16,1,1,False)\n",
    "        self.conv4 = self._convblock(16,1,1,1,True)\n",
    "\n",
    "    def _convblock(self,in_channels,out_channels,ksized,ksize,last):\n",
    "        '''\n",
    "        Makes a block of layers (Conv3d,ReLU,Maxpool3d,BatchNorm3d(only if !last))\n",
    "        '''\n",
    "\n",
    "        l1 = nn.Conv3d(in_channels=in_channels,out_channels=out_channels,kernel_size=(ksized,ksize,ksize))\n",
    "        l2 = nn.ReLU()\n",
    "        \n",
    "        if last:\n",
    "            return nn.Sequential(l1,l2)\n",
    "        else:\n",
    "            l3 = nn.MaxPool3d((1, 1, 1))\n",
    "            l4 = nn.BatchNorm3d(out_channels)\n",
    "            return nn.Sequential(l1,l2,l3,l4)\n",
    "        \n",
    "        \n",
    "    def forward(self,x):\n",
    "\n",
    "        out = self.conv1(x)\n",
    "        print(out.shape)\n",
    "        out = self.conv2(out)\n",
    "        print(out.shape)\n",
    "        out = self.conv3(out)\n",
    "        print(out.shape)\n",
    "        out = self.conv4(out)\n",
    "        print(out.shape)\n",
    "        \n",
    "        return out\n"
   ]
  },
  {
   "cell_type": "code",
   "execution_count": 2,
   "metadata": {},
   "outputs": [],
   "source": [
    "class Conv3D(nn.Module):\n",
    "\n",
    "    '''\n",
    "    Performs 3D convolution\n",
    "    '''\n",
    "\n",
    "    def __init__(self):\n",
    "\n",
    "        super(Conv3D, self).__init__()\n",
    "        self.conv1 = self._convblock(1,16,3,1,False)\n",
    "        self.conv2 = self._convblock(16,32,1,1,False)\n",
    "        self.conv3 = self._convblock(32,16,1,1,False)\n",
    "        self.conv4 = self._convblock(16,1,1,1,True)\n",
    "\n",
    "    def _convblock(self,in_channels,out_channels,ksized,ksize,last):\n",
    "        '''\n",
    "        Makes a block of layers (Conv3d,ReLU,Maxpool3d,BatchNorm3d(only if !last))\n",
    "        '''\n",
    "\n",
    "        l1 = nn.Conv3d(in_channels=in_channels,out_channels=out_channels,kernel_size=(ksized,ksize,ksize))\n",
    "        l2 = nn.ReLU()\n",
    "        \n",
    "        if last:\n",
    "            return nn.Sequential(l1,l2)\n",
    "        else:\n",
    "            l3 = nn.MaxPool3d((1, 1, 1))\n",
    "            l4 = nn.BatchNorm3d(out_channels)\n",
    "            return nn.Sequential(l1,l2,l3,l4)\n",
    "        \n",
    "        \n",
    "    def forward(self,x):\n",
    "\n",
    "        out = self.conv1(x)\n",
    "        out = self.conv2(out)\n",
    "        out = self.conv3(out)\n",
    "        out = self.conv4(out)\n",
    "        \n",
    "        return out\n"
   ]
  },
  {
   "cell_type": "code",
   "execution_count": 49,
   "metadata": {},
   "outputs": [
    {
     "output_type": "stream",
     "name": "stdout",
     "text": [
      "cuda:0\n"
     ]
    },
    {
     "output_type": "execute_result",
     "data": {
      "text/plain": [
       "Conv3D(\n",
       "  (conv1): Sequential(\n",
       "    (0): Conv3d(1, 16, kernel_size=(3, 1, 1), stride=(1, 1, 1))\n",
       "    (1): ReLU()\n",
       "    (2): MaxPool3d(kernel_size=(1, 1, 1), stride=(1, 1, 1), padding=0, dilation=1, ceil_mode=False)\n",
       "    (3): BatchNorm3d(16, eps=1e-05, momentum=0.1, affine=True, track_running_stats=True)\n",
       "  )\n",
       "  (conv2): Sequential(\n",
       "    (0): Conv3d(16, 32, kernel_size=(1, 1, 1), stride=(1, 1, 1))\n",
       "    (1): ReLU()\n",
       "    (2): MaxPool3d(kernel_size=(1, 1, 1), stride=(1, 1, 1), padding=0, dilation=1, ceil_mode=False)\n",
       "    (3): BatchNorm3d(32, eps=1e-05, momentum=0.1, affine=True, track_running_stats=True)\n",
       "  )\n",
       "  (conv3): Sequential(\n",
       "    (0): Conv3d(32, 16, kernel_size=(1, 1, 1), stride=(1, 1, 1))\n",
       "    (1): ReLU()\n",
       "    (2): MaxPool3d(kernel_size=(1, 1, 1), stride=(1, 1, 1), padding=0, dilation=1, ceil_mode=False)\n",
       "    (3): BatchNorm3d(16, eps=1e-05, momentum=0.1, affine=True, track_running_stats=True)\n",
       "  )\n",
       "  (conv4): Sequential(\n",
       "    (0): Conv3d(16, 1, kernel_size=(1, 1, 1), stride=(1, 1, 1))\n",
       "    (1): ReLU()\n",
       "  )\n",
       ")"
      ]
     },
     "metadata": {},
     "execution_count": 49
    }
   ],
   "source": [
    "model = Conv3D()\n",
    "device = get_device()\n",
    "print(device)\n",
    "model.to(device)"
   ]
  },
  {
   "cell_type": "code",
   "execution_count": 4,
   "metadata": {},
   "outputs": [],
   "source": [
    "class PEI(Dataset):\n",
    "\n",
    "    def __init__(self, num_exps,transform=None):\n",
    "        \"\"\"\n",
    "        Custom dataset for images of a certain keypose at a given angle.\n",
    "\n",
    "        Args:\n",
    "            angle (int)     : Angle\n",
    "            keypose (int)   : Key-pose/Cluster\n",
    "            data_path (str) : Path where dataset is downloaded\n",
    "        \"\"\"\n",
    "        \n",
    "        self.ds = [] #Paths to all images d[0]=> subject 1  (len = num of frames for it)\n",
    "        for i in range(num_exps):\n",
    "            exp = angle_ims(exp=i+1,angle=0,keypose = 4)\n",
    "            self.ds = self.ds + exp\n",
    "\n",
    "        \n",
    "\n",
    "    def __len__(self):\n",
    "\n",
    "        return len(self.ds)\n",
    "\n",
    "    def __getitem__(self, idx):\n",
    "\n",
    "        frames = np.asarray([preprocess(cv2.imread(im))/255. for im in self.ds[idx]])\n",
    "        y = np.mean([image for image in frames],axis=0)\n",
    "        \n",
    "        \n",
    "        return frames.reshape(1,frames.shape[0],frames.shape[1],frames.shape[2]).astype('float32'),y.astype('float32')"
   ]
  },
  {
   "cell_type": "code",
   "execution_count": 5,
   "metadata": {},
   "outputs": [],
   "source": [
    "data = PEI(10)"
   ]
  },
  {
   "cell_type": "code",
   "execution_count": 7,
   "metadata": {},
   "outputs": [],
   "source": [
    "dl = DataLoader(data,batch_size=1)"
   ]
  },
  {
   "source": [
    "## Training"
   ],
   "cell_type": "markdown",
   "metadata": {}
  },
  {
   "cell_type": "code",
   "execution_count": 46,
   "metadata": {},
   "outputs": [],
   "source": [
    "#Loss\n",
    "criterion = nn.MSELoss()\n",
    "#Optimizer\n",
    "optimizer = torch.optim.Adam(model.parameters(), lr=0.005)\n",
    "# y = torch.from_numpy(simple_mean(angle=0,cluster=4)).to(device,dtype=torch.float)"
   ]
  },
  {
   "cell_type": "code",
   "execution_count": 47,
   "metadata": {},
   "outputs": [
    {
     "output_type": "stream",
     "name": "stdout",
     "text": [
      "Epoch: 1 \tTraining Loss: 0.024481\n",
      "Epoch: 2 \tTraining Loss: 0.002151\n",
      "Epoch: 3 \tTraining Loss: 0.001438\n",
      "Epoch: 4 \tTraining Loss: 0.001329\n",
      "Epoch: 5 \tTraining Loss: 0.001227\n",
      "Epoch: 6 \tTraining Loss: 0.001200\n",
      "Epoch: 7 \tTraining Loss: 0.001156\n"
     ]
    }
   ],
   "source": [
    "#Epochs\n",
    "n_epochs = 7\n",
    "\n",
    "for epoch in range(1, n_epochs+1):\n",
    "    # monitor training loss\n",
    "    train_loss = 0.0\n",
    "\n",
    "    #Training\n",
    "    for images,y in dl:\n",
    "        images,y = images.cuda(), y.cuda()\n",
    "        optimizer.zero_grad()\n",
    "\n",
    "        out = model(images)\n",
    "        temp_out = torch.reshape(out, (out.shape[0],out.shape[3],out.shape[4]))\n",
    "        loss = criterion(temp_out, y)\n",
    "        loss.backward()\n",
    "        optimizer.step()\n",
    "        train_loss += loss.item()\n",
    "          \n",
    "    train_loss = train_loss/len(dl)\n",
    "    print('Epoch: {} \\tTraining Loss: {:.6f}'.format(epoch, train_loss))"
   ]
  },
  {
   "cell_type": "code",
   "execution_count": 18,
   "metadata": {},
   "outputs": [],
   "source": [
    "torch.cuda.empty_cache()"
   ]
  },
  {
   "source": [
    "## CHECK"
   ],
   "cell_type": "markdown",
   "metadata": {}
  },
  {
   "cell_type": "code",
   "execution_count": 19,
   "metadata": {},
   "outputs": [],
   "source": [
    "def ims(img):\n",
    "    plt.imshow(np.transpose(img, (1, 2, 0)),cmap='gray',vmax=1) "
   ]
  },
  {
   "source": [
    "### 10 exps (i.e, 53*3 = 159 images)"
   ],
   "cell_type": "markdown",
   "metadata": {}
  },
  {
   "cell_type": "code",
   "execution_count": 21,
   "metadata": {},
   "outputs": [
    {
     "output_type": "execute_result",
     "data": {
      "text/plain": [
       "53"
      ]
     },
     "metadata": {},
     "execution_count": 21
    }
   ],
   "source": [
    "len(data)"
   ]
  },
  {
   "cell_type": "code",
   "execution_count": 48,
   "metadata": {},
   "outputs": [
    {
     "output_type": "stream",
     "name": "stdout",
     "text": [
      "(3, 160, 120)\n"
     ]
    },
    {
     "output_type": "display_data",
     "data": {
      "text/plain": "<Figure size 864x288 with 2 Axes>",
      "image/svg+xml": "<?xml version=\"1.0\" encoding=\"utf-8\" standalone=\"no\"?>\n<!DOCTYPE svg PUBLIC \"-//W3C//DTD SVG 1.1//EN\"\n  \"http://www.w3.org/Graphics/SVG/1.1/DTD/svg11.dtd\">\n<!-- Created with matplotlib (https://matplotlib.org/) -->\n<svg height=\"263.63625pt\" version=\"1.1\" viewBox=\"0 0 568.803864 263.63625\" width=\"568.803864pt\" xmlns=\"http://www.w3.org/2000/svg\" xmlns:xlink=\"http://www.w3.org/1999/xlink\">\n <metadata>\n  <rdf:RDF xmlns:cc=\"http://creativecommons.org/ns#\" xmlns:dc=\"http://purl.org/dc/elements/1.1/\" xmlns:rdf=\"http://www.w3.org/1999/02/22-rdf-syntax-ns#\">\n   <cc:Work>\n    <dc:type rdf:resource=\"http://purl.org/dc/dcmitype/StillImage\"/>\n    <dc:date>2021-06-06T00:54:53.290227</dc:date>\n    <dc:format>image/svg+xml</dc:format>\n    <dc:creator>\n     <cc:Agent>\n      <dc:title>Matplotlib v3.3.4, https://matplotlib.org/</dc:title>\n     </cc:Agent>\n    </dc:creator>\n   </cc:Work>\n  </rdf:RDF>\n </metadata>\n <defs>\n  <style type=\"text/css\">*{stroke-linecap:butt;stroke-linejoin:round;}</style>\n </defs>\n <g id=\"figure_1\">\n  <g id=\"patch_1\">\n   <path d=\"M 0 263.63625 \nL 568.803864 263.63625 \nL 568.803864 0 \nL 0 0 \nz\n\" style=\"fill:none;\"/>\n  </g>\n  <g id=\"axes_1\">\n   <g id=\"patch_2\">\n    <path d=\"M 33.2875 239.758125 \nL 196.3675 239.758125 \nL 196.3675 22.318125 \nL 33.2875 22.318125 \nz\n\" style=\"fill:#ffffff;\"/>\n   </g>\n   <g clip-path=\"url(#pc4799d0c49)\">\n    <image height=\"218\" id=\"image0dd3b4ebcd\" transform=\"scale(1 -1)translate(0 -218)\" width=\"164\" x=\"33.2875\" xlink:href=\"data:image/png;base64,\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\" y=\"-21.758125\"/>\n   </g>\n   <g id=\"matplotlib.axis_1\">\n    <g id=\"xtick_1\">\n     <g id=\"line2d_1\">\n      <defs>\n       <path d=\"M 0 0 \nL 0 3.5 \n\" id=\"m86d85c107b\" style=\"stroke:#000000;stroke-width:0.8;\"/>\n      </defs>\n      <g>\n       <use style=\"stroke:#000000;stroke-width:0.8;\" x=\"33.967\" xlink:href=\"#m86d85c107b\" y=\"239.758125\"/>\n      </g>\n     </g>\n     <g id=\"text_1\">\n      <!-- 0 -->\n      <g transform=\"translate(30.78575 254.356563)scale(0.1 -0.1)\">\n       <defs>\n        <path d=\"M 31.78125 66.40625 \nQ 24.171875 66.40625 20.328125 58.90625 \nQ 16.5 51.421875 16.5 36.375 \nQ 16.5 21.390625 20.328125 13.890625 \nQ 24.171875 6.390625 31.78125 6.390625 \nQ 39.453125 6.390625 43.28125 13.890625 \nQ 47.125 21.390625 47.125 36.375 \nQ 47.125 51.421875 43.28125 58.90625 \nQ 39.453125 66.40625 31.78125 66.40625 \nz\nM 31.78125 74.21875 \nQ 44.046875 74.21875 50.515625 64.515625 \nQ 56.984375 54.828125 56.984375 36.375 \nQ 56.984375 17.96875 50.515625 8.265625 \nQ 44.046875 -1.421875 31.78125 -1.421875 \nQ 19.53125 -1.421875 13.0625 8.265625 \nQ 6.59375 17.96875 6.59375 36.375 \nQ 6.59375 54.828125 13.0625 64.515625 \nQ 19.53125 74.21875 31.78125 74.21875 \nz\n\" id=\"DejaVuSans-48\"/>\n       </defs>\n       <use xlink:href=\"#DejaVuSans-48\"/>\n      </g>\n     </g>\n    </g>\n    <g id=\"xtick_2\">\n     <g id=\"line2d_2\">\n      <g>\n       <use style=\"stroke:#000000;stroke-width:0.8;\" x=\"67.942\" xlink:href=\"#m86d85c107b\" y=\"239.758125\"/>\n      </g>\n     </g>\n     <g id=\"text_2\">\n      <!-- 25 -->\n      <g transform=\"translate(61.5795 254.356563)scale(0.1 -0.1)\">\n       <defs>\n        <path d=\"M 19.1875 8.296875 \nL 53.609375 8.296875 \nL 53.609375 0 \nL 7.328125 0 \nL 7.328125 8.296875 \nQ 12.9375 14.109375 22.625 23.890625 \nQ 32.328125 33.6875 34.8125 36.53125 \nQ 39.546875 41.84375 41.421875 45.53125 \nQ 43.3125 49.21875 43.3125 52.78125 \nQ 43.3125 58.59375 39.234375 62.25 \nQ 35.15625 65.921875 28.609375 65.921875 \nQ 23.96875 65.921875 18.8125 64.3125 \nQ 13.671875 62.703125 7.8125 59.421875 \nL 7.8125 69.390625 \nQ 13.765625 71.78125 18.9375 73 \nQ 24.125 74.21875 28.421875 74.21875 \nQ 39.75 74.21875 46.484375 68.546875 \nQ 53.21875 62.890625 53.21875 53.421875 \nQ 53.21875 48.921875 51.53125 44.890625 \nQ 49.859375 40.875 45.40625 35.40625 \nQ 44.1875 33.984375 37.640625 27.21875 \nQ 31.109375 20.453125 19.1875 8.296875 \nz\n\" id=\"DejaVuSans-50\"/>\n        <path d=\"M 10.796875 72.90625 \nL 49.515625 72.90625 \nL 49.515625 64.59375 \nL 19.828125 64.59375 \nL 19.828125 46.734375 \nQ 21.96875 47.46875 24.109375 47.828125 \nQ 26.265625 48.1875 28.421875 48.1875 \nQ 40.625 48.1875 47.75 41.5 \nQ 54.890625 34.8125 54.890625 23.390625 \nQ 54.890625 11.625 47.5625 5.09375 \nQ 40.234375 -1.421875 26.90625 -1.421875 \nQ 22.3125 -1.421875 17.546875 -0.640625 \nQ 12.796875 0.140625 7.71875 1.703125 \nL 7.71875 11.625 \nQ 12.109375 9.234375 16.796875 8.0625 \nQ 21.484375 6.890625 26.703125 6.890625 \nQ 35.15625 6.890625 40.078125 11.328125 \nQ 45.015625 15.765625 45.015625 23.390625 \nQ 45.015625 31 40.078125 35.4375 \nQ 35.15625 39.890625 26.703125 39.890625 \nQ 22.75 39.890625 18.8125 39.015625 \nQ 14.890625 38.140625 10.796875 36.28125 \nz\n\" id=\"DejaVuSans-53\"/>\n       </defs>\n       <use xlink:href=\"#DejaVuSans-50\"/>\n       <use x=\"63.623047\" xlink:href=\"#DejaVuSans-53\"/>\n      </g>\n     </g>\n    </g>\n    <g id=\"xtick_3\">\n     <g id=\"line2d_3\">\n      <g>\n       <use style=\"stroke:#000000;stroke-width:0.8;\" x=\"101.917\" xlink:href=\"#m86d85c107b\" y=\"239.758125\"/>\n      </g>\n     </g>\n     <g id=\"text_3\">\n      <!-- 50 -->\n      <g transform=\"translate(95.5545 254.356563)scale(0.1 -0.1)\">\n       <use xlink:href=\"#DejaVuSans-53\"/>\n       <use x=\"63.623047\" xlink:href=\"#DejaVuSans-48\"/>\n      </g>\n     </g>\n    </g>\n    <g id=\"xtick_4\">\n     <g id=\"line2d_4\">\n      <g>\n       <use style=\"stroke:#000000;stroke-width:0.8;\" x=\"135.892\" xlink:href=\"#m86d85c107b\" y=\"239.758125\"/>\n      </g>\n     </g>\n     <g id=\"text_4\">\n      <!-- 75 -->\n      <g transform=\"translate(129.5295 254.356563)scale(0.1 -0.1)\">\n       <defs>\n        <path d=\"M 8.203125 72.90625 \nL 55.078125 72.90625 \nL 55.078125 68.703125 \nL 28.609375 0 \nL 18.3125 0 \nL 43.21875 64.59375 \nL 8.203125 64.59375 \nz\n\" id=\"DejaVuSans-55\"/>\n       </defs>\n       <use xlink:href=\"#DejaVuSans-55\"/>\n       <use x=\"63.623047\" xlink:href=\"#DejaVuSans-53\"/>\n      </g>\n     </g>\n    </g>\n    <g id=\"xtick_5\">\n     <g id=\"line2d_5\">\n      <g>\n       <use style=\"stroke:#000000;stroke-width:0.8;\" x=\"169.867\" xlink:href=\"#m86d85c107b\" y=\"239.758125\"/>\n      </g>\n     </g>\n     <g id=\"text_5\">\n      <!-- 100 -->\n      <g transform=\"translate(160.32325 254.356563)scale(0.1 -0.1)\">\n       <defs>\n        <path d=\"M 12.40625 8.296875 \nL 28.515625 8.296875 \nL 28.515625 63.921875 \nL 10.984375 60.40625 \nL 10.984375 69.390625 \nL 28.421875 72.90625 \nL 38.28125 72.90625 \nL 38.28125 8.296875 \nL 54.390625 8.296875 \nL 54.390625 0 \nL 12.40625 0 \nz\n\" id=\"DejaVuSans-49\"/>\n       </defs>\n       <use xlink:href=\"#DejaVuSans-49\"/>\n       <use x=\"63.623047\" xlink:href=\"#DejaVuSans-48\"/>\n       <use x=\"127.246094\" xlink:href=\"#DejaVuSans-48\"/>\n      </g>\n     </g>\n    </g>\n   </g>\n   <g id=\"matplotlib.axis_2\">\n    <g id=\"ytick_1\">\n     <g id=\"line2d_6\">\n      <defs>\n       <path d=\"M 0 0 \nL -3.5 0 \n\" id=\"m08281e9356\" style=\"stroke:#000000;stroke-width:0.8;\"/>\n      </defs>\n      <g>\n       <use style=\"stroke:#000000;stroke-width:0.8;\" x=\"33.2875\" xlink:href=\"#m08281e9356\" y=\"22.997625\"/>\n      </g>\n     </g>\n     <g id=\"text_6\">\n      <!-- 0 -->\n      <g transform=\"translate(19.925 26.796844)scale(0.1 -0.1)\">\n       <use xlink:href=\"#DejaVuSans-48\"/>\n      </g>\n     </g>\n    </g>\n    <g id=\"ytick_2\">\n     <g id=\"line2d_7\">\n      <g>\n       <use style=\"stroke:#000000;stroke-width:0.8;\" x=\"33.2875\" xlink:href=\"#m08281e9356\" y=\"50.177625\"/>\n      </g>\n     </g>\n     <g id=\"text_7\">\n      <!-- 20 -->\n      <g transform=\"translate(13.5625 53.976844)scale(0.1 -0.1)\">\n       <use xlink:href=\"#DejaVuSans-50\"/>\n       <use x=\"63.623047\" xlink:href=\"#DejaVuSans-48\"/>\n      </g>\n     </g>\n    </g>\n    <g id=\"ytick_3\">\n     <g id=\"line2d_8\">\n      <g>\n       <use style=\"stroke:#000000;stroke-width:0.8;\" x=\"33.2875\" xlink:href=\"#m08281e9356\" y=\"77.357625\"/>\n      </g>\n     </g>\n     <g id=\"text_8\">\n      <!-- 40 -->\n      <g transform=\"translate(13.5625 81.156844)scale(0.1 -0.1)\">\n       <defs>\n        <path d=\"M 37.796875 64.3125 \nL 12.890625 25.390625 \nL 37.796875 25.390625 \nz\nM 35.203125 72.90625 \nL 47.609375 72.90625 \nL 47.609375 25.390625 \nL 58.015625 25.390625 \nL 58.015625 17.1875 \nL 47.609375 17.1875 \nL 47.609375 0 \nL 37.796875 0 \nL 37.796875 17.1875 \nL 4.890625 17.1875 \nL 4.890625 26.703125 \nz\n\" id=\"DejaVuSans-52\"/>\n       </defs>\n       <use xlink:href=\"#DejaVuSans-52\"/>\n       <use x=\"63.623047\" xlink:href=\"#DejaVuSans-48\"/>\n      </g>\n     </g>\n    </g>\n    <g id=\"ytick_4\">\n     <g id=\"line2d_9\">\n      <g>\n       <use style=\"stroke:#000000;stroke-width:0.8;\" x=\"33.2875\" xlink:href=\"#m08281e9356\" y=\"104.537625\"/>\n      </g>\n     </g>\n     <g id=\"text_9\">\n      <!-- 60 -->\n      <g transform=\"translate(13.5625 108.336844)scale(0.1 -0.1)\">\n       <defs>\n        <path d=\"M 33.015625 40.375 \nQ 26.375 40.375 22.484375 35.828125 \nQ 18.609375 31.296875 18.609375 23.390625 \nQ 18.609375 15.53125 22.484375 10.953125 \nQ 26.375 6.390625 33.015625 6.390625 \nQ 39.65625 6.390625 43.53125 10.953125 \nQ 47.40625 15.53125 47.40625 23.390625 \nQ 47.40625 31.296875 43.53125 35.828125 \nQ 39.65625 40.375 33.015625 40.375 \nz\nM 52.59375 71.296875 \nL 52.59375 62.3125 \nQ 48.875 64.0625 45.09375 64.984375 \nQ 41.3125 65.921875 37.59375 65.921875 \nQ 27.828125 65.921875 22.671875 59.328125 \nQ 17.53125 52.734375 16.796875 39.40625 \nQ 19.671875 43.65625 24.015625 45.921875 \nQ 28.375 48.1875 33.59375 48.1875 \nQ 44.578125 48.1875 50.953125 41.515625 \nQ 57.328125 34.859375 57.328125 23.390625 \nQ 57.328125 12.15625 50.6875 5.359375 \nQ 44.046875 -1.421875 33.015625 -1.421875 \nQ 20.359375 -1.421875 13.671875 8.265625 \nQ 6.984375 17.96875 6.984375 36.375 \nQ 6.984375 53.65625 15.1875 63.9375 \nQ 23.390625 74.21875 37.203125 74.21875 \nQ 40.921875 74.21875 44.703125 73.484375 \nQ 48.484375 72.75 52.59375 71.296875 \nz\n\" id=\"DejaVuSans-54\"/>\n       </defs>\n       <use xlink:href=\"#DejaVuSans-54\"/>\n       <use x=\"63.623047\" xlink:href=\"#DejaVuSans-48\"/>\n      </g>\n     </g>\n    </g>\n    <g id=\"ytick_5\">\n     <g id=\"line2d_10\">\n      <g>\n       <use style=\"stroke:#000000;stroke-width:0.8;\" x=\"33.2875\" xlink:href=\"#m08281e9356\" y=\"131.717625\"/>\n      </g>\n     </g>\n     <g id=\"text_10\">\n      <!-- 80 -->\n      <g transform=\"translate(13.5625 135.516844)scale(0.1 -0.1)\">\n       <defs>\n        <path d=\"M 31.78125 34.625 \nQ 24.75 34.625 20.71875 30.859375 \nQ 16.703125 27.09375 16.703125 20.515625 \nQ 16.703125 13.921875 20.71875 10.15625 \nQ 24.75 6.390625 31.78125 6.390625 \nQ 38.8125 6.390625 42.859375 10.171875 \nQ 46.921875 13.96875 46.921875 20.515625 \nQ 46.921875 27.09375 42.890625 30.859375 \nQ 38.875 34.625 31.78125 34.625 \nz\nM 21.921875 38.8125 \nQ 15.578125 40.375 12.03125 44.71875 \nQ 8.5 49.078125 8.5 55.328125 \nQ 8.5 64.0625 14.71875 69.140625 \nQ 20.953125 74.21875 31.78125 74.21875 \nQ 42.671875 74.21875 48.875 69.140625 \nQ 55.078125 64.0625 55.078125 55.328125 \nQ 55.078125 49.078125 51.53125 44.71875 \nQ 48 40.375 41.703125 38.8125 \nQ 48.828125 37.15625 52.796875 32.3125 \nQ 56.78125 27.484375 56.78125 20.515625 \nQ 56.78125 9.90625 50.3125 4.234375 \nQ 43.84375 -1.421875 31.78125 -1.421875 \nQ 19.734375 -1.421875 13.25 4.234375 \nQ 6.78125 9.90625 6.78125 20.515625 \nQ 6.78125 27.484375 10.78125 32.3125 \nQ 14.796875 37.15625 21.921875 38.8125 \nz\nM 18.3125 54.390625 \nQ 18.3125 48.734375 21.84375 45.5625 \nQ 25.390625 42.390625 31.78125 42.390625 \nQ 38.140625 42.390625 41.71875 45.5625 \nQ 45.3125 48.734375 45.3125 54.390625 \nQ 45.3125 60.0625 41.71875 63.234375 \nQ 38.140625 66.40625 31.78125 66.40625 \nQ 25.390625 66.40625 21.84375 63.234375 \nQ 18.3125 60.0625 18.3125 54.390625 \nz\n\" id=\"DejaVuSans-56\"/>\n       </defs>\n       <use xlink:href=\"#DejaVuSans-56\"/>\n       <use x=\"63.623047\" xlink:href=\"#DejaVuSans-48\"/>\n      </g>\n     </g>\n    </g>\n    <g id=\"ytick_6\">\n     <g id=\"line2d_11\">\n      <g>\n       <use style=\"stroke:#000000;stroke-width:0.8;\" x=\"33.2875\" xlink:href=\"#m08281e9356\" y=\"158.897625\"/>\n      </g>\n     </g>\n     <g id=\"text_11\">\n      <!-- 100 -->\n      <g transform=\"translate(7.2 162.696844)scale(0.1 -0.1)\">\n       <use xlink:href=\"#DejaVuSans-49\"/>\n       <use x=\"63.623047\" xlink:href=\"#DejaVuSans-48\"/>\n       <use x=\"127.246094\" xlink:href=\"#DejaVuSans-48\"/>\n      </g>\n     </g>\n    </g>\n    <g id=\"ytick_7\">\n     <g id=\"line2d_12\">\n      <g>\n       <use style=\"stroke:#000000;stroke-width:0.8;\" x=\"33.2875\" xlink:href=\"#m08281e9356\" y=\"186.077625\"/>\n      </g>\n     </g>\n     <g id=\"text_12\">\n      <!-- 120 -->\n      <g transform=\"translate(7.2 189.876844)scale(0.1 -0.1)\">\n       <use xlink:href=\"#DejaVuSans-49\"/>\n       <use x=\"63.623047\" xlink:href=\"#DejaVuSans-50\"/>\n       <use x=\"127.246094\" xlink:href=\"#DejaVuSans-48\"/>\n      </g>\n     </g>\n    </g>\n    <g id=\"ytick_8\">\n     <g id=\"line2d_13\">\n      <g>\n       <use style=\"stroke:#000000;stroke-width:0.8;\" x=\"33.2875\" xlink:href=\"#m08281e9356\" y=\"213.257625\"/>\n      </g>\n     </g>\n     <g id=\"text_13\">\n      <!-- 140 -->\n      <g transform=\"translate(7.2 217.056844)scale(0.1 -0.1)\">\n       <use xlink:href=\"#DejaVuSans-49\"/>\n       <use x=\"63.623047\" xlink:href=\"#DejaVuSans-52\"/>\n       <use x=\"127.246094\" xlink:href=\"#DejaVuSans-48\"/>\n      </g>\n     </g>\n    </g>\n   </g>\n   <g id=\"patch_3\">\n    <path d=\"M 33.2875 239.758125 \nL 33.2875 22.318125 \n\" style=\"fill:none;stroke:#000000;stroke-linecap:square;stroke-linejoin:miter;stroke-width:0.8;\"/>\n   </g>\n   <g id=\"patch_4\">\n    <path d=\"M 196.3675 239.758125 \nL 196.3675 22.318125 \n\" style=\"fill:none;stroke:#000000;stroke-linecap:square;stroke-linejoin:miter;stroke-width:0.8;\"/>\n   </g>\n   <g id=\"patch_5\">\n    <path d=\"M 33.2875 239.758125 \nL 196.3675 239.758125 \n\" style=\"fill:none;stroke:#000000;stroke-linecap:square;stroke-linejoin:miter;stroke-width:0.8;\"/>\n   </g>\n   <g id=\"patch_6\">\n    <path d=\"M 33.2875 22.318125 \nL 196.3675 22.318125 \n\" style=\"fill:none;stroke:#000000;stroke-linecap:square;stroke-linejoin:miter;stroke-width:0.8;\"/>\n   </g>\n   <g id=\"text_14\">\n    <!-- Model -->\n    <g transform=\"translate(96.811563 16.318125)scale(0.12 -0.12)\">\n     <defs>\n      <path d=\"M 9.8125 72.90625 \nL 24.515625 72.90625 \nL 43.109375 23.296875 \nL 61.8125 72.90625 \nL 76.515625 72.90625 \nL 76.515625 0 \nL 66.890625 0 \nL 66.890625 64.015625 \nL 48.09375 14.015625 \nL 38.1875 14.015625 \nL 19.390625 64.015625 \nL 19.390625 0 \nL 9.8125 0 \nz\n\" id=\"DejaVuSans-77\"/>\n      <path d=\"M 30.609375 48.390625 \nQ 23.390625 48.390625 19.1875 42.75 \nQ 14.984375 37.109375 14.984375 27.296875 \nQ 14.984375 17.484375 19.15625 11.84375 \nQ 23.34375 6.203125 30.609375 6.203125 \nQ 37.796875 6.203125 41.984375 11.859375 \nQ 46.1875 17.53125 46.1875 27.296875 \nQ 46.1875 37.015625 41.984375 42.703125 \nQ 37.796875 48.390625 30.609375 48.390625 \nz\nM 30.609375 56 \nQ 42.328125 56 49.015625 48.375 \nQ 55.71875 40.765625 55.71875 27.296875 \nQ 55.71875 13.875 49.015625 6.21875 \nQ 42.328125 -1.421875 30.609375 -1.421875 \nQ 18.84375 -1.421875 12.171875 6.21875 \nQ 5.515625 13.875 5.515625 27.296875 \nQ 5.515625 40.765625 12.171875 48.375 \nQ 18.84375 56 30.609375 56 \nz\n\" id=\"DejaVuSans-111\"/>\n      <path d=\"M 45.40625 46.390625 \nL 45.40625 75.984375 \nL 54.390625 75.984375 \nL 54.390625 0 \nL 45.40625 0 \nL 45.40625 8.203125 \nQ 42.578125 3.328125 38.25 0.953125 \nQ 33.9375 -1.421875 27.875 -1.421875 \nQ 17.96875 -1.421875 11.734375 6.484375 \nQ 5.515625 14.40625 5.515625 27.296875 \nQ 5.515625 40.1875 11.734375 48.09375 \nQ 17.96875 56 27.875 56 \nQ 33.9375 56 38.25 53.625 \nQ 42.578125 51.265625 45.40625 46.390625 \nz\nM 14.796875 27.296875 \nQ 14.796875 17.390625 18.875 11.75 \nQ 22.953125 6.109375 30.078125 6.109375 \nQ 37.203125 6.109375 41.296875 11.75 \nQ 45.40625 17.390625 45.40625 27.296875 \nQ 45.40625 37.203125 41.296875 42.84375 \nQ 37.203125 48.484375 30.078125 48.484375 \nQ 22.953125 48.484375 18.875 42.84375 \nQ 14.796875 37.203125 14.796875 27.296875 \nz\n\" id=\"DejaVuSans-100\"/>\n      <path d=\"M 56.203125 29.59375 \nL 56.203125 25.203125 \nL 14.890625 25.203125 \nQ 15.484375 15.921875 20.484375 11.0625 \nQ 25.484375 6.203125 34.421875 6.203125 \nQ 39.59375 6.203125 44.453125 7.46875 \nQ 49.3125 8.734375 54.109375 11.28125 \nL 54.109375 2.78125 \nQ 49.265625 0.734375 44.1875 -0.34375 \nQ 39.109375 -1.421875 33.890625 -1.421875 \nQ 20.796875 -1.421875 13.15625 6.1875 \nQ 5.515625 13.8125 5.515625 26.8125 \nQ 5.515625 40.234375 12.765625 48.109375 \nQ 20.015625 56 32.328125 56 \nQ 43.359375 56 49.78125 48.890625 \nQ 56.203125 41.796875 56.203125 29.59375 \nz\nM 47.21875 32.234375 \nQ 47.125 39.59375 43.09375 43.984375 \nQ 39.0625 48.390625 32.421875 48.390625 \nQ 24.90625 48.390625 20.390625 44.140625 \nQ 15.875 39.890625 15.1875 32.171875 \nz\n\" id=\"DejaVuSans-101\"/>\n      <path d=\"M 9.421875 75.984375 \nL 18.40625 75.984375 \nL 18.40625 0 \nL 9.421875 0 \nz\n\" id=\"DejaVuSans-108\"/>\n     </defs>\n     <use xlink:href=\"#DejaVuSans-77\"/>\n     <use x=\"86.279297\" xlink:href=\"#DejaVuSans-111\"/>\n     <use x=\"147.460938\" xlink:href=\"#DejaVuSans-100\"/>\n     <use x=\"210.9375\" xlink:href=\"#DejaVuSans-101\"/>\n     <use x=\"272.460938\" xlink:href=\"#DejaVuSans-108\"/>\n    </g>\n   </g>\n  </g>\n  <g id=\"axes_2\">\n   <g id=\"patch_7\">\n    <path d=\"M 398.523864 239.758125 \nL 561.603864 239.758125 \nL 561.603864 22.318125 \nL 398.523864 22.318125 \nz\n\" style=\"fill:#ffffff;\"/>\n   </g>\n   <g clip-path=\"url(#p7a91ef2523)\">\n    <image height=\"218\" id=\"image1df79db044\" transform=\"scale(1 -1)translate(0 -218)\" width=\"164\" x=\"398.523864\" xlink:href=\"data:image/png;base64,\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\" y=\"-21.758125\"/>\n   </g>\n   <g id=\"matplotlib.axis_3\">\n    <g id=\"xtick_6\">\n     <g id=\"line2d_14\">\n      <g>\n       <use style=\"stroke:#000000;stroke-width:0.8;\" x=\"399.203364\" xlink:href=\"#m86d85c107b\" y=\"239.758125\"/>\n      </g>\n     </g>\n     <g id=\"text_15\">\n      <!-- 0 -->\n      <g transform=\"translate(396.022114 254.356563)scale(0.1 -0.1)\">\n       <use xlink:href=\"#DejaVuSans-48\"/>\n      </g>\n     </g>\n    </g>\n    <g id=\"xtick_7\">\n     <g id=\"line2d_15\">\n      <g>\n       <use style=\"stroke:#000000;stroke-width:0.8;\" x=\"433.178364\" xlink:href=\"#m86d85c107b\" y=\"239.758125\"/>\n      </g>\n     </g>\n     <g id=\"text_16\">\n      <!-- 25 -->\n      <g transform=\"translate(426.815864 254.356563)scale(0.1 -0.1)\">\n       <use xlink:href=\"#DejaVuSans-50\"/>\n       <use x=\"63.623047\" xlink:href=\"#DejaVuSans-53\"/>\n      </g>\n     </g>\n    </g>\n    <g id=\"xtick_8\">\n     <g id=\"line2d_16\">\n      <g>\n       <use style=\"stroke:#000000;stroke-width:0.8;\" x=\"467.153364\" xlink:href=\"#m86d85c107b\" y=\"239.758125\"/>\n      </g>\n     </g>\n     <g id=\"text_17\">\n      <!-- 50 -->\n      <g transform=\"translate(460.790864 254.356563)scale(0.1 -0.1)\">\n       <use xlink:href=\"#DejaVuSans-53\"/>\n       <use x=\"63.623047\" xlink:href=\"#DejaVuSans-48\"/>\n      </g>\n     </g>\n    </g>\n    <g id=\"xtick_9\">\n     <g id=\"line2d_17\">\n      <g>\n       <use style=\"stroke:#000000;stroke-width:0.8;\" x=\"501.128364\" xlink:href=\"#m86d85c107b\" y=\"239.758125\"/>\n      </g>\n     </g>\n     <g id=\"text_18\">\n      <!-- 75 -->\n      <g transform=\"translate(494.765864 254.356563)scale(0.1 -0.1)\">\n       <use xlink:href=\"#DejaVuSans-55\"/>\n       <use x=\"63.623047\" xlink:href=\"#DejaVuSans-53\"/>\n      </g>\n     </g>\n    </g>\n    <g id=\"xtick_10\">\n     <g id=\"line2d_18\">\n      <g>\n       <use style=\"stroke:#000000;stroke-width:0.8;\" x=\"535.103364\" xlink:href=\"#m86d85c107b\" y=\"239.758125\"/>\n      </g>\n     </g>\n     <g id=\"text_19\">\n      <!-- 100 -->\n      <g transform=\"translate(525.559614 254.356563)scale(0.1 -0.1)\">\n       <use xlink:href=\"#DejaVuSans-49\"/>\n       <use x=\"63.623047\" xlink:href=\"#DejaVuSans-48\"/>\n       <use x=\"127.246094\" xlink:href=\"#DejaVuSans-48\"/>\n      </g>\n     </g>\n    </g>\n   </g>\n   <g id=\"matplotlib.axis_4\">\n    <g id=\"ytick_9\">\n     <g id=\"line2d_19\">\n      <g>\n       <use style=\"stroke:#000000;stroke-width:0.8;\" x=\"398.523864\" xlink:href=\"#m08281e9356\" y=\"22.997625\"/>\n      </g>\n     </g>\n    </g>\n    <g id=\"ytick_10\">\n     <g id=\"line2d_20\">\n      <g>\n       <use style=\"stroke:#000000;stroke-width:0.8;\" x=\"398.523864\" xlink:href=\"#m08281e9356\" y=\"50.177625\"/>\n      </g>\n     </g>\n    </g>\n    <g id=\"ytick_11\">\n     <g id=\"line2d_21\">\n      <g>\n       <use style=\"stroke:#000000;stroke-width:0.8;\" x=\"398.523864\" xlink:href=\"#m08281e9356\" y=\"77.357625\"/>\n      </g>\n     </g>\n    </g>\n    <g id=\"ytick_12\">\n     <g id=\"line2d_22\">\n      <g>\n       <use style=\"stroke:#000000;stroke-width:0.8;\" x=\"398.523864\" xlink:href=\"#m08281e9356\" y=\"104.537625\"/>\n      </g>\n     </g>\n    </g>\n    <g id=\"ytick_13\">\n     <g id=\"line2d_23\">\n      <g>\n       <use style=\"stroke:#000000;stroke-width:0.8;\" x=\"398.523864\" xlink:href=\"#m08281e9356\" y=\"131.717625\"/>\n      </g>\n     </g>\n    </g>\n    <g id=\"ytick_14\">\n     <g id=\"line2d_24\">\n      <g>\n       <use style=\"stroke:#000000;stroke-width:0.8;\" x=\"398.523864\" xlink:href=\"#m08281e9356\" y=\"158.897625\"/>\n      </g>\n     </g>\n    </g>\n    <g id=\"ytick_15\">\n     <g id=\"line2d_25\">\n      <g>\n       <use style=\"stroke:#000000;stroke-width:0.8;\" x=\"398.523864\" xlink:href=\"#m08281e9356\" y=\"186.077625\"/>\n      </g>\n     </g>\n    </g>\n    <g id=\"ytick_16\">\n     <g id=\"line2d_26\">\n      <g>\n       <use style=\"stroke:#000000;stroke-width:0.8;\" x=\"398.523864\" xlink:href=\"#m08281e9356\" y=\"213.257625\"/>\n      </g>\n     </g>\n    </g>\n   </g>\n   <g id=\"patch_8\">\n    <path d=\"M 398.523864 239.758125 \nL 398.523864 22.318125 \n\" style=\"fill:none;stroke:#000000;stroke-linecap:square;stroke-linejoin:miter;stroke-width:0.8;\"/>\n   </g>\n   <g id=\"patch_9\">\n    <path d=\"M 561.603864 239.758125 \nL 561.603864 22.318125 \n\" style=\"fill:none;stroke:#000000;stroke-linecap:square;stroke-linejoin:miter;stroke-width:0.8;\"/>\n   </g>\n   <g id=\"patch_10\">\n    <path d=\"M 398.523864 239.758125 \nL 561.603864 239.758125 \n\" style=\"fill:none;stroke:#000000;stroke-linecap:square;stroke-linejoin:miter;stroke-width:0.8;\"/>\n   </g>\n   <g id=\"patch_11\">\n    <path d=\"M 398.523864 22.318125 \nL 561.603864 22.318125 \n\" style=\"fill:none;stroke:#000000;stroke-linecap:square;stroke-linejoin:miter;stroke-width:0.8;\"/>\n   </g>\n   <g id=\"text_20\">\n    <!-- Average -->\n    <g transform=\"translate(455.424489 16.318125)scale(0.12 -0.12)\">\n     <defs>\n      <path d=\"M 34.1875 63.1875 \nL 20.796875 26.90625 \nL 47.609375 26.90625 \nz\nM 28.609375 72.90625 \nL 39.796875 72.90625 \nL 67.578125 0 \nL 57.328125 0 \nL 50.6875 18.703125 \nL 17.828125 18.703125 \nL 11.1875 0 \nL 0.78125 0 \nz\n\" id=\"DejaVuSans-65\"/>\n      <path d=\"M 2.984375 54.6875 \nL 12.5 54.6875 \nL 29.59375 8.796875 \nL 46.6875 54.6875 \nL 56.203125 54.6875 \nL 35.6875 0 \nL 23.484375 0 \nz\n\" id=\"DejaVuSans-118\"/>\n      <path d=\"M 41.109375 46.296875 \nQ 39.59375 47.171875 37.8125 47.578125 \nQ 36.03125 48 33.890625 48 \nQ 26.265625 48 22.1875 43.046875 \nQ 18.109375 38.09375 18.109375 28.8125 \nL 18.109375 0 \nL 9.078125 0 \nL 9.078125 54.6875 \nL 18.109375 54.6875 \nL 18.109375 46.1875 \nQ 20.953125 51.171875 25.484375 53.578125 \nQ 30.03125 56 36.53125 56 \nQ 37.453125 56 38.578125 55.875 \nQ 39.703125 55.765625 41.0625 55.515625 \nz\n\" id=\"DejaVuSans-114\"/>\n      <path d=\"M 34.28125 27.484375 \nQ 23.390625 27.484375 19.1875 25 \nQ 14.984375 22.515625 14.984375 16.5 \nQ 14.984375 11.71875 18.140625 8.90625 \nQ 21.296875 6.109375 26.703125 6.109375 \nQ 34.1875 6.109375 38.703125 11.40625 \nQ 43.21875 16.703125 43.21875 25.484375 \nL 43.21875 27.484375 \nz\nM 52.203125 31.203125 \nL 52.203125 0 \nL 43.21875 0 \nL 43.21875 8.296875 \nQ 40.140625 3.328125 35.546875 0.953125 \nQ 30.953125 -1.421875 24.3125 -1.421875 \nQ 15.921875 -1.421875 10.953125 3.296875 \nQ 6 8.015625 6 15.921875 \nQ 6 25.140625 12.171875 29.828125 \nQ 18.359375 34.515625 30.609375 34.515625 \nL 43.21875 34.515625 \nL 43.21875 35.40625 \nQ 43.21875 41.609375 39.140625 45 \nQ 35.0625 48.390625 27.6875 48.390625 \nQ 23 48.390625 18.546875 47.265625 \nQ 14.109375 46.140625 10.015625 43.890625 \nL 10.015625 52.203125 \nQ 14.9375 54.109375 19.578125 55.046875 \nQ 24.21875 56 28.609375 56 \nQ 40.484375 56 46.34375 49.84375 \nQ 52.203125 43.703125 52.203125 31.203125 \nz\n\" id=\"DejaVuSans-97\"/>\n      <path d=\"M 45.40625 27.984375 \nQ 45.40625 37.75 41.375 43.109375 \nQ 37.359375 48.484375 30.078125 48.484375 \nQ 22.859375 48.484375 18.828125 43.109375 \nQ 14.796875 37.75 14.796875 27.984375 \nQ 14.796875 18.265625 18.828125 12.890625 \nQ 22.859375 7.515625 30.078125 7.515625 \nQ 37.359375 7.515625 41.375 12.890625 \nQ 45.40625 18.265625 45.40625 27.984375 \nz\nM 54.390625 6.78125 \nQ 54.390625 -7.171875 48.1875 -13.984375 \nQ 42 -20.796875 29.203125 -20.796875 \nQ 24.46875 -20.796875 20.265625 -20.09375 \nQ 16.0625 -19.390625 12.109375 -17.921875 \nL 12.109375 -9.1875 \nQ 16.0625 -11.328125 19.921875 -12.34375 \nQ 23.78125 -13.375 27.78125 -13.375 \nQ 36.625 -13.375 41.015625 -8.765625 \nQ 45.40625 -4.15625 45.40625 5.171875 \nL 45.40625 9.625 \nQ 42.625 4.78125 38.28125 2.390625 \nQ 33.9375 0 27.875 0 \nQ 17.828125 0 11.671875 7.65625 \nQ 5.515625 15.328125 5.515625 27.984375 \nQ 5.515625 40.671875 11.671875 48.328125 \nQ 17.828125 56 27.875 56 \nQ 33.9375 56 38.28125 53.609375 \nQ 42.625 51.21875 45.40625 46.390625 \nL 45.40625 54.6875 \nL 54.390625 54.6875 \nz\n\" id=\"DejaVuSans-103\"/>\n     </defs>\n     <use xlink:href=\"#DejaVuSans-65\"/>\n     <use x=\"62.533203\" xlink:href=\"#DejaVuSans-118\"/>\n     <use x=\"121.712891\" xlink:href=\"#DejaVuSans-101\"/>\n     <use x=\"183.236328\" xlink:href=\"#DejaVuSans-114\"/>\n     <use x=\"224.349609\" xlink:href=\"#DejaVuSans-97\"/>\n     <use x=\"285.628906\" xlink:href=\"#DejaVuSans-103\"/>\n     <use x=\"349.105469\" xlink:href=\"#DejaVuSans-101\"/>\n    </g>\n   </g>\n  </g>\n </g>\n <defs>\n  <clipPath id=\"pc4799d0c49\">\n   <rect height=\"217.44\" width=\"163.08\" x=\"33.2875\" y=\"22.318125\"/>\n  </clipPath>\n  <clipPath id=\"p7a91ef2523\">\n   <rect height=\"217.44\" width=\"163.08\" x=\"398.523864\" y=\"22.318125\"/>\n  </clipPath>\n </defs>\n</svg>\n",
      "image/png": "[encoded data removed]"
     },
     "metadata": {
      "needs_background": "light"
     }
    }
   ],
   "source": [
    "dataiter = iter(dl)\n",
    "images,_ = dataiter.next()\n",
    "# images = images.to('cpu',dtype=torch.float)\n",
    "# print(type(images),images.shape)\n",
    "\n",
    "#Sample outputs\n",
    "output = model(images.to(device=device))\n",
    "images = images.cpu().numpy().reshape(3,160,120)\n",
    "output = output.view(160, 120)\n",
    "output = output.cpu().detach().numpy()\n",
    "out = np.mean([image for image in images],axis=0)\n",
    "print(images.shape)\n",
    "\n",
    "#Reconstructed Images\n",
    "fig, axes = plt.subplots(nrows=1, ncols=2, sharex=True, sharey=True, figsize=(12,4))\n",
    "axes[0].imshow(output,cmap='gray',vmin=0,vmax=1)\n",
    "axes[0].set_title('Model')\n",
    "axes[1].imshow(out,cmap='gray',vmin=0,vmax=1)\n",
    "axes[1].set_title('Average')\n",
    "plt.show() \n",
    "# plt.show() "
   ]
  },
  {
   "cell_type": "code",
   "execution_count": null,
   "metadata": {},
   "outputs": [],
   "source": []
  }
 ]
}